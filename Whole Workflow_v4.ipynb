{
 "cells": [
  {
   "cell_type": "markdown",
   "id": "d5d71fbd",
   "metadata": {},
   "source": [
    "# TODOs"
   ]
  },
  {
   "cell_type": "markdown",
   "id": "5445581f",
   "metadata": {},
   "source": [
    "1. Data Generation:\n",
    "    - numerical data generation - improvements in distribution ***DONE***\n",
    "    - business rules adjustments (only after numerical data generation is fixed)\n",
    "    - check the distribution of each numerical feature of the merged data ***DONE***\n",
    "    - categorical data - add a check (with Kolmogorov Smirnov or another one) that tells you if the distribution of the synthetic data is ok - ***DONE***\n",
    "    - Marchev added pers_exp as a categorical column; it also exists in the numerical cols. Our task is to first generate the distribution (and values) for this column (assuming normal distribution) and based on it generate the rest.\n",
    "<br>\n",
    "<br>\n",
    "2. Feature Engineering:\n",
    "    - Generate new features (**custom made**, statistical) - ***Girls***\n",
    "    - Balance data \n",
    "        - research other methods beside SMOTE; **Multiclass problems handling - should we resample for each target class individually or not. Describe all possible prediction scenarious** - ***ALL***\n",
    "<br>\n",
    "<br>\n",
    "3. Feature Selection \n",
    "    - research methods for numerical and categorical feature selections\n",
    "<br>\n",
    "<br>\n",
    "4. Modeling:\n",
    "    - try different models - with at least 5k examples!!! \n",
    "        - black box and explainable ones\n",
    "    - visualizations - compare performances\n",
    "    - try to explain the black box models (OPTIONAL)\n",
    "    - hyperparam optimization (OPTIONAL)"
   ]
  },
  {
   "cell_type": "markdown",
   "id": "553b783b",
   "metadata": {},
   "source": [
    "# Inputs and tools"
   ]
  },
  {
   "cell_type": "markdown",
   "id": "bd05fea7",
   "metadata": {},
   "source": [
    "## Imports"
   ]
  },
  {
   "cell_type": "code",
   "execution_count": null,
   "id": "9844e263",
   "metadata": {
    "ExecuteTime": {
     "end_time": "2023-07-22T18:14:11.050775Z",
     "start_time": "2023-07-22T18:14:07.574567Z"
    },
    "scrolled": false
   },
   "outputs": [],
   "source": [
    "import pandas as pd\n",
    "import numpy as np\n",
    "from sklearn.preprocessing import StandardScaler\n",
    "from sklearn.model_selection import train_test_split, GridSearchCV\n",
    "from sklearn.datasets import make_classification\n",
    "from imblearn.over_sampling import SMOTE\n",
    "from collections import Counter\n",
    "from sklearn.metrics import accuracy_score, confusion_matrix,roc_curve, roc_auc_score, precision_score, recall_score, precision_recall_curve\n",
    "from sklearn.linear_model import SGDClassifier, LogisticRegression\n",
    "from sklearn.tree import DecisionTreeClassifier\n",
    "from xgboost import XGBClassifier\n",
    "\n",
    "\n",
    "\n",
    "# from fitter import Fitter, get_common_distributions, get_distributions\n",
    "import random\n",
    "\n",
    "import seaborn as sns\n",
    "import matplotlib.pyplot as plt\n",
    "\n",
    "# Increase the maximum number of rows and columns to be displayed\n",
    "pd.set_option('display.max_rows', 50)\n",
    "pd.set_option('display.max_columns', 1000)"
   ]
  },
  {
   "cell_type": "markdown",
   "id": "ed2e4965",
   "metadata": {},
   "source": [
    "## Categorical data distributions"
   ]
  },
  {
   "cell_type": "code",
   "execution_count": null,
   "id": "e973056b",
   "metadata": {
    "ExecuteTime": {
     "end_time": "2023-07-22T18:14:15.915131Z",
     "start_time": "2023-07-22T18:14:15.891968Z"
    }
   },
   "outputs": [],
   "source": [
    "dists = {\n",
    "#     'pers_exp':{'labels':['group1', 'group2', 'group3', 'group4'], 'values':[0.10,0.44,0.33,0.14]},\n",
    "    'sex':{'labels':['M', 'F'], 'values':[0.4854368932,0.5145631068]},\n",
    "    'lv_educ':{'labels':['Incomplete', 'Primary', 'Basic', 'Secondary', 'Higher'], 'values':[0.0595,0.07788016474,0.2309254283,0.4359496722,0.1957067711]},\n",
    "    'empl_stat':{'labels':['Employers', 'Self-employed', 'Employed in private sector', 'Employed in public sector', 'Unpaid family workers'], 'values':[0.03631598652,0.07272557095,0.6708785723,0.2126544365,0.00742543367]},\n",
    "    'marit_stat':{'labels':['Single', 'Married', 'Divorced', 'Widowed'], 'values':[0.397,0.443,0.058,0.102]},\n",
    "    'house_memb':{'labels':['1', '2', '3', '4', '5', '6', '7+'], 'values':[0.1805,0.3778,0.2387,0.1157,0.0525,0.0238,0.011]},\n",
    "    'chil_u_18_y':{'labels':['No children under 18', 'One child under 18', 'Two children under 18', 'Three children under 18', 'Four children under 18', 'Five children under 18', 'Six or more children under 18'], 'values':[0.422602157,0.36552047,0.183222339,0.020674764,0.004993779,0.001875149,0.001111341]},\n",
    "    'nation':{'labels':['Bulgaria', 'EU', 'Other'], 'values':[0.9950198043,0.001146570676,0.003833625045]},\n",
    "    'religion':{'labels':['Protestant', 'Catholic', 'Orthodox', 'Muslim', 'Other', 'No religion', 'I do not identify myself'], 'values':[0.011,0.008,0.76,0.1,0.002,0.047,0.072]},\n",
    "    'soc_econ_stat':{'labels':['Economically active', 'Economically inactive'], 'values':[0.6151643031,0.3848356969]},\n",
    "    'prof_ind':{'labels':['Agriculture, forestry and fisheries', 'Mining and processing industry', 'Utilities (electricity distribution and water supply)', 'Construction', 'Trade, automobile and motorcycle repair', 'Transportation, warehousing and mail', 'Hospitality and restaurant services', 'Creation and distribution of information and creative products, Telecommunications', 'Financial and administrative activities', 'Public administration', 'Education and research', 'Human health and social work', 'Other activities'], 'values':[0.03090815115,0.2353,0.029,0.05523651408,0.1645618594,0.06439111505,0.05161626582,0.03936261795,0.07356911161,0.04836124844,0.104946474,0.06006423384,0.04269692032]},\n",
    "    'prof_stat':{'labels':['Management contract', 'Employment contract', 'Civil contract', 'Self-employed', 'Unemployed', 'Pensioner'], 'values':[0.01783393631,0.4732428049,0.02497602302,0.0385148509,0.167699009,0.277733376]},\n",
    "    'count_house':{'labels':['0', '1', '2+'], 'values':[0.37,0.6,0.03]},\n",
    "    'own_field':{'labels':['YES', 'NO'], 'values':[0.2621335023,0.737866497676384]},\n",
    "    'num_car_house':{'labels':['0', '1', '2', '3+'], 'values':[0.5714285714,0.36,0.06428571429,0.004285714286]},\n",
    "    'own_rent_house':{'labels':['my own', 'rented'], 'values':[0.843,0.157]},\n",
    "    'edu':{'labels':['Educational Sciences', 'Humanities', 'Social, Economic and Legal Sciences', 'Natural Sciences, Mathematics and Informatics', 'Technical Sciences', 'Agricultural Sciences and Veterinary Medicine', 'Health and Sports', 'Arts', 'Security and Defense'], 'values':[0.07591254907,0.0461889827,0.5266633332,0.04571641724,0.1533297557,0.01776640163,0.0930038303,0.02247374859,0.01891291637]},\n",
    "    'temp':{'labels':['Choleric', 'Phlegmatic', 'Sanguine', 'Melancholic'], 'values':[0.38,0.11,0.23,0.28]},\n",
    "    'invest_exp':{'labels':['0', '1-5', '6-10', '11-15', '16-25'], 'values':[0.7,0.2,0.06,0.03,0.01]},\n",
    "    'shares':{'labels':['YES', 'NO'], 'values':[0.003394353314,0.9966056467]},\n",
    "    'corp_oblig':{'labels':['YES', 'NO'], 'values':[0.0003792213936,0.9996207786]},\n",
    "    'oth':{'labels':['YES', 'NO'], 'values':[0.000592597502012084,0.999407402497988]},\n",
    "    'inv_fund':{'labels':['YES', 'NO'], 'values':[0.06491199709,0.9350880029]},\n",
    "    'cash':{'labels':['YES', 'NO'], 'values':[0.04105169923,0.9589483008]},\n",
    "    'crypto':{'labels':['YES', 'NO'], 'values':[0.003284135938,0.9967158641]},\n",
    "    'gov_bond':{'labels':['YES', 'NO'], 'values':[0.06835666691,0.9316433331]},\n",
    "    'deposits':{'labels':['YES', 'NO'], 'values':[0.8180293286,0.1819706714]},\n",
    "    'banking':{'labels':['Online', 'Offline'], 'values':[0.09,0.91]},\n",
    "    'bk_oprat':{'labels':['Up to 7', 'From 8 to 10', 'From 11 to 13', 'From 14 to 18', 'From 19 to more'], 'values':[0.0084,0.2424,0.4729,0.2615,0.0148]},\n",
    "    'bk_dc':{'labels':['Under one', 'One', 'Two', 'Three'], 'values':[0.01,0.57,0.38,0.04]},\n",
    "    'bk_cc':{'labels':['YES', 'NO'], 'values':[0.17,0.83]},\n",
    "    'bk_acc':{'labels':['YES', 'NO'], 'values':[0.8634087377,0.1365912623]},\n",
    "    'ins_prop':{'labels':['YES', 'NO'], 'values':[0.05,0.95]},\n",
    "    'ins_life':{'labels':['YES', 'NO'], 'values':[0.09,0.91]},\n",
    "    'ins_casco':{'labels':['YES', 'NO'], 'values':[0.03,0.97]},\n",
    "    'health_ins':{'labels':['YES', 'NO'], 'values':[0.02,0.98]},\n",
    "    'overdraft':{'labels':['YES', 'NO'], 'values':[0.19,0.81]},\n",
    "    'cons_cred':{'labels':['YES', 'NO'], 'values':[0.26,0.74]},\n",
    "    'mortgage':{'labels':['YES', 'NO'], 'values':[0.02,0.98]},\n",
    "    'car_leas':{'labels':['YES', 'NO'], 'values':[0.2,0.8]},\n",
    "    'pens_ins':{'labels':['YES', 'NO'], 'values':[0.11,0.89]},\n",
    "    'overdraft_app':{'labels':['YES', 'NO'], 'values':[0.2439,0.7561]},\n",
    "    'cons_cred_app':{'labels':['YES', 'NO'], 'values':[0.305299502487562,0.694700497512438]},\n",
    "    'mortgage_app':{'labels':['YES', 'NO'], 'values':[0.03,0.97]},\n",
    "    'bk_cc_app':{'labels':['YES', 'NO'], 'values':[0.21,0.79]}\n",
    "}"
   ]
  },
  {
   "cell_type": "code",
   "execution_count": null,
   "id": "637a4dbe",
   "metadata": {
    "ExecuteTime": {
     "end_time": "2023-07-22T18:14:16.436789Z",
     "start_time": "2023-07-22T18:14:16.421763Z"
    }
   },
   "outputs": [],
   "source": [
    "len(dists)"
   ]
  },
  {
   "cell_type": "markdown",
   "id": "c01e3c2f",
   "metadata": {},
   "source": [
    "## Correlation of Numerical data "
   ]
  },
  {
   "cell_type": "code",
   "execution_count": null,
   "id": "a3f1a5da",
   "metadata": {
    "ExecuteTime": {
     "end_time": "2023-07-22T18:14:17.225536Z",
     "start_time": "2023-07-22T18:14:17.212511Z"
    }
   },
   "outputs": [],
   "source": [
    "corr = {\n",
    "    'features': ['age', 'ind_risk', 'income', 'pers_exp', 'house_exp', 'taxes', 'transp_telecom', 'hobby'],\n",
    "    'age': [1, -0.00665947056405372, 0.00291644965339247, 0.0107779942638097, 0.00698674581731255, 0.00729153655132963, 0.0099866509330216, 0.00931630696561133],\n",
    "    'ind_risk': [-0.00665947056405372, 1, 0.0039918072709289, 0.00806259039194059, 0.00457023635440603, 0.0061985340641631, 0.00768699810849585, -0.00332322616613201],\n",
    "    'income': [0.00291644965339247, 0.0039918072709289, 1, 0.560949334881676, 0.58892666343229, 0.581907424628933, 0.562946509689962, 0.352350802339294],\n",
    "    'pers_exp': [0.0107779942638097, 0.00806259039194059, 0.560949334881676, 1, 0.928449923861951, 0.929598634668897, 0.934775947642248, 0.714298364869941],\n",
    "    'house_exp': [0.00698674581731255, 0.00457023635440603, 0.58892666343229, 0.928449923861951, 1, 0.93031279279417, 0.927846735467478, 0.679286362990223],\n",
    "    'taxes': [0.00729153655132963, 0.0061985340641631, 0.581907424628933, 0.929598634668897, 0.93031279279417, 1, 0.92920510128812, 0.689442053350162],\n",
    "    'transp_telecom': [0.0099866509330216, 0.00768699810849585, 0.562946509689962, 0.934775947642248, 0.927846735467478, 0.92920510128812, 1, 0.714114127908189],\n",
    "    'hobby': [0.00931630696561133, -0.00332322616613201, 0.352350802339294, 0.714298364869941, 0.679286362990223, 0.689442053350162, 0.714114127908189, 1]\n",
    "}\n",
    "\n",
    "\n",
    "\n",
    "means = [50.58, 0.6039, 13579.30, 5305.00, 2260, 1500, 1335, 1740]"
   ]
  },
  {
   "cell_type": "markdown",
   "id": "11400b94",
   "metadata": {},
   "source": [
    "## Extract distributions from dictionary"
   ]
  },
  {
   "cell_type": "code",
   "execution_count": null,
   "id": "9c072733",
   "metadata": {
    "ExecuteTime": {
     "end_time": "2023-07-22T18:14:17.870414Z",
     "start_time": "2023-07-22T18:14:17.867215Z"
    }
   },
   "outputs": [],
   "source": [
    "def extract_dists(x, dists):\n",
    "    '''\n",
    "    A function to extract distributions from the dictionary dists,where:\n",
    "    x is the name of the feature to extract in ''\n",
    "    dists is the dictionary with all distributions\n",
    "    '''\n",
    "    import pandas as pd\n",
    "    column_names = dists[x]['labels']\n",
    "    values = [dists[x]['values']]\n",
    "    pd_df = pd.DataFrame(data=values, columns=column_names)\n",
    "    pd_df.index = pd.Index([x])\n",
    "    return pd_df"
   ]
  },
  {
   "cell_type": "markdown",
   "id": "56e2cd86",
   "metadata": {},
   "source": [
    "## Convert the dictionary with correlation matrix to dataframe"
   ]
  },
  {
   "cell_type": "code",
   "execution_count": null,
   "id": "5b2d6b3d",
   "metadata": {
    "ExecuteTime": {
     "end_time": "2023-07-22T18:14:18.722904Z",
     "start_time": "2023-07-22T18:14:18.716395Z"
    }
   },
   "outputs": [],
   "source": [
    "def corr2df(corr):\n",
    "    '''\n",
    "    A function to create correlation dataframe from dictionary corr, where\n",
    "    corr is the dictionary with the correlation matrix\n",
    "    '''\n",
    "    import pandas as df\n",
    "    corr_df = pd.DataFrame(corr)\n",
    "    corr_df.set_index('features', inplace=True)\n",
    "    corr_df.index.name=None\n",
    "    return corr_df"
   ]
  },
  {
   "cell_type": "code",
   "execution_count": null,
   "id": "a5906342",
   "metadata": {},
   "outputs": [],
   "source": []
  },
  {
   "cell_type": "markdown",
   "id": "7e2a38d8",
   "metadata": {},
   "source": [
    "# Data Generation (Data synthesis)"
   ]
  },
  {
   "cell_type": "markdown",
   "id": "85b5e8bf",
   "metadata": {},
   "source": [
    "## Categorical Data"
   ]
  },
  {
   "cell_type": "code",
   "execution_count": null,
   "id": "645787fc",
   "metadata": {
    "ExecuteTime": {
     "end_time": "2023-07-22T15:08:53.358311Z",
     "start_time": "2023-07-22T15:08:53.081314Z"
    }
   },
   "outputs": [],
   "source": [
    "import numpy as np\n",
    "\n",
    "# Number of rows in the synthetic dataset\n",
    "num_rows = 250000\n",
    "\n",
    "# Create the synthetic dataset\n",
    "dataset = {}\n",
    "for key, value_dict in dists.items():\n",
    "    labels = value_dict['labels']\n",
    "    probabilities = value_dict['values']\n",
    "    \n",
    "    # Normalize probabilities to ensure they sum to 1\n",
    "    normalized_probabilities = probabilities / np.sum(probabilities)\n",
    "    \n",
    "    sampled_values = np.random.choice(labels, size=num_rows, p=normalized_probabilities)\n",
    "    dataset[key] = sampled_values\n",
    "\n",
    "# Printing the first 10 rows of the synthetic dataset\n",
    "# for key in dataset:\n",
    "#     print(f\"{key}: {dataset[key][:10]}\")\n"
   ]
  },
  {
   "cell_type": "code",
   "execution_count": null,
   "id": "f269b8fd",
   "metadata": {
    "ExecuteTime": {
     "end_time": "2023-07-22T15:08:55.667772Z",
     "start_time": "2023-07-22T15:08:55.150751Z"
    }
   },
   "outputs": [],
   "source": [
    "import pandas as pd\n",
    "\n",
    "cat_df = pd.DataFrame(dataset)"
   ]
  },
  {
   "cell_type": "code",
   "execution_count": null,
   "id": "4528f214",
   "metadata": {
    "ExecuteTime": {
     "end_time": "2023-07-22T15:08:55.795769Z",
     "start_time": "2023-07-22T15:08:55.765771Z"
    }
   },
   "outputs": [],
   "source": [
    "cat_df.head()"
   ]
  },
  {
   "cell_type": "code",
   "execution_count": null,
   "id": "1a201401",
   "metadata": {
    "ExecuteTime": {
     "end_time": "2023-07-22T15:08:55.907770Z",
     "start_time": "2023-07-22T15:08:55.892769Z"
    }
   },
   "outputs": [],
   "source": [
    "cat_df.shape"
   ]
  },
  {
   "cell_type": "code",
   "execution_count": null,
   "id": "980b85b9",
   "metadata": {
    "ExecuteTime": {
     "end_time": "2023-07-22T15:08:56.017771Z",
     "start_time": "2023-07-22T15:08:56.004771Z"
    }
   },
   "outputs": [],
   "source": [
    "cat_df[\"sex\"].value_counts(normalize=True)[\"F\"]"
   ]
  },
  {
   "cell_type": "code",
   "execution_count": null,
   "id": "df4a4281",
   "metadata": {},
   "outputs": [],
   "source": []
  },
  {
   "cell_type": "code",
   "execution_count": null,
   "id": "7bc93386",
   "metadata": {
    "ExecuteTime": {
     "end_time": "2023-07-22T15:08:56.127770Z",
     "start_time": "2023-07-22T15:08:56.112770Z"
    }
   },
   "outputs": [],
   "source": [
    "list(cat_df[\"sex\"].value_counts(normalize=True).index)"
   ]
  },
  {
   "cell_type": "markdown",
   "id": "2344c92f",
   "metadata": {},
   "source": [
    "### Perform a Kolmogorov-Smirnov distribution test"
   ]
  },
  {
   "cell_type": "code",
   "execution_count": null,
   "id": "a2200934",
   "metadata": {
    "ExecuteTime": {
     "end_time": "2023-07-22T15:09:00.171046Z",
     "start_time": "2023-07-22T15:09:00.155046Z"
    }
   },
   "outputs": [],
   "source": [
    "def kolmogorov_smirnov_test(categorical_data, old_distributions):\n",
    "    \n",
    "    from scipy.stats import ks_2samp\n",
    "    \n",
    "#     old = {'sex': {'labels': ['M', 'F'], 'values': [0.4854368932, 0.5145631068]}}\n",
    "#     new = {'sex': {'labels': ['M', 'F'], 'values': [0.476, 0.524]}}\n",
    "\n",
    "    statistics = {}\n",
    "    \n",
    "    for col in categorical_data:\n",
    "        \n",
    "        print()\n",
    "        print(\"Reviewed column: \", col)\n",
    "        # Extract the values for each category in the old and new distributions\n",
    "        \n",
    "        \n",
    "        old_values = old_distributions[col]['values']\n",
    "        old_labels = old_distributions[col]['labels']\n",
    "        \n",
    "        new_data_labels = list(categorical_data[col].value_counts(normalize=True).index)\n",
    "        \n",
    "        old_dis_data = []\n",
    "        new_dis_data = []\n",
    "        \n",
    "        \n",
    "        for i in range(len(old_labels)):\n",
    "            \n",
    "            label = old_labels[i]\n",
    "            old_dis_data.append(old_distributions[col]['values'][i])\n",
    "            \n",
    "            new_data_value = categorical_data[col].value_counts(normalize=True)[label]\n",
    "            new_dis_data.append(new_data_value)\n",
    "        \n",
    "        old_dis_data_array = np.array(old_dis_data)\n",
    "        new_dis_data_array = np.array(new_dis_data)\n",
    "        \n",
    "        print(f\"old dist: {old_dis_data_array}\")\n",
    "        print(f\"new dist: {new_dis_data_array}\")\n",
    "        # Perform the KS test\n",
    "        ks_statistic, p_value = ks_2samp(old_dis_data_array, new_dis_data_array)\n",
    "\n",
    "        # Define the significance level (alpha) to test against the p-value\n",
    "        alpha = 0.05\n",
    "\n",
    "        # Check if the p-value is less than the significance level\n",
    "        \n",
    "        \n",
    "        if p_value < alpha:\n",
    "            print(f\"Distributions are different for column: {col}, p_value={1-p_value}\")\n",
    "            \n",
    "            statistics[col] = True\n",
    "        else:\n",
    "            print(f\"Distributions are similar for column: {col}, p_value={1-p_value}\")\n",
    "            \n",
    "            statistics[col] = False\n",
    "    \n",
    "    print(\"......................\")\n",
    "    print()\n",
    "    return statistics"
   ]
  },
  {
   "cell_type": "code",
   "execution_count": null,
   "id": "8c0d43e6",
   "metadata": {
    "ExecuteTime": {
     "end_time": "2023-07-22T15:09:02.595018Z",
     "start_time": "2023-07-22T15:09:00.391280Z"
    }
   },
   "outputs": [],
   "source": [
    "categorical_ks_statistics = kolmogorov_smirnov_test(categorical_data=cat_df,\n",
    "                                                   old_distributions=dists)"
   ]
  },
  {
   "cell_type": "markdown",
   "id": "5025252d",
   "metadata": {},
   "source": [
    "### Save"
   ]
  },
  {
   "cell_type": "code",
   "execution_count": null,
   "id": "24e7ed35",
   "metadata": {
    "ExecuteTime": {
     "end_time": "2023-07-22T15:09:02.706051Z",
     "start_time": "2023-07-22T15:09:02.692020Z"
    }
   },
   "outputs": [],
   "source": [
    "# cat_df.to_csv(\"df_cat_No_Br_250k_v2.csv\")"
   ]
  },
  {
   "cell_type": "code",
   "execution_count": null,
   "id": "acc8bf26",
   "metadata": {},
   "outputs": [],
   "source": []
  },
  {
   "cell_type": "markdown",
   "id": "fc77d202",
   "metadata": {},
   "source": [
    "Notes: \n",
    "- generate all cat data (including pers_exp\n",
    "- use it's values as a basis when generating the numerical data (all other features in the corr matrix should be generated based on their relationship with the pers_exp) and the MEANS provided in the inputs"
   ]
  },
  {
   "cell_type": "markdown",
   "id": "0f14c15d",
   "metadata": {},
   "source": [
    "## Numerical Data"
   ]
  },
  {
   "cell_type": "code",
   "execution_count": null,
   "id": "0f3e9bb1",
   "metadata": {
    "ExecuteTime": {
     "end_time": "2023-07-22T15:09:02.941052Z",
     "start_time": "2023-07-22T15:09:02.927054Z"
    }
   },
   "outputs": [],
   "source": [
    "corr.keys()"
   ]
  },
  {
   "cell_type": "code",
   "execution_count": null,
   "id": "02e4dd5a",
   "metadata": {
    "ExecuteTime": {
     "end_time": "2023-07-22T15:09:03.117050Z",
     "start_time": "2023-07-22T15:09:03.102051Z"
    }
   },
   "outputs": [],
   "source": [
    "l_corr_matrix = []\n",
    "\n",
    "for k, v in corr.items():\n",
    "    if k == \"features\":\n",
    "        continue\n",
    "    else:\n",
    "        l_corr_matrix.append(v)\n",
    "\n",
    "        \n",
    "arr_corr_matrix = np.array(l_corr_matrix)"
   ]
  },
  {
   "cell_type": "code",
   "execution_count": null,
   "id": "7e1eac74",
   "metadata": {
    "ExecuteTime": {
     "end_time": "2023-07-22T15:09:03.245050Z",
     "start_time": "2023-07-22T15:09:03.239051Z"
    }
   },
   "outputs": [],
   "source": [
    "print(arr_corr_matrix)"
   ]
  },
  {
   "cell_type": "markdown",
   "id": "762f63f7",
   "metadata": {},
   "source": [
    "### Generate synthetic data (Copula)"
   ]
  },
  {
   "cell_type": "code",
   "execution_count": null,
   "id": "5d03e128",
   "metadata": {
    "ExecuteTime": {
     "end_time": "2023-07-22T15:09:03.723293Z",
     "start_time": "2023-07-22T15:09:03.514740Z"
    }
   },
   "outputs": [],
   "source": [
    "feature_bounds = []\n",
    "\n",
    "possible_values = {\n",
    "    'age': [20, 86],\n",
    "    'ind_risk': [0, 1],\n",
    "    'income': [0, 150000],\n",
    "    'pers_exp': [0, 6000],\n",
    "    'house_exp': [0, 4000],\n",
    "    'taxes': [0, 2500],\n",
    "    'transp_telecom': [0, 2500],\n",
    "    'hobby': [0, 3000],\n",
    "}\n",
    "\n",
    "\n",
    "\n",
    "for v in possible_values.values():\n",
    "    \n",
    "    feature_bounds.append(tuple(v))\n",
    "\n",
    "        \n",
    "# mean = []\n",
    "\n",
    "# for k, v in possible_values.items():\n",
    "#     avg = sum(v)/len(v)\n",
    "#     mean.append(avg)  \n",
    "\n",
    "    \n",
    "# std = [int(v/3) for v in mean]\n",
    "std = [3]*8\n",
    "    \n",
    "import numpy as np\n",
    "from scipy.stats import norm\n",
    "from sklearn.preprocessing import MinMaxScaler\n",
    "\n",
    "def generate_synthetic_data_with_bounds(correlation_matrix, num_samples, feature_bounds, means=means, std=std):\n",
    "    num_features = correlation_matrix.shape[0]\n",
    "    lower_bounds, upper_bounds = zip(*feature_bounds)\n",
    "    scaler = MinMaxScaler(feature_range=(0, 1))\n",
    "    \n",
    "    # Check if the correlation matrix is valid (symmetric and positive definite)\n",
    "    if not np.allclose(correlation_matrix, correlation_matrix.T):\n",
    "        raise ValueError(\"Correlation matrix must be symmetric.\")\n",
    "    if not np.all(np.linalg.eigvals(correlation_matrix) > 0):\n",
    "        raise ValueError(\"Correlation matrix must be positive definite.\")\n",
    "    \n",
    "    # Generate synthetic data using multivariate normal distribution\n",
    "    mean = np.zeros(num_features)\n",
    "    synthetic_data = np.random.multivariate_normal(mean, correlation_matrix, num_samples)\n",
    "    \n",
    "    # Apply Gaussian copula to maintain correlation structure\n",
    "    synthetic_data = norm.cdf(synthetic_data, loc=mean, scale=std)\n",
    "    \n",
    "    # Scale the data to the specified bounds for each feature\n",
    "    for i in range(num_features):\n",
    "        synthetic_data[:, i] = lower_bounds[i] + synthetic_data[:, i] * (upper_bounds[i] - lower_bounds[i])\n",
    "    \n",
    "    return synthetic_data\n",
    "\n",
    "# Example usage:\n",
    "correlation_matrix = np.array(l_corr_matrix)\n",
    "\n",
    "num_samples = 250000\n",
    "\n",
    "synthetic_data = generate_synthetic_data_with_bounds(correlation_matrix, num_samples, feature_bounds)\n",
    "print(synthetic_data)\n"
   ]
  },
  {
   "cell_type": "code",
   "execution_count": null,
   "id": "18d21d85",
   "metadata": {
    "ExecuteTime": {
     "end_time": "2023-07-22T15:09:03.834361Z",
     "start_time": "2023-07-22T15:09:03.819293Z"
    }
   },
   "outputs": [],
   "source": [
    "import pandas as pd\n",
    "\n",
    "adjusted_df = pd.DataFrame(synthetic_data, columns=possible_values.keys())\n",
    "adjusted_df"
   ]
  },
  {
   "cell_type": "code",
   "execution_count": null,
   "id": "60f30620",
   "metadata": {
    "ExecuteTime": {
     "end_time": "2023-07-22T15:09:03.946364Z",
     "start_time": "2023-07-22T15:09:03.931362Z"
    }
   },
   "outputs": [],
   "source": [
    "pd.DataFrame(correlation_matrix)"
   ]
  },
  {
   "cell_type": "markdown",
   "id": "d5f5f99f",
   "metadata": {},
   "source": [
    "### Plot distributions"
   ]
  },
  {
   "cell_type": "code",
   "execution_count": null,
   "id": "467a58df",
   "metadata": {
    "ExecuteTime": {
     "end_time": "2023-07-22T15:09:04.216362Z",
     "start_time": "2023-07-22T15:09:04.122364Z"
    }
   },
   "outputs": [],
   "source": [
    "import plotly.express as px\n",
    "\n",
    "def plot_distribution(data, column_name):\n",
    "    \"\"\"\n",
    "    Plots the distribution of a pandas column using Plotly.\n",
    "\n",
    "    Parameters:\n",
    "        data (pd.DataFrame): The pandas DataFrame containing the data.\n",
    "        column_name (str): The name of the column to plot.\n",
    "\n",
    "    Returns:\n",
    "        None\n",
    "    \"\"\"\n",
    "    # Ensure the column exists in the DataFrame\n",
    "    if column_name not in data.columns:\n",
    "        raise ValueError(f\"Column '{column_name}' not found in the DataFrame.\")\n",
    "\n",
    "    # Use Plotly Express to plot the distribution\n",
    "    fig = px.histogram(data, x=column_name, nbins=50, title=f'Distribution of {column_name}')\n",
    "    fig.show()\n"
   ]
  },
  {
   "cell_type": "code",
   "execution_count": null,
   "id": "4edab1ff",
   "metadata": {
    "ExecuteTime": {
     "end_time": "2023-07-22T15:09:14.955868Z",
     "start_time": "2023-07-22T15:09:04.327361Z"
    }
   },
   "outputs": [],
   "source": [
    "for col in adjusted_df.columns:\n",
    "    plot_distribution(adjusted_df, col)"
   ]
  },
  {
   "cell_type": "code",
   "execution_count": null,
   "id": "5cc4ae3e",
   "metadata": {},
   "outputs": [],
   "source": []
  },
  {
   "cell_type": "code",
   "execution_count": null,
   "id": "8d00f53e",
   "metadata": {},
   "outputs": [],
   "source": []
  },
  {
   "cell_type": "markdown",
   "id": "15746c69",
   "metadata": {},
   "source": [
    "### Plot the two correlation matrices"
   ]
  },
  {
   "cell_type": "code",
   "execution_count": null,
   "id": "fb8c7108",
   "metadata": {
    "ExecuteTime": {
     "end_time": "2023-07-22T15:09:15.067440Z",
     "start_time": "2023-07-22T15:09:15.052869Z"
    }
   },
   "outputs": [],
   "source": [
    "possible_values.keys()"
   ]
  },
  {
   "cell_type": "code",
   "execution_count": null,
   "id": "a5c86ddc",
   "metadata": {
    "ExecuteTime": {
     "end_time": "2023-07-22T15:09:15.401475Z",
     "start_time": "2023-07-22T15:09:15.163478Z"
    }
   },
   "outputs": [],
   "source": [
    "import numpy as np\n",
    "import pandas as pd\n",
    "import matplotlib.pyplot as plt\n",
    "\n",
    "# ... (Code from the previous answer)\n",
    "\n",
    "# Calculate the correlation matrix for the adjusted DataFrame\n",
    "correlation_matrix_adjusted = adjusted_df.corr()\n",
    "\n",
    "\n",
    "# Display the correlation matrix\n",
    "print(\"Adjusted Correlation Matrix:\")\n",
    "print(correlation_matrix_adjusted)\n",
    "\n",
    "# Convert the original correlation data (corr) to a DataFrame\n",
    "original_corr_df = pd.DataFrame(corr)\n",
    "original_corr_df.set_index('features', inplace=True)\n",
    "\n",
    "# Display the original correlation data\n",
    "print(\"\\nOriginal Correlation Matrix:\")\n",
    "print(original_corr_df)\n",
    "\n",
    "# Plot the correlation matrix heatmaps for both adjusted and original data side by side\n",
    "fig, axes = plt.subplots(1, 2, figsize=(16, 6))\n",
    "fig.suptitle(\"Comparison of Correlation Matrices\", fontsize=16)\n",
    "\n",
    "# Adjusted correlation matrix heatmap\n",
    "axes[0].imshow(correlation_matrix_adjusted, cmap='coolwarm', interpolation='nearest')\n",
    "axes[0].set_xticks(np.arange(len(correlation_matrix_adjusted)))\n",
    "axes[0].set_yticks(np.arange(len(correlation_matrix_adjusted)))\n",
    "axes[0].set_xticklabels(correlation_matrix_adjusted.columns, rotation=45)\n",
    "axes[0].set_yticklabels(correlation_matrix_adjusted.columns)\n",
    "axes[0].set_title(\"Adjusted Correlation Matrix\")\n",
    "\n",
    "# Original correlation matrix heatmap\n",
    "axes[1].imshow(original_corr_df, cmap='coolwarm', interpolation='nearest')\n",
    "axes[1].set_xticks(np.arange(len(original_corr_df)))\n",
    "axes[1].set_yticks(np.arange(len(original_corr_df)))\n",
    "axes[1].set_xticklabels(original_corr_df.columns, rotation=45)\n",
    "axes[1].set_yticklabels(original_corr_df.columns)\n",
    "axes[1].set_title(\"Original Correlation Matrix\")\n",
    "\n",
    "plt.show()\n"
   ]
  },
  {
   "cell_type": "code",
   "execution_count": null,
   "id": "19039758",
   "metadata": {},
   "outputs": [],
   "source": []
  },
  {
   "cell_type": "code",
   "execution_count": null,
   "id": "2e2908b3",
   "metadata": {
    "ExecuteTime": {
     "end_time": "2023-07-22T15:09:15.544029Z",
     "start_time": "2023-07-22T15:09:15.530479Z"
    }
   },
   "outputs": [],
   "source": [
    "# Function to measure the distance between two correlation matrices using Frobenius norm\n",
    "def correlation_distance(matrix1, matrix2):\n",
    "    return np.linalg.norm(matrix1 - matrix2, ord='fro')\n",
    "\n",
    "\n",
    "current_distance = correlation_distance(matrix1=correlation_matrix_adjusted, matrix2=original_corr_df)"
   ]
  },
  {
   "cell_type": "code",
   "execution_count": null,
   "id": "6126576b",
   "metadata": {
    "ExecuteTime": {
     "end_time": "2023-07-22T15:09:15.688015Z",
     "start_time": "2023-07-22T15:09:15.673016Z"
    }
   },
   "outputs": [],
   "source": [
    "current_distance"
   ]
  },
  {
   "cell_type": "code",
   "execution_count": null,
   "id": "c842bd0b",
   "metadata": {},
   "outputs": [],
   "source": []
  },
  {
   "cell_type": "markdown",
   "id": "130e5bad",
   "metadata": {},
   "source": [
    "## Save"
   ]
  },
  {
   "cell_type": "code",
   "execution_count": null,
   "id": "69d65004",
   "metadata": {
    "ExecuteTime": {
     "end_time": "2023-07-22T15:09:15.832016Z",
     "start_time": "2023-07-22T15:09:15.817017Z"
    }
   },
   "outputs": [],
   "source": [
    "# adjusted_df.to_csv(\"adjusted_df_num_No_BR_250k_v3.csv\")"
   ]
  },
  {
   "cell_type": "code",
   "execution_count": null,
   "id": "05b60b03",
   "metadata": {},
   "outputs": [],
   "source": []
  },
  {
   "cell_type": "markdown",
   "id": "15c6a759",
   "metadata": {},
   "source": [
    "## Combine the two datasets"
   ]
  },
  {
   "cell_type": "code",
   "execution_count": null,
   "id": "a750f708",
   "metadata": {
    "ExecuteTime": {
     "end_time": "2023-07-22T15:09:15.974018Z",
     "start_time": "2023-07-22T15:09:15.960016Z"
    }
   },
   "outputs": [],
   "source": [
    "import pandas as pd"
   ]
  },
  {
   "cell_type": "code",
   "execution_count": null,
   "id": "b31f5f29",
   "metadata": {
    "ExecuteTime": {
     "end_time": "2023-07-22T15:09:17.183015Z",
     "start_time": "2023-07-22T15:09:15.975018Z"
    }
   },
   "outputs": [],
   "source": [
    "num_df = pd.read_csv(\"adjusted_df_num_No_BR_250k.csv\", index_col=[0])\n",
    "cat_df = pd.read_csv(\"df_cat_No_Br_250k.csv\", index_col=[0])"
   ]
  },
  {
   "cell_type": "code",
   "execution_count": null,
   "id": "b5c0771e",
   "metadata": {
    "ExecuteTime": {
     "end_time": "2023-07-22T15:09:17.470066Z",
     "start_time": "2023-07-22T15:09:17.440018Z"
    }
   },
   "outputs": [],
   "source": [
    "df_merged = pd.concat([num_df, cat_df], axis=1)\n",
    "df_merged.shape"
   ]
  },
  {
   "cell_type": "code",
   "execution_count": null,
   "id": "48f0edd6",
   "metadata": {
    "ExecuteTime": {
     "end_time": "2023-07-22T15:09:17.645064Z",
     "start_time": "2023-07-22T15:09:17.614065Z"
    }
   },
   "outputs": [],
   "source": [
    "df_merged.head()"
   ]
  },
  {
   "cell_type": "code",
   "execution_count": null,
   "id": "e6e37b43",
   "metadata": {},
   "outputs": [],
   "source": []
  },
  {
   "cell_type": "markdown",
   "id": "338fe1cd",
   "metadata": {},
   "source": [
    "## Apply the business rules"
   ]
  },
  {
   "cell_type": "code",
   "execution_count": null,
   "id": "ed177786",
   "metadata": {
    "ExecuteTime": {
     "end_time": "2023-07-22T15:09:17.804259Z",
     "start_time": "2023-07-22T15:09:17.789259Z"
    }
   },
   "outputs": [],
   "source": [
    "df_merged.columns"
   ]
  },
  {
   "cell_type": "code",
   "execution_count": null,
   "id": "ae4e39eb",
   "metadata": {
    "ExecuteTime": {
     "end_time": "2023-07-22T15:09:17.962260Z",
     "start_time": "2023-07-22T15:09:17.948260Z"
    }
   },
   "outputs": [],
   "source": [
    "# 100 реда, 80 със статус Married и house_memb > 2, 20 статус Married и house_memb <=2;\n",
    "# задачата е да променим статуса на тия 20 реда.\n",
    "\n",
    "# т.е. "
   ]
  },
  {
   "cell_type": "markdown",
   "id": "211f4e15",
   "metadata": {},
   "source": [
    "100 rows, 20 non_comply, replace 20 with complying values, concatenate back to the 100, out of those 100 select other 20 that don't correspond to the independent feature value of the B_RULE and replace the corresponding values with  "
   ]
  },
  {
   "cell_type": "markdown",
   "id": "19ae2ea8",
   "metadata": {},
   "source": [
    "Plan to apply business rules:\n",
    "\n",
    "- list all columns that are going to be affected\n",
    "- separate the rest (will preserve their distributions and num of examples\n",
    "- sort the rules in a way that the dependent features are repeated (if applicable). In this way we are only generating new data only after all operations on this column are done. \n",
    "- business rules should be applied as follows:\n",
    "\n",
    "    - Select the first and independent and dependent features\n",
    "        - apply the business rule\n",
    "            - save the rows that comply with the business rule - comply_df\n",
    "            - save the rows that DO NOT comply - non_comply_df\n",
    "                - out of them concatenate the independent feature to the comply_df (this will leave n number of NaN's on the dependent feature side)\n",
    "                - count the number of NaN's left (same as num of rows in the non_comply_df\n",
    "                - use it as a value for n_samples\n",
    "                - generate that many n_samples for the same dependent feature (problem, how to assure that it follows the same old distribution??)\n",
    "\n",
    "\n",
    "- Option 2:\n",
    "    - instead of replacing the values with NaN's, replace them with other values that comply with the business rules\n",
    "        - HOW: save the num of rows that DO NOT comply with the business rules\n",
    "        - generate a unique list of all other values that comply\n",
    "        - replace the NaN's (or the current value in the non_comply_df) with random distribution from the other values\n",
    "        - go to the comply_df and also replace the same number of value"
   ]
  },
  {
   "cell_type": "code",
   "execution_count": null,
   "id": "bdadf326",
   "metadata": {
    "ExecuteTime": {
     "end_time": "2023-07-22T15:09:19.070259Z",
     "start_time": "2023-07-22T15:09:18.092260Z"
    }
   },
   "outputs": [],
   "source": [
    "import pandas as pd\n",
    "\n",
    "\n",
    "# Business rules as a list of dictionaries\n",
    "full_business_rules = [\n",
    "    {\"Independent feature\": \"marit_stat\", \"Independent feature value\": \"=='Married'\", \"Dependent feature\": \"house_memb\", \"Dependent feature value filter\": \">'2'\", \"Note\": \"The number of household members in family households is more likely to be greater than 2\"},\n",
    "    {\"Independent feature\": \"prof_ind\", \"Independent feature value\": \"=='Financial and administrative activities'\", \"Dependent feature\": \"invest_exp\", \"Dependent feature value filter\": \">'0'\", \"Note\": \"They are more likely to own a bank account\"},\n",
    "    {\"Independent feature\": \"age\", \"Independent feature value\": \"<25\", \"Dependent feature\": \"invest_exp\", \"Dependent feature value filter\": \"=='0'\", \"Note\": \"Under 24s are less likely to have investment experience. Between 35-44 and 45-54 are more likely to have extensive investment experience\"},\n",
    "    {\"Independent feature\": \"age\", \"Independent feature value\": \"<25\", \"Dependent feature\": \"lv_educ\", \"Dependent feature value filter\": \"!='Higher'\", \"Note\": \"Under 24s are less likely to have a college degree\"},\n",
    "    {\"Independent feature\": \"age\", \"Independent feature value\": \"<25\", \"Dependent feature\": \"chil_u_18_y\", \"Dependent feature value filter\": \"<'2'\", \"Note\": \"From 20-24, it is less likely to have more than 1 child under 18\"},\n",
    "    {\"Independent feature\": \"invest_exp\", \"Independent feature value\": \">'0'\", \"Dependent feature\": \"deposits\", \"Dependent feature value filter\": \"=='Y'\", \"Note\": \"They are more likely to own a bank account\"},\n",
    "    {\"Independent feature\": \"shares\", \"Independent feature value\": \"=='Y'\", \"Dependent feature\": \"invest_exp\", \"Dependent feature value filter\": \">'0'\", \"Note\": \"Previous investment experience in years\"},\n",
    "    {\"Independent feature\": \"corp_oblig\", \"Independent feature value\": \"=='Y'\", \"Dependent feature\": \"invest_exp\", \"Dependent feature value filter\": \">'0'\", \"Note\": \"Previous investment experience in years\"},\n",
    "    {\"Independent feature\": \"oth\", \"Independent feature value\": \"=='Y'\", \"Dependent feature\": \"invest_exp\", \"Dependent feature value filter\": \">'0'\", \"Note\": \"Previous investment experience in years\"},\n",
    "    {\"Independent feature\": \"inv_fund\", \"Independent feature value\": \"=='Y'\", \"Dependent feature\": \"invest_exp\", \"Dependent feature value filter\": \">'0'\", \"Note\": \"Previous investment experience in years\"},\n",
    "    {\"Independent feature\": \"cash\", \"Independent feature value\": \"=='Y'\", \"Dependent feature\": \"invest_exp\", \"Dependent feature value filter\": \">'0'\", \"Note\": \"Previous investment experience in years\"},\n",
    "    {\"Independent feature\": \"crypto\", \"Independent feature value\": \"=='Y'\", \"Dependent feature\": \"invest_exp\", \"Dependent feature value filter\": \">'0'\", \"Note\": \"Previous investment experience in years\"},\n",
    "    {\"Independent feature\": \"gov_bond\", \"Independent feature value\": \"=='Y'\", \"Dependent feature\": \"invest_exp\", \"Dependent feature value filter\": \">'0'\", \"Note\": \"Previous investment experience in years\"},\n",
    "    {\"Independent feature\": \"age\", \"Independent feature value\": \"<25\", \"Dependent feature\": \"bk_acc\", \"Dependent feature value filter\": \"=='N'\", \"Note\": \"Under 24s are less likely to have a checking account\"},\n",
    "    {\"Independent feature\": \"age\", \"Independent feature value\": \"<18\", \"Dependent feature\": \"bk_acc\", \"Dependent feature value filter\": \"=='N'\", \"Note\": \"Under 18 is not possible to have a current account\"},\n",
    "    {\"Independent feature\": \"lv_educ\", \"Independent feature value\": \"=='Higher'\", \"Dependent feature\": \"income\", \"Dependent feature value filter\": \">27601\", \"Note\": \"A higher level of education implies earnings in the upper range\"},\n",
    "    {\"Independent feature\": \"chil_u_18_y\", \"Independent feature value\": \">'1'\", \"Dependent feature\": \"house_memb\", \"Dependent feature value filter\": \">'3'\", \"Note\": \"The number of household members is directly dependent on the number of children under 18\"},\n",
    "    {\"Independent feature\": \"lv_educ\", \"Independent feature value\": \"=='Higher'\", \"Dependent feature\": \"soc_econ_stat\", \"Dependent feature value filter\": \"=='Economically active'\", \"Note\": \"A higher level of education implies an economically active status\"},\n",
    "    {\"Independent feature\": \"income\", \"Independent feature value\": \">27601\", \"Dependent feature\": \"taxes\", \"Dependent feature value filter\": \">2500\", \"Note\": \"Earnings in the upper range correspond to higher taxes and insurance\"},\n",
    "]\n",
    "\n",
    "\n",
    "# Function to apply a single business rule\n",
    "def apply_business_rule(rule, dataframe):\n",
    "    independent_feature = rule[\"Independent feature\"]\n",
    "    independent_feature_value = rule[\"Independent feature value\"]\n",
    "    dependent_feature = rule[\"Dependent feature\"]\n",
    "    dependent_feature_value_filter = rule[\"Dependent feature value filter\"]\n",
    "\n",
    "    # Construct the filter condition dynamically using f-strings\n",
    "#     filter_condition = f\"(dataframe['marit_stat'] == 'Married') & (dataframe['house_memb'] > {dependent_feature_value_filter})\"\n",
    "#     filter_condition = f\"(dataframe['age'] {independent_feature_value}) & (dataframe['invest_exp']  {dependent_feature_value_filter})\"\n",
    "#         ({independent_feature} {independent_feature_value}) & ({dependent_feature} {dependent_feature_value_filter}))\"\n",
    "\n",
    "    filter_condition = f\"[(dataframe['{independent_feature}'] {independent_feature_value}) & (dataframe['{dependent_feature}'] {dependent_feature_value_filter})]\"   \n",
    "#     [(df_merged['marit_stat'] =='Married') & (df_merged['house_memb'] >'2')]\n",
    "    \n",
    "    print(\"filter_condition: \", filter_condition)\n",
    "    \n",
    "    list_mask = eval(filter_condition)\n",
    "\n",
    "    \n",
    "    \n",
    "    # Apply the filter condition to the DataFrame\n",
    "#     filtered_df = df_merged.loc[eval(filter_condition)]\n",
    "    filtered_df = df_merged[list_mask[0]]\n",
    "\n",
    "    return filtered_df\n",
    "\n",
    "# Apply all business rules to the DataFrame\n",
    "filtered_dfs = []\n",
    "for rule in full_business_rules:\n",
    "#     print(\"Rule: \", rule)\n",
    "    df_filtered = apply_business_rule(rule, df_merged)\n",
    "    \n",
    "    # CHECK DISTRIBUTION OF THE NEW INDEPENDENT VARIABLE\n",
    "    # CHECK DISTRIBUTION OF THE OLD INDEPENDENT VARIABLE\n",
    "    \n",
    "    # IF DIFFERENT\n",
    "        # ADJUST THE NEW ONE TO FOLLOW THE OLD ONE\n",
    "        \n",
    "    # DO THE SAME WITH THE DEPENDENT VARIABLE\n",
    "    \n",
    "    \n",
    "    \n",
    "    \n",
    "    filtered_dfs.append(df_filtered)\n",
    "\n",
    "# Concatenate all filtered DataFrames\n",
    "all_filtered_dfs = pd.concat(filtered_dfs)\n",
    "df_BR_applied = all_filtered_dfs.drop_duplicates()\n",
    "\n",
    "# print(final_df)\n"
   ]
  },
  {
   "cell_type": "code",
   "execution_count": null,
   "id": "0ab71b8f",
   "metadata": {
    "ExecuteTime": {
     "end_time": "2023-07-22T15:09:19.450428Z",
     "start_time": "2023-07-22T15:09:19.420262Z"
    }
   },
   "outputs": [],
   "source": [
    "df_BR_applied"
   ]
  },
  {
   "cell_type": "markdown",
   "id": "0ca38e98",
   "metadata": {},
   "source": [
    "## Save"
   ]
  },
  {
   "cell_type": "code",
   "execution_count": null,
   "id": "8a0e3112",
   "metadata": {
    "ExecuteTime": {
     "end_time": "2023-07-22T15:09:19.815450Z",
     "start_time": "2023-07-22T15:09:19.801428Z"
    }
   },
   "outputs": [],
   "source": [
    "# df_BR_applied.to_csv(\"df_BR_applied_v2.csv\")"
   ]
  },
  {
   "cell_type": "markdown",
   "id": "2443a83f",
   "metadata": {},
   "source": [
    "## Check distributions (cat features) and corr matrix (num variables) after Business rules"
   ]
  },
  {
   "cell_type": "code",
   "execution_count": null,
   "id": "1aabc430",
   "metadata": {
    "ExecuteTime": {
     "end_time": "2023-07-22T15:09:21.367503Z",
     "start_time": "2023-07-22T15:09:20.706576Z"
    }
   },
   "outputs": [],
   "source": [
    "df_BR_applied = pd.read_csv(\"df_BR_applied_v2.csv\", index_col=\"Unnamed: 0\")"
   ]
  },
  {
   "cell_type": "code",
   "execution_count": null,
   "id": "badba722",
   "metadata": {
    "ExecuteTime": {
     "end_time": "2023-07-22T15:09:21.731563Z",
     "start_time": "2023-07-22T15:09:21.716505Z"
    }
   },
   "outputs": [],
   "source": [
    "num_df.columns"
   ]
  },
  {
   "cell_type": "code",
   "execution_count": null,
   "id": "e8fc5238",
   "metadata": {
    "ExecuteTime": {
     "end_time": "2023-07-22T15:09:22.110753Z",
     "start_time": "2023-07-22T15:09:22.080567Z"
    }
   },
   "outputs": [],
   "source": [
    "num_cols = ['age', 'ind_risk', 'income', 'pers_exp', 'house_exp', 'taxes',\n",
    "       'transp_telecom', 'hobby']\n",
    "\n",
    "cat_cols = [col for col in df_merged.columns if col not in num_cols]\n",
    "\n",
    "df_BR_num = df_BR_applied.loc[:, num_cols]\n",
    "df_BR_cat = df_BR_applied.loc[:, cat_cols]"
   ]
  },
  {
   "cell_type": "markdown",
   "id": "d450173c",
   "metadata": {},
   "source": [
    "### Categotical"
   ]
  },
  {
   "cell_type": "code",
   "execution_count": null,
   "id": "9c36e6db",
   "metadata": {
    "ExecuteTime": {
     "end_time": "2023-07-22T15:09:22.659661Z",
     "start_time": "2023-07-22T15:09:22.645660Z"
    }
   },
   "outputs": [],
   "source": [
    "df_BR_cat[\"house_memb\"].value_counts(normalize=True).sort_index()\n",
    "# 0.1805,0.3778,0.2387,0.1157,0.0525,0.0238,0.011"
   ]
  },
  {
   "cell_type": "code",
   "execution_count": null,
   "id": "3d4323a5",
   "metadata": {
    "ExecuteTime": {
     "end_time": "2023-07-22T15:09:24.113334Z",
     "start_time": "2023-07-22T15:09:23.129659Z"
    }
   },
   "outputs": [],
   "source": [
    "categorical_ks_statistics = kolmogorov_smirnov_test(categorical_data=df_BR_cat,\n",
    "                                                   old_distributions=dists)"
   ]
  },
  {
   "cell_type": "markdown",
   "id": "a43268e0",
   "metadata": {},
   "source": [
    "### Numerical"
   ]
  },
  {
   "cell_type": "code",
   "execution_count": null,
   "id": "f0471cf0",
   "metadata": {
    "ExecuteTime": {
     "end_time": "2023-07-22T15:09:29.664581Z",
     "start_time": "2023-07-22T15:09:24.478355Z"
    }
   },
   "outputs": [],
   "source": [
    "\n",
    "for col in df_BR_num.columns:\n",
    "    plot_distribution(df_BR_num, col)"
   ]
  },
  {
   "cell_type": "code",
   "execution_count": null,
   "id": "ebbac88c",
   "metadata": {
    "ExecuteTime": {
     "end_time": "2023-07-22T15:09:30.295610Z",
     "start_time": "2023-07-22T15:09:30.042581Z"
    }
   },
   "outputs": [],
   "source": [
    "import numpy as np\n",
    "import pandas as pd\n",
    "import matplotlib.pyplot as plt\n",
    "\n",
    "# ... (Code from the previous answer)\n",
    "\n",
    "# Calculate the correlation matrix for the adjusted DataFrame\n",
    "correlation_matrix_adjusted = df_BR_num.corr()\n",
    "\n",
    "\n",
    "# Display the correlation matrix\n",
    "print(\"Adjusted Correlation Matrix:\")\n",
    "print(correlation_matrix_adjusted)\n",
    "\n",
    "# Convert the original correlation data (corr) to a DataFrame\n",
    "original_corr_df = pd.DataFrame(corr)\n",
    "original_corr_df.set_index('features', inplace=True)\n",
    "\n",
    "# Display the original correlation data\n",
    "print(\"\\nOriginal Correlation Matrix:\")\n",
    "print(original_corr_df)\n",
    "\n",
    "# Plot the correlation matrix heatmaps for both adjusted and original data side by side\n",
    "fig, axes = plt.subplots(1, 2, figsize=(16, 6))\n",
    "fig.suptitle(\"Comparison of Correlation Matrices\", fontsize=16)\n",
    "\n",
    "# Adjusted correlation matrix heatmap\n",
    "axes[0].imshow(correlation_matrix_adjusted, cmap='coolwarm', interpolation='nearest')\n",
    "axes[0].set_xticks(np.arange(len(correlation_matrix_adjusted)))\n",
    "axes[0].set_yticks(np.arange(len(correlation_matrix_adjusted)))\n",
    "axes[0].set_xticklabels(correlation_matrix_adjusted.columns, rotation=45)\n",
    "axes[0].set_yticklabels(correlation_matrix_adjusted.columns)\n",
    "axes[0].set_title(\"Adjusted Correlation Matrix\")\n",
    "\n",
    "# Original correlation matrix heatmap\n",
    "axes[1].imshow(original_corr_df, cmap='coolwarm', interpolation='nearest')\n",
    "axes[1].set_xticks(np.arange(len(original_corr_df)))\n",
    "axes[1].set_yticks(np.arange(len(original_corr_df)))\n",
    "axes[1].set_xticklabels(original_corr_df.columns, rotation=45)\n",
    "axes[1].set_yticklabels(original_corr_df.columns)\n",
    "axes[1].set_title(\"Original Correlation Matrix\")\n",
    "\n",
    "plt.show()\n"
   ]
  },
  {
   "cell_type": "code",
   "execution_count": null,
   "id": "f1344748",
   "metadata": {},
   "outputs": [],
   "source": []
  },
  {
   "cell_type": "code",
   "execution_count": null,
   "id": "25a48515",
   "metadata": {},
   "outputs": [],
   "source": []
  },
  {
   "cell_type": "code",
   "execution_count": null,
   "id": "15a93816",
   "metadata": {},
   "outputs": [],
   "source": []
  },
  {
   "cell_type": "markdown",
   "id": "dfdd6287",
   "metadata": {},
   "source": [
    "# Feature Engineering"
   ]
  },
  {
   "cell_type": "code",
   "execution_count": null,
   "id": "2a3c6bec",
   "metadata": {
    "ExecuteTime": {
     "end_time": "2023-07-22T15:09:31.310676Z",
     "start_time": "2023-07-22T15:09:30.664639Z"
    }
   },
   "outputs": [],
   "source": [
    "df = pd.read_csv(\"df_BR_applied_v2.csv\", index_col=\"Unnamed: 0\")\n",
    "# data_sample = df.sample(n=100)\n",
    "data_sample = df"
   ]
  },
  {
   "cell_type": "code",
   "execution_count": null,
   "id": "92070d58",
   "metadata": {
    "ExecuteTime": {
     "end_time": "2023-07-22T15:09:31.326196Z",
     "start_time": "2023-07-22T15:09:31.311676Z"
    }
   },
   "outputs": [],
   "source": [
    "df[\"mortgage\"].value_counts()"
   ]
  },
  {
   "cell_type": "markdown",
   "id": "e3ab2edb",
   "metadata": {},
   "source": [
    "## Data encoding (categorical)"
   ]
  },
  {
   "cell_type": "code",
   "execution_count": null,
   "id": "ec9f750a",
   "metadata": {
    "ExecuteTime": {
     "end_time": "2023-07-22T15:09:32.880188Z",
     "start_time": "2023-07-22T15:09:32.865144Z"
    }
   },
   "outputs": [],
   "source": [
    "cat_cols = list(dists.keys())\n",
    "print(\"few categorical columns: \", cat_cols[:5])\n",
    "num_cols = [col for col in df.columns if col not in cat_cols]\n",
    "print(\"few numerical columns: \", num_cols[:5])"
   ]
  },
  {
   "cell_type": "code",
   "execution_count": null,
   "id": "e4dac65e",
   "metadata": {
    "ExecuteTime": {
     "end_time": "2023-07-22T15:09:44.497179Z",
     "start_time": "2023-07-22T15:09:44.495179Z"
    }
   },
   "outputs": [],
   "source": [
    "def data_encoding(data, categorical_cols):\n",
    "    \n",
    "    return pd.get_dummies(data, columns=categorical_cols)\n"
   ]
  },
  {
   "cell_type": "code",
   "execution_count": null,
   "id": "54343327",
   "metadata": {
    "ExecuteTime": {
     "end_time": "2023-07-22T15:09:45.285879Z",
     "start_time": "2023-07-22T15:09:44.942179Z"
    }
   },
   "outputs": [],
   "source": [
    "encoded_data_sample = data_encoding(data_sample, categorical_cols=cat_cols)"
   ]
  },
  {
   "cell_type": "code",
   "execution_count": null,
   "id": "42cbdb0b",
   "metadata": {
    "ExecuteTime": {
     "end_time": "2023-07-22T15:09:45.762612Z",
     "start_time": "2023-07-22T15:09:45.701097Z"
    }
   },
   "outputs": [],
   "source": [
    "encoded_data_sample"
   ]
  },
  {
   "cell_type": "code",
   "execution_count": null,
   "id": "c06416da",
   "metadata": {
    "ExecuteTime": {
     "end_time": "2023-07-22T15:09:46.192655Z",
     "start_time": "2023-07-22T15:09:46.177613Z"
    }
   },
   "outputs": [],
   "source": [
    "encoded_data_sample.shape"
   ]
  },
  {
   "cell_type": "code",
   "execution_count": null,
   "id": "af791168",
   "metadata": {},
   "outputs": [],
   "source": []
  },
  {
   "cell_type": "markdown",
   "id": "422eb156",
   "metadata": {},
   "source": [
    "## Feature scaling (data standardization - numerical)"
   ]
  },
  {
   "cell_type": "markdown",
   "id": "770da2e5",
   "metadata": {},
   "source": [
    "min-max scaling and standardization (z-score normalization)."
   ]
  },
  {
   "cell_type": "markdown",
   "id": "614d6f84",
   "metadata": {},
   "source": [
    "### NOOO- Split the data into numerical and categorical"
   ]
  },
  {
   "cell_type": "code",
   "execution_count": null,
   "id": "c9f1bad0",
   "metadata": {
    "ExecuteTime": {
     "end_time": "2023-07-22T15:09:47.190655Z",
     "start_time": "2023-07-22T15:09:47.180657Z"
    }
   },
   "outputs": [],
   "source": [
    "def data_split_cat_num(data, numerical_cols):\n",
    "    \n",
    "    num_data = data[numerical_cols]\n",
    "    cat_cols = [col for col in data.columns if col not in numerical_cols]\n",
    "    cat_data = data[cat_cols]\n",
    "    \n",
    "    cat_data.reset_index(inplace=True, drop=True)\n",
    "    num_data.reset_index(inplace=True, drop=True)\n",
    "    return cat_data, num_data\n"
   ]
  },
  {
   "cell_type": "code",
   "execution_count": null,
   "id": "a45f4dfd",
   "metadata": {
    "ExecuteTime": {
     "end_time": "2023-07-22T15:10:00.277376Z",
     "start_time": "2023-07-22T15:10:00.244339Z"
    }
   },
   "outputs": [],
   "source": [
    "encoded_cat_data, encoded_num_data = data_split_cat_num(data=encoded_data_sample, \n",
    "                                                       numerical_cols=num_cols)"
   ]
  },
  {
   "cell_type": "code",
   "execution_count": null,
   "id": "02d41852",
   "metadata": {
    "ExecuteTime": {
     "end_time": "2023-07-22T15:10:00.770470Z",
     "start_time": "2023-07-22T15:10:00.724469Z"
    }
   },
   "outputs": [],
   "source": [
    "encoded_cat_data.head()"
   ]
  },
  {
   "cell_type": "code",
   "execution_count": null,
   "id": "7d9db4e8",
   "metadata": {
    "ExecuteTime": {
     "end_time": "2023-07-22T15:10:01.258483Z",
     "start_time": "2023-07-22T15:10:01.244470Z"
    }
   },
   "outputs": [],
   "source": [
    "encoded_num_data"
   ]
  },
  {
   "cell_type": "code",
   "execution_count": null,
   "id": "239dcee3",
   "metadata": {
    "ExecuteTime": {
     "end_time": "2023-07-22T15:10:01.719201Z",
     "start_time": "2023-07-22T15:10:01.704661Z"
    }
   },
   "outputs": [],
   "source": [
    "def data_standardization(data):\n",
    "    \n",
    "    from sklearn.preprocessing import StandardScaler\n",
    "    # Initialize the StandardScaler\n",
    "    scaler = StandardScaler()\n",
    "\n",
    "    # Fit and transform the DataFrame to perform standardization\n",
    "    standardized_df = pd.DataFrame(scaler.fit_transform(data), columns=data.columns)\n",
    "    \n",
    "    return standardized_df"
   ]
  },
  {
   "cell_type": "markdown",
   "id": "18ef0faf",
   "metadata": {},
   "source": [
    "test standardization with all features (not just the numerical ones)"
   ]
  },
  {
   "cell_type": "code",
   "execution_count": null,
   "id": "31e239e0",
   "metadata": {
    "ExecuteTime": {
     "end_time": "2023-07-22T15:10:04.122065Z",
     "start_time": "2023-07-22T15:10:04.099860Z"
    }
   },
   "outputs": [],
   "source": [
    "encoded_data_sample_standardized_numerical = data_standardization(encoded_num_data)"
   ]
  },
  {
   "cell_type": "code",
   "execution_count": null,
   "id": "83bf3c42",
   "metadata": {
    "ExecuteTime": {
     "end_time": "2023-07-22T15:10:04.645243Z",
     "start_time": "2023-07-22T15:10:04.598244Z"
    }
   },
   "outputs": [],
   "source": [
    "encoded_cat_data"
   ]
  },
  {
   "cell_type": "code",
   "execution_count": null,
   "id": "b4940e10",
   "metadata": {
    "ExecuteTime": {
     "end_time": "2023-07-22T15:10:05.100758Z",
     "start_time": "2023-07-22T15:10:05.086244Z"
    }
   },
   "outputs": [],
   "source": [
    "encoded_data_sample_standardized_numerical"
   ]
  },
  {
   "cell_type": "code",
   "execution_count": null,
   "id": "9f12593f",
   "metadata": {
    "ExecuteTime": {
     "end_time": "2023-07-22T15:10:05.577789Z",
     "start_time": "2023-07-22T15:10:05.563758Z"
    }
   },
   "outputs": [],
   "source": [
    "encoded_data_sample_standardized = pd.concat([encoded_cat_data, encoded_data_sample_standardized_numerical],\n",
    "                                            axis=1)"
   ]
  },
  {
   "cell_type": "code",
   "execution_count": null,
   "id": "569ba239",
   "metadata": {
    "ExecuteTime": {
     "end_time": "2023-07-22T15:10:05.593787Z",
     "start_time": "2023-07-22T15:10:05.578789Z"
    }
   },
   "outputs": [],
   "source": [
    "encoded_data_sample_standardized.shape"
   ]
  },
  {
   "cell_type": "markdown",
   "id": "b957bc0d",
   "metadata": {},
   "source": [
    "## Delete binary cols (columns that have only two possible options as values)"
   ]
  },
  {
   "cell_type": "markdown",
   "id": "570536d0",
   "metadata": {},
   "source": [
    "Will keep only the \"YES\" features (e.g. mortgage_YES - a value of 1 here means the client wants to have a mortgage, 0 - otherwise) to reduce the size of the dataset"
   ]
  },
  {
   "cell_type": "code",
   "execution_count": null,
   "id": "d51e63e3",
   "metadata": {
    "ExecuteTime": {
     "end_time": "2023-07-22T15:10:07.700761Z",
     "start_time": "2023-07-22T15:10:07.697316Z"
    }
   },
   "outputs": [],
   "source": [
    "def del_NO_cols(data, additional_cols_to_del=['banking_Offline', 'own_rent_house_my own', 'soc_econ_stat_Economically inactive', 'sex_F']):\n",
    "    \n",
    "    # select all \"_NO\" columns \n",
    "    cols_to_del = list(data.filter(regex='_NO$').columns)\n",
    "    \n",
    "    # and extend the list with additional columns to be deleted\n",
    "    cols_to_del.extend(additional_cols_to_del)\n",
    "    \n",
    "    reduced_data = data.drop(cols_to_del, axis=1)\n",
    "    \n",
    "    return reduced_data"
   ]
  },
  {
   "cell_type": "code",
   "execution_count": null,
   "id": "8cd7d253",
   "metadata": {
    "ExecuteTime": {
     "end_time": "2023-07-22T15:10:09.649538Z",
     "start_time": "2023-07-22T15:10:09.629513Z"
    }
   },
   "outputs": [],
   "source": [
    "encoded_data_sample_reduced = del_NO_cols(encoded_data_sample_standardized)\n",
    "# encoded_data_sample_reduced = del_NO_cols(encoded_data_sample)"
   ]
  },
  {
   "cell_type": "code",
   "execution_count": null,
   "id": "87e392de",
   "metadata": {
    "ExecuteTime": {
     "end_time": "2023-07-22T15:10:10.206385Z",
     "start_time": "2023-07-22T15:10:10.191389Z"
    }
   },
   "outputs": [],
   "source": [
    "encoded_data_sample_reduced.shape"
   ]
  },
  {
   "cell_type": "code",
   "execution_count": null,
   "id": "f19e5a0f",
   "metadata": {
    "ExecuteTime": {
     "end_time": "2023-07-22T15:10:10.774419Z",
     "start_time": "2023-07-22T15:10:10.743415Z"
    }
   },
   "outputs": [],
   "source": [
    "encoded_data_sample_reduced.head()"
   ]
  },
  {
   "cell_type": "markdown",
   "id": "d526eef4",
   "metadata": {},
   "source": [
    "## NOO Split data - predictors and target"
   ]
  },
  {
   "cell_type": "markdown",
   "id": "d21f26ab",
   "metadata": {},
   "source": [
    "Target features:\n",
    "\n",
    "    Overdraft\n",
    "    Consumer credit\n",
    "    Mortgage loan\n",
    "    Credit card\n"
   ]
  },
  {
   "cell_type": "code",
   "execution_count": null,
   "id": "178bbe23",
   "metadata": {
    "ExecuteTime": {
     "end_time": "2023-07-22T15:10:11.309965Z",
     "start_time": "2023-07-22T15:10:11.295417Z"
    }
   },
   "outputs": [],
   "source": [
    "encoded_data_sample_reduced.columns"
   ]
  },
  {
   "cell_type": "code",
   "execution_count": null,
   "id": "05187cee",
   "metadata": {
    "ExecuteTime": {
     "end_time": "2023-07-22T15:10:12.875265Z",
     "start_time": "2023-07-22T15:10:12.862485Z"
    }
   },
   "outputs": [],
   "source": [
    "target_columns = [\"overdraft_YES\", \"cons_cred_YES\", \"mortgage_YES\", \"bk_cc_YES\"]\n",
    "\n",
    "def split_pred_target(data, target_cols):\n",
    "\n",
    "    predictor_cols = [col for col in data.columns if col not in target_cols]\n",
    "\n",
    "    \n",
    "    X_data = data[predictor_cols]\n",
    "    y_data = data[target_cols]\n",
    "\n",
    "    return X_data, y_data\n",
    "\n"
   ]
  },
  {
   "cell_type": "code",
   "execution_count": null,
   "id": "04065ffe",
   "metadata": {
    "ExecuteTime": {
     "end_time": "2023-07-22T15:10:14.886377Z",
     "start_time": "2023-07-22T15:10:14.869866Z"
    }
   },
   "outputs": [],
   "source": [
    "X, y = split_pred_target(data=encoded_data_sample_reduced, target_cols=target_columns)"
   ]
  },
  {
   "cell_type": "code",
   "execution_count": null,
   "id": "e4288347",
   "metadata": {},
   "outputs": [],
   "source": []
  },
  {
   "cell_type": "markdown",
   "id": "e7c48aed",
   "metadata": {},
   "source": [
    "## Split data on train and test sets"
   ]
  },
  {
   "cell_type": "code",
   "execution_count": null,
   "id": "acf7da50",
   "metadata": {
    "ExecuteTime": {
     "end_time": "2023-07-22T15:10:16.382656Z",
     "start_time": "2023-07-22T15:10:15.818657Z"
    }
   },
   "outputs": [],
   "source": [
    "from sklearn.model_selection import train_test_split\n",
    "X_train, X_test, y_train, y_test = train_test_split(X, y, test_size=0.3, random_state=42, stratify=y)"
   ]
  },
  {
   "cell_type": "markdown",
   "id": "368be442",
   "metadata": {},
   "source": [
    "### Test distributions of train vs test data (Categorical) - Kolmogorov-Smirnov"
   ]
  },
  {
   "cell_type": "code",
   "execution_count": null,
   "id": "538fd9f8",
   "metadata": {
    "ExecuteTime": {
     "end_time": "2023-07-22T15:10:18.025313Z",
     "start_time": "2023-07-22T15:10:18.022256Z"
    }
   },
   "outputs": [],
   "source": [
    "num_cols"
   ]
  },
  {
   "cell_type": "markdown",
   "id": "2f441a3d",
   "metadata": {},
   "source": [
    "#### Generate encoded categorical distributions for the train data"
   ]
  },
  {
   "cell_type": "code",
   "execution_count": null,
   "id": "64a7f417",
   "metadata": {
    "ExecuteTime": {
     "end_time": "2023-07-22T15:10:19.213103Z",
     "start_time": "2023-07-22T15:10:19.082058Z"
    }
   },
   "outputs": [],
   "source": [
    "X_train_dists = {}\n",
    "\n",
    "cat_cols_encoded = [col for col in X.columns if col not in num_cols]\n",
    "\n",
    "for col in cat_cols_encoded:\n",
    "    \n",
    "    X_train_dists[col] = {'labels': list(X_train[col].value_counts().index), \n",
    "                          'values':list(X_train[col].value_counts(normalize=True).values)}"
   ]
  },
  {
   "cell_type": "code",
   "execution_count": null,
   "id": "85e518bc",
   "metadata": {
    "ExecuteTime": {
     "end_time": "2023-07-22T15:10:20.272339Z",
     "start_time": "2023-07-22T15:10:20.257827Z"
    }
   },
   "outputs": [],
   "source": [
    "# X_train_dists"
   ]
  },
  {
   "cell_type": "markdown",
   "id": "e1f64434",
   "metadata": {},
   "source": [
    "#### Perform the test"
   ]
  },
  {
   "cell_type": "code",
   "execution_count": null,
   "id": "0ce00591",
   "metadata": {
    "ExecuteTime": {
     "end_time": "2023-07-22T15:10:21.161364Z",
     "start_time": "2023-07-22T15:10:20.928366Z"
    }
   },
   "outputs": [],
   "source": [
    "kolmogorov_smirnov_test(X_test[cat_cols_encoded], X_train_dists)"
   ]
  },
  {
   "cell_type": "markdown",
   "id": "cc2f3cf7",
   "metadata": {},
   "source": []
  },
  {
   "cell_type": "markdown",
   "id": "e0faaba8",
   "metadata": {},
   "source": [
    "### Numerical data checks"
   ]
  },
  {
   "cell_type": "markdown",
   "id": "ab08a153",
   "metadata": {},
   "source": [
    "#### Check distributions of train vs test numerical data"
   ]
  },
  {
   "cell_type": "code",
   "execution_count": null,
   "id": "600a53f7",
   "metadata": {
    "ExecuteTime": {
     "end_time": "2023-07-22T15:10:29.422666Z",
     "start_time": "2023-07-22T15:10:25.561509Z"
    }
   },
   "outputs": [],
   "source": [
    "for col in X_train[num_cols].columns:\n",
    "    plot_distribution(X_train[num_cols], col)"
   ]
  },
  {
   "cell_type": "code",
   "execution_count": null,
   "id": "2f3f8394",
   "metadata": {
    "ExecuteTime": {
     "end_time": "2023-07-22T15:10:31.809462Z",
     "start_time": "2023-07-22T15:10:30.069665Z"
    }
   },
   "outputs": [],
   "source": [
    "for col in X_test[num_cols].columns:\n",
    "    plot_distribution(X_test[num_cols], col)"
   ]
  },
  {
   "cell_type": "markdown",
   "id": "1479f139",
   "metadata": {},
   "source": [
    "####  Compare the corr matrices"
   ]
  },
  {
   "cell_type": "code",
   "execution_count": null,
   "id": "b27e7cec",
   "metadata": {
    "ExecuteTime": {
     "end_time": "2023-07-22T15:10:40.495149Z",
     "start_time": "2023-07-22T15:10:40.300148Z"
    }
   },
   "outputs": [],
   "source": [
    "import numpy as np\n",
    "import pandas as pd\n",
    "import matplotlib.pyplot as plt\n",
    "\n",
    "# ... (Code from the previous answer)\n",
    "\n",
    "# Calculate the correlation matrix for the adjusted DataFrame\n",
    "correlation_matrix_adjusted = X_test[num_cols].corr()\n",
    "\n",
    "\n",
    "# Display the correlation matrix\n",
    "print(\"Adjusted Correlation Matrix:\")\n",
    "print(correlation_matrix_adjusted)\n",
    "\n",
    "# Convert the original correlation data (corr) to a DataFrame\n",
    "original_corr_df = pd.DataFrame(X_train[num_cols].corr())\n",
    "# original_corr_df.set_index('features', inplace=True)\n",
    "\n",
    "# Display the original correlation data\n",
    "print(\"\\nOriginal Correlation Matrix:\")\n",
    "print(original_corr_df)\n",
    "\n",
    "# Plot the correlation matrix heatmaps for both adjusted and original data side by side\n",
    "fig, axes = plt.subplots(1, 2, figsize=(16, 6))\n",
    "fig.suptitle(\"Comparison of Correlation Matrices\", fontsize=16)\n",
    "\n",
    "# Adjusted correlation matrix heatmap\n",
    "axes[0].imshow(correlation_matrix_adjusted, cmap='coolwarm', interpolation='nearest')\n",
    "axes[0].set_xticks(np.arange(len(correlation_matrix_adjusted)))\n",
    "axes[0].set_yticks(np.arange(len(correlation_matrix_adjusted)))\n",
    "axes[0].set_xticklabels(correlation_matrix_adjusted.columns, rotation=45)\n",
    "axes[0].set_yticklabels(correlation_matrix_adjusted.columns)\n",
    "axes[0].set_title(\"Adjusted Correlation Matrix\")\n",
    "\n",
    "# Original correlation matrix heatmap\n",
    "axes[1].imshow(original_corr_df, cmap='coolwarm', interpolation='nearest')\n",
    "axes[1].set_xticks(np.arange(len(original_corr_df)))\n",
    "axes[1].set_yticks(np.arange(len(original_corr_df)))\n",
    "axes[1].set_xticklabels(original_corr_df.columns, rotation=45)\n",
    "axes[1].set_yticklabels(original_corr_df.columns)\n",
    "axes[1].set_title(\"Original Correlation Matrix\")\n",
    "\n",
    "plt.show()\n"
   ]
  },
  {
   "cell_type": "markdown",
   "id": "ba28fed6",
   "metadata": {},
   "source": [
    "## Generate new features"
   ]
  },
  {
   "cell_type": "markdown",
   "id": "f6d70b16",
   "metadata": {},
   "source": [
    "### Generate Non-Linear features"
   ]
  },
  {
   "cell_type": "code",
   "execution_count": null,
   "id": "17822582",
   "metadata": {
    "ExecuteTime": {
     "end_time": "2022-09-03T14:38:09.753421Z",
     "start_time": "2022-09-03T14:38:09.738424Z"
    },
    "scrolled": true
   },
   "outputs": [],
   "source": [
    "X_train_fs.columns"
   ]
  },
  {
   "cell_type": "markdown",
   "id": "3117ed00",
   "metadata": {},
   "source": [
    "#### Logarithmic"
   ]
  },
  {
   "cell_type": "code",
   "execution_count": null,
   "id": "913b8ea4",
   "metadata": {
    "ExecuteTime": {
     "end_time": "2022-09-03T14:38:09.769421Z",
     "start_time": "2022-09-03T14:38:09.755423Z"
    }
   },
   "outputs": [],
   "source": [
    "orig_cols = X_train_fs.columns"
   ]
  },
  {
   "cell_type": "code",
   "execution_count": null,
   "id": "292e8f99",
   "metadata": {
    "ExecuteTime": {
     "end_time": "2022-09-03T14:38:09.785421Z",
     "start_time": "2022-09-03T14:38:09.771424Z"
    }
   },
   "outputs": [],
   "source": [
    "len(X_train_fs)"
   ]
  },
  {
   "cell_type": "code",
   "execution_count": null,
   "id": "939e5432",
   "metadata": {
    "ExecuteTime": {
     "end_time": "2022-09-03T14:38:09.801421Z",
     "start_time": "2022-09-03T14:38:09.787422Z"
    }
   },
   "outputs": [],
   "source": [
    "np.log(-1)"
   ]
  },
  {
   "cell_type": "code",
   "execution_count": null,
   "id": "2f1d2a37",
   "metadata": {
    "ExecuteTime": {
     "end_time": "2022-09-03T14:38:09.975423Z",
     "start_time": "2022-09-03T14:38:09.803425Z"
    }
   },
   "outputs": [],
   "source": [
    "for col in orig_cols:\n",
    "    \n",
    "    new_col_name = col + \"_log\"\n",
    "\n",
    "    X_train_fs[new_col_name] = np.log(X_train[col])\n",
    "    X_test_fs[new_col_name] = np.log(X_test_fs[col])"
   ]
  },
  {
   "cell_type": "code",
   "execution_count": null,
   "id": "ae093504",
   "metadata": {
    "ExecuteTime": {
     "end_time": "2022-09-03T14:38:10.007422Z",
     "start_time": "2022-09-03T14:38:09.977423Z"
    }
   },
   "outputs": [],
   "source": [
    "X_train_fs.info(verbose=True, show_counts=True)"
   ]
  },
  {
   "cell_type": "code",
   "execution_count": null,
   "id": "989117fd",
   "metadata": {},
   "outputs": [],
   "source": []
  },
  {
   "cell_type": "markdown",
   "id": "847c9b69",
   "metadata": {},
   "source": [
    "#### Quadratic"
   ]
  },
  {
   "cell_type": "code",
   "execution_count": null,
   "id": "78ea111b",
   "metadata": {
    "ExecuteTime": {
     "end_time": "2022-09-03T14:38:10.085421Z",
     "start_time": "2022-09-03T14:38:10.009423Z"
    }
   },
   "outputs": [],
   "source": [
    "for col in orig_cols:\n",
    "    \n",
    "    new_col_name = col + \"_x2\"\n",
    "\n",
    "    X_train_fs[new_col_name] = X_train[col]**2\n",
    "    X_test_fs[new_col_name] = X_test_fs[col]**2"
   ]
  },
  {
   "cell_type": "markdown",
   "id": "aa59fac6",
   "metadata": {},
   "source": [
    "#### Reciprocal"
   ]
  },
  {
   "cell_type": "code",
   "execution_count": null,
   "id": "3f87ac1d",
   "metadata": {
    "ExecuteTime": {
     "end_time": "2022-09-03T14:38:10.161422Z",
     "start_time": "2022-09-03T14:38:10.091425Z"
    }
   },
   "outputs": [],
   "source": [
    "for col in orig_cols:\n",
    "    \n",
    "    new_col_name = col + \"_1/x\"\n",
    "\n",
    "    X_train_fs[new_col_name] = 1/X_train[col]\n",
    "    X_test_fs[new_col_name] = 1/X_test_fs[col]"
   ]
  },
  {
   "cell_type": "code",
   "execution_count": null,
   "id": "cb87bccb",
   "metadata": {},
   "outputs": [],
   "source": []
  },
  {
   "cell_type": "markdown",
   "id": "9ddf6235",
   "metadata": {},
   "source": [
    "#### Exponential"
   ]
  },
  {
   "cell_type": "code",
   "execution_count": null,
   "id": "748a788f",
   "metadata": {
    "ExecuteTime": {
     "end_time": "2022-09-03T14:38:10.177421Z",
     "start_time": "2022-09-03T14:38:10.162422Z"
    }
   },
   "outputs": [],
   "source": [
    "np.exp(4)"
   ]
  },
  {
   "cell_type": "code",
   "execution_count": null,
   "id": "8410e7b3",
   "metadata": {
    "ExecuteTime": {
     "end_time": "2022-09-03T14:38:10.289421Z",
     "start_time": "2022-09-03T14:38:10.178424Z"
    }
   },
   "outputs": [],
   "source": [
    "for col in orig_cols:\n",
    "    \n",
    "    new_col_name = col + \"_exp\"\n",
    "\n",
    "    X_train_fs[new_col_name] = np.exp(X_train[col])\n",
    "    X_test_fs[new_col_name] = np.exp(X_test_fs[col])"
   ]
  },
  {
   "cell_type": "markdown",
   "id": "5d3f622f",
   "metadata": {},
   "source": [
    "#### Square rooted"
   ]
  },
  {
   "cell_type": "code",
   "execution_count": null,
   "id": "8674c3bc",
   "metadata": {
    "ExecuteTime": {
     "end_time": "2022-09-03T14:38:10.401421Z",
     "start_time": "2022-09-03T14:38:10.291422Z"
    }
   },
   "outputs": [],
   "source": [
    "for col in orig_cols:\n",
    "    \n",
    "    new_col_name = col + \"_sqrt\"\n",
    "\n",
    "    X_train_fs[new_col_name] = np.exp(X_train[col])\n",
    "    X_test_fs[new_col_name] = np.exp(X_test_fs[col])"
   ]
  },
  {
   "cell_type": "code",
   "execution_count": null,
   "id": "efe5614d",
   "metadata": {},
   "outputs": [],
   "source": []
  },
  {
   "cell_type": "markdown",
   "id": "66901ce6",
   "metadata": {},
   "source": [
    "### Generate custom features (based on domain knowledge)"
   ]
  },
  {
   "cell_type": "code",
   "execution_count": null,
   "id": "2196ce93",
   "metadata": {},
   "outputs": [],
   "source": []
  },
  {
   "cell_type": "markdown",
   "id": "5dbaa2d5",
   "metadata": {},
   "source": [
    "## Feature selection"
   ]
  },
  {
   "cell_type": "code",
   "execution_count": null,
   "id": "e538be05",
   "metadata": {
    "ExecuteTime": {
     "end_time": "2022-09-03T08:31:24.584423Z",
     "start_time": "2022-09-03T08:31:24.561378Z"
    }
   },
   "outputs": [],
   "source": [
    "X_train.info()"
   ]
  },
  {
   "cell_type": "code",
   "execution_count": null,
   "id": "de45cb3f",
   "metadata": {
    "ExecuteTime": {
     "end_time": "2022-09-03T08:31:25.852684Z",
     "start_time": "2022-09-03T08:31:25.807075Z"
    }
   },
   "outputs": [],
   "source": [
    "X_train.head()"
   ]
  },
  {
   "cell_type": "code",
   "execution_count": null,
   "id": "24d1c7f3",
   "metadata": {
    "ExecuteTime": {
     "end_time": "2022-09-03T08:31:28.805501Z",
     "start_time": "2022-09-03T08:31:28.791927Z"
    }
   },
   "outputs": [],
   "source": [
    "X_train.columns"
   ]
  },
  {
   "cell_type": "code",
   "execution_count": null,
   "id": "691cecd5",
   "metadata": {
    "ExecuteTime": {
     "end_time": "2022-09-03T08:31:30.727629Z",
     "start_time": "2022-09-03T08:31:30.721628Z"
    }
   },
   "outputs": [],
   "source": [
    "# num_features = []"
   ]
  },
  {
   "cell_type": "code",
   "execution_count": null,
   "id": "057cf7fc",
   "metadata": {
    "ExecuteTime": {
     "end_time": "2022-09-03T08:31:46.285276Z",
     "start_time": "2022-09-03T08:31:46.275276Z"
    }
   },
   "outputs": [],
   "source": [
    "# cat_features = [col for col in X_train_fs.columns if col not in num_features]"
   ]
  },
  {
   "cell_type": "markdown",
   "id": "58bece68",
   "metadata": {},
   "source": [
    "### Select numerical features (ANOVA)"
   ]
  },
  {
   "cell_type": "code",
   "execution_count": null,
   "id": "5fc9fc21",
   "metadata": {
    "ExecuteTime": {
     "end_time": "2022-09-03T20:04:19.284487Z",
     "start_time": "2022-09-03T20:04:19.136349Z"
    }
   },
   "outputs": [],
   "source": [
    "from sklearn.datasets import make_classification\n",
    "from sklearn.feature_selection import SelectKBest\n",
    "from sklearn.feature_selection import f_classif, chi2\n",
    "\n",
    "pd.options.display.float_format = '{:,.5f}'.format"
   ]
  },
  {
   "cell_type": "code",
   "execution_count": null,
   "id": "ae58b1a7",
   "metadata": {
    "ExecuteTime": {
     "end_time": "2022-09-03T20:04:20.088780Z",
     "start_time": "2022-09-03T20:04:20.031646Z"
    }
   },
   "outputs": [],
   "source": [
    "# define feature selection\n",
    "fs_num = SelectKBest(score_func=f_classif, k=12)\n",
    "# apply feature selection\n",
    "X_selected_num = fs_num.fit_transform(X_train_fs[num_features], y_train)\n",
    "print(X_selected_num.shape)"
   ]
  },
  {
   "cell_type": "code",
   "execution_count": null,
   "id": "849304b7",
   "metadata": {
    "ExecuteTime": {
     "end_time": "2022-09-03T20:04:21.010861Z",
     "start_time": "2022-09-03T20:04:21.004341Z"
    }
   },
   "outputs": [],
   "source": [
    "fs_num.get_support(indices=True)"
   ]
  },
  {
   "cell_type": "code",
   "execution_count": null,
   "id": "cbfbd66f",
   "metadata": {
    "ExecuteTime": {
     "end_time": "2022-09-03T20:04:21.728429Z",
     "start_time": "2022-09-03T20:04:21.714429Z"
    }
   },
   "outputs": [],
   "source": [
    "num_fs = X_train_fs.iloc[:, fs_num.get_support(indices=True)].columns"
   ]
  },
  {
   "cell_type": "code",
   "execution_count": null,
   "id": "caee0f2d",
   "metadata": {
    "ExecuteTime": {
     "end_time": "2022-09-03T20:04:22.429116Z",
     "start_time": "2022-09-03T20:04:22.416606Z"
    }
   },
   "outputs": [],
   "source": [
    "num_fs"
   ]
  },
  {
   "cell_type": "code",
   "execution_count": null,
   "id": "27441626",
   "metadata": {
    "ExecuteTime": {
     "end_time": "2022-09-03T20:04:23.120829Z",
     "start_time": "2022-09-03T20:04:23.106815Z"
    }
   },
   "outputs": [],
   "source": [
    "X_train_num_fs = X_train_fs.loc[:, num_fs]"
   ]
  },
  {
   "cell_type": "code",
   "execution_count": null,
   "id": "7aefd037",
   "metadata": {
    "ExecuteTime": {
     "end_time": "2022-09-03T20:04:23.837891Z",
     "start_time": "2022-09-03T20:04:23.826373Z"
    }
   },
   "outputs": [],
   "source": [
    "fs_num.pvalues_.shape"
   ]
  },
  {
   "cell_type": "code",
   "execution_count": null,
   "id": "984edfb1",
   "metadata": {
    "ExecuteTime": {
     "end_time": "2022-09-03T20:04:24.542425Z",
     "start_time": "2022-09-03T20:04:24.527762Z"
    }
   },
   "outputs": [],
   "source": [
    "len(num_features)"
   ]
  },
  {
   "cell_type": "code",
   "execution_count": null,
   "id": "78468d40",
   "metadata": {
    "ExecuteTime": {
     "end_time": "2022-09-03T20:04:25.242910Z",
     "start_time": "2022-09-03T20:04:25.227911Z"
    }
   },
   "outputs": [],
   "source": [
    "float_formatter = \"{:.5f}\".format\n",
    "\n",
    "np.set_printoptions(formatter={'float_kind':float_formatter})\n"
   ]
  },
  {
   "cell_type": "code",
   "execution_count": null,
   "id": "6332c999",
   "metadata": {
    "ExecuteTime": {
     "end_time": "2022-09-03T20:04:25.945931Z",
     "start_time": "2022-09-03T20:04:25.931928Z"
    }
   },
   "outputs": [],
   "source": [
    "fs_num.pvalues_"
   ]
  },
  {
   "cell_type": "code",
   "execution_count": null,
   "id": "1ba02b00",
   "metadata": {
    "ExecuteTime": {
     "end_time": "2022-09-03T20:04:26.650972Z",
     "start_time": "2022-09-03T20:04:26.636429Z"
    }
   },
   "outputs": [],
   "source": [
    "p_vals_num = pd.Series(data=fs_num.pvalues_, index=num_features)"
   ]
  },
  {
   "cell_type": "code",
   "execution_count": null,
   "id": "46006f92",
   "metadata": {
    "ExecuteTime": {
     "end_time": "2022-09-03T20:04:27.349953Z",
     "start_time": "2022-09-03T20:04:27.338953Z"
    }
   },
   "outputs": [],
   "source": [
    "p_vals_num.sort_values(ascending=False)"
   ]
  },
  {
   "cell_type": "code",
   "execution_count": null,
   "id": "c85072cd",
   "metadata": {},
   "outputs": [],
   "source": []
  },
  {
   "cell_type": "code",
   "execution_count": null,
   "id": "2aa188ca",
   "metadata": {
    "ExecuteTime": {
     "end_time": "2022-09-03T20:04:28.486221Z",
     "start_time": "2022-09-03T20:04:28.479712Z"
    }
   },
   "outputs": [],
   "source": [
    "num_fs"
   ]
  },
  {
   "cell_type": "code",
   "execution_count": null,
   "id": "a0dc28a7",
   "metadata": {},
   "outputs": [],
   "source": []
  },
  {
   "cell_type": "markdown",
   "id": "9924e376",
   "metadata": {},
   "source": [
    "### Select categorical features (Chi Squared)"
   ]
  },
  {
   "cell_type": "code",
   "execution_count": null,
   "id": "764be6b0",
   "metadata": {
    "ExecuteTime": {
     "end_time": "2022-09-03T20:04:29.704950Z",
     "start_time": "2022-09-03T20:04:29.678862Z"
    }
   },
   "outputs": [],
   "source": [
    "X_train_fs[cat_features].shape"
   ]
  },
  {
   "cell_type": "code",
   "execution_count": null,
   "id": "a93e950e",
   "metadata": {
    "ExecuteTime": {
     "end_time": "2022-09-03T20:04:30.589912Z",
     "start_time": "2022-09-03T20:04:30.404816Z"
    }
   },
   "outputs": [],
   "source": [
    "fs_cat = SelectKBest(score_func=chi2, k=12)\n",
    "X_selected_cat = fs_cat.fit_transform(X_train_fs[cat_features], y_train)\n",
    "print(X_selected_cat.shape)"
   ]
  },
  {
   "cell_type": "code",
   "execution_count": null,
   "id": "ea55f4a4",
   "metadata": {
    "ExecuteTime": {
     "end_time": "2022-09-03T20:04:30.596914Z",
     "start_time": "2022-09-03T20:04:30.596914Z"
    }
   },
   "outputs": [],
   "source": [
    "fs_cat.get_support(indices=True)"
   ]
  },
  {
   "cell_type": "code",
   "execution_count": null,
   "id": "457b183c",
   "metadata": {
    "ExecuteTime": {
     "end_time": "2022-09-03T20:04:30.601915Z",
     "start_time": "2022-09-03T20:04:30.601915Z"
    }
   },
   "outputs": [],
   "source": [
    "cat_fs = X_train_fs.iloc[:, fs_cat.get_support(indices=True)].columns"
   ]
  },
  {
   "cell_type": "code",
   "execution_count": null,
   "id": "952c9bdc",
   "metadata": {
    "ExecuteTime": {
     "end_time": "2022-09-03T20:04:30.606914Z",
     "start_time": "2022-09-03T20:04:30.606914Z"
    }
   },
   "outputs": [],
   "source": [
    "cat_fs"
   ]
  },
  {
   "cell_type": "code",
   "execution_count": null,
   "id": "483d38f6",
   "metadata": {
    "ExecuteTime": {
     "end_time": "2022-09-03T08:08:08.630470Z",
     "start_time": "2022-09-03T08:08:08.616438Z"
    }
   },
   "outputs": [],
   "source": [
    "X_train_cat_fs = X_train_fs.loc[:, cat_fs]"
   ]
  },
  {
   "cell_type": "code",
   "execution_count": null,
   "id": "6afe09ad",
   "metadata": {
    "ExecuteTime": {
     "end_time": "2022-09-03T08:08:09.071493Z",
     "start_time": "2022-09-03T08:08:09.056468Z"
    }
   },
   "outputs": [],
   "source": [
    "X_train_cat_fs.head()"
   ]
  },
  {
   "cell_type": "code",
   "execution_count": null,
   "id": "5421e17f",
   "metadata": {
    "ExecuteTime": {
     "end_time": "2022-09-03T08:08:09.528752Z",
     "start_time": "2022-09-03T08:08:09.515208Z"
    }
   },
   "outputs": [],
   "source": [
    "fs_cat.pvalues_.shape"
   ]
  },
  {
   "cell_type": "code",
   "execution_count": null,
   "id": "ee160c67",
   "metadata": {
    "ExecuteTime": {
     "end_time": "2022-09-03T08:08:09.983774Z",
     "start_time": "2022-09-03T08:08:09.968775Z"
    }
   },
   "outputs": [],
   "source": [
    "len(cat_features)"
   ]
  },
  {
   "cell_type": "code",
   "execution_count": null,
   "id": "84a65f03",
   "metadata": {
    "ExecuteTime": {
     "end_time": "2022-09-03T08:08:10.426703Z",
     "start_time": "2022-09-03T08:08:10.413774Z"
    }
   },
   "outputs": [],
   "source": [
    "float_formatter = \"{:.5f}\".format\n",
    "\n",
    "np.set_printoptions(formatter={'float_kind':float_formatter})\n"
   ]
  },
  {
   "cell_type": "code",
   "execution_count": null,
   "id": "4c2738fb",
   "metadata": {
    "ExecuteTime": {
     "end_time": "2022-09-03T08:08:10.865550Z",
     "start_time": "2022-09-03T08:08:10.851990Z"
    }
   },
   "outputs": [],
   "source": [
    "fs_cat.pvalues_"
   ]
  },
  {
   "cell_type": "code",
   "execution_count": null,
   "id": "9e57c38c",
   "metadata": {
    "ExecuteTime": {
     "end_time": "2022-09-03T08:08:11.317066Z",
     "start_time": "2022-09-03T08:08:11.303551Z"
    }
   },
   "outputs": [],
   "source": [
    "p_vals_cat = pd.Series(data=fs_cat.pvalues_, index=cat_features)"
   ]
  },
  {
   "cell_type": "code",
   "execution_count": null,
   "id": "62022001",
   "metadata": {
    "ExecuteTime": {
     "end_time": "2022-09-03T08:08:11.776584Z",
     "start_time": "2022-09-03T08:08:11.764066Z"
    }
   },
   "outputs": [],
   "source": [
    "p_vals_cat.sort_values(ascending=False)"
   ]
  },
  {
   "cell_type": "code",
   "execution_count": null,
   "id": "df0fe45f",
   "metadata": {},
   "outputs": [],
   "source": []
  },
  {
   "cell_type": "code",
   "execution_count": null,
   "id": "f4733ae3",
   "metadata": {
    "ExecuteTime": {
     "end_time": "2022-09-03T08:10:12.003229Z",
     "start_time": "2022-09-03T08:10:11.986703Z"
    }
   },
   "outputs": [],
   "source": [
    "cat_fs"
   ]
  },
  {
   "cell_type": "code",
   "execution_count": null,
   "id": "54f16f85",
   "metadata": {
    "ExecuteTime": {
     "end_time": "2022-09-03T08:13:15.796963Z",
     "start_time": "2022-09-03T08:13:15.778942Z"
    }
   },
   "outputs": [],
   "source": [
    "all_st_fs = []\n",
    "all_st_fs.extend(list(cat_fs))\n",
    "all_st_fs.extend(list(num_fs))"
   ]
  },
  {
   "cell_type": "code",
   "execution_count": null,
   "id": "5950a7fc",
   "metadata": {
    "ExecuteTime": {
     "end_time": "2022-09-03T08:17:29.617372Z",
     "start_time": "2022-09-03T08:17:29.607858Z"
    }
   },
   "outputs": [],
   "source": [
    "all_st_fs"
   ]
  },
  {
   "cell_type": "code",
   "execution_count": null,
   "id": "e840280a",
   "metadata": {},
   "outputs": [],
   "source": []
  },
  {
   "cell_type": "code",
   "execution_count": null,
   "id": "1a5dfab4",
   "metadata": {},
   "outputs": [],
   "source": []
  },
  {
   "cell_type": "code",
   "execution_count": null,
   "id": "d0f95cdb",
   "metadata": {},
   "outputs": [],
   "source": []
  },
  {
   "cell_type": "markdown",
   "id": "741c505d",
   "metadata": {},
   "source": [
    "###  NOOO Combine num and cat selected features"
   ]
  },
  {
   "cell_type": "code",
   "execution_count": null,
   "id": "1e7a1c35",
   "metadata": {
    "ExecuteTime": {
     "end_time": "2022-09-03T08:17:04.804429Z",
     "start_time": "2022-09-03T08:17:04.792400Z"
    }
   },
   "outputs": [],
   "source": [
    "features_selected = [col for col in X_train.columns if col in all_st_fs]"
   ]
  },
  {
   "cell_type": "code",
   "execution_count": null,
   "id": "9fec1ebb",
   "metadata": {
    "ExecuteTime": {
     "end_time": "2022-09-03T08:17:05.274143Z",
     "start_time": "2022-09-03T08:17:05.261141Z"
    }
   },
   "outputs": [],
   "source": [
    "len(features_selected)"
   ]
  },
  {
   "cell_type": "code",
   "execution_count": null,
   "id": "5514972d",
   "metadata": {
    "ExecuteTime": {
     "end_time": "2022-09-03T08:16:28.936630Z",
     "start_time": "2022-09-03T08:16:28.909099Z"
    }
   },
   "outputs": [],
   "source": [
    "X_train_fs, X_test_fs = X_train[features_selected], X_test[features_selected]"
   ]
  },
  {
   "cell_type": "code",
   "execution_count": null,
   "id": "592cc160",
   "metadata": {},
   "outputs": [],
   "source": []
  },
  {
   "cell_type": "code",
   "execution_count": null,
   "id": "53c16b81",
   "metadata": {},
   "outputs": [],
   "source": []
  },
  {
   "cell_type": "code",
   "execution_count": null,
   "id": "25c56628",
   "metadata": {},
   "outputs": [],
   "source": []
  },
  {
   "cell_type": "code",
   "execution_count": null,
   "id": "74df651b",
   "metadata": {},
   "outputs": [],
   "source": []
  },
  {
   "cell_type": "markdown",
   "id": "de4c4cba",
   "metadata": {},
   "source": [
    "## Balance the dependent variable of the training data"
   ]
  },
  {
   "cell_type": "markdown",
   "id": "8c763bb0",
   "metadata": {},
   "source": [
    "Multiple ways to do that:\n",
    "- SMOTE\n",
    "- **TODO** RandomOverSampler with correlation-aware sampling (ROS-CAS)\n",
    "\n",
    "\n",
    "Will split y_train into four different y_trains for each category. The idea is that we'll have four separate models in the end that are going to make predictions for each class separately."
   ]
  },
  {
   "cell_type": "markdown",
   "id": "7821f430",
   "metadata": {},
   "source": [
    "### SMOTE"
   ]
  },
  {
   "cell_type": "code",
   "execution_count": null,
   "id": "d98f9b22",
   "metadata": {
    "ExecuteTime": {
     "end_time": "2023-07-22T15:11:00.042447Z",
     "start_time": "2023-07-22T15:11:00.031448Z"
    }
   },
   "outputs": [],
   "source": [
    "from sklearn.datasets import make_classification\n",
    "from imblearn.over_sampling import SMOTE\n",
    "from collections import Counter\n",
    "\n",
    "\n",
    "y_train_overdraft = y_train[\"overdraft_YES\"]\n",
    "y_train_cons_cred = y_train[\"cons_cred_YES\"]\n",
    "y_train_mortgage  = y_train[\"mortgage_YES\"]\n",
    "y_train_bk_cc     = y_train[\"bk_cc_YES\"]\n",
    "\n",
    "\n",
    "\n",
    "y_test_overdraft = y_test[\"overdraft_YES\"]\n",
    "y_test_cons_cred = y_test[\"cons_cred_YES\"]\n",
    "y_test_mortgage  = y_test[\"mortgage_YES\"]\n",
    "y_test_bk_cc     = y_test[\"bk_cc_YES\"]\n"
   ]
  },
  {
   "cell_type": "code",
   "execution_count": null,
   "id": "6b6ab59b",
   "metadata": {
    "ExecuteTime": {
     "end_time": "2023-07-22T15:11:02.158540Z",
     "start_time": "2023-07-22T15:11:02.144541Z"
    }
   },
   "outputs": [],
   "source": [
    "y_train_overdraft.name"
   ]
  },
  {
   "cell_type": "code",
   "execution_count": null,
   "id": "6a826296",
   "metadata": {
    "ExecuteTime": {
     "end_time": "2023-07-22T15:11:02.841099Z",
     "start_time": "2023-07-22T15:11:02.826540Z"
    }
   },
   "outputs": [],
   "source": [
    "def oversample_with_SMOTE(train_X, train_y):\n",
    "    \n",
    "\n",
    "    os = SMOTE(random_state=42)\n",
    "\n",
    "    os_X_tr, os_y_tr = os.fit_resample(train_X, train_y)\n",
    "    # TODO ...the rest to follow later\n",
    "\n",
    "    df_os_X_tr = pd.DataFrame(data=os_X_tr ,columns=train_X.columns)\n",
    "    df_os_y_tr = pd.DataFrame(data=os_y_tr, columns=[train_y.name])\n",
    "\n",
    "\n",
    "    # check old and new distributions:\n",
    "    print(\"Original data target distributions:\")\n",
    "    print(train_y.value_counts())\n",
    "    print()\n",
    "    print()\n",
    "    print(\"Oversampled data target distributions:\")\n",
    "    print(df_os_y_tr.value_counts())\n",
    "    \n",
    "    \n",
    "    return df_os_X_tr, df_os_y_tr"
   ]
  },
  {
   "cell_type": "code",
   "execution_count": null,
   "id": "12295107",
   "metadata": {
    "ExecuteTime": {
     "end_time": "2023-07-22T15:11:05.081788Z",
     "start_time": "2023-07-22T15:11:04.136941Z"
    }
   },
   "outputs": [],
   "source": [
    "df_os_X_train_overdraft, df_os_y_train_overdraft = oversample_with_SMOTE(train_X=X_train, train_y=y_train_overdraft)"
   ]
  },
  {
   "cell_type": "code",
   "execution_count": null,
   "id": "130c0de3",
   "metadata": {
    "ExecuteTime": {
     "end_time": "2023-07-22T15:12:08.120247Z",
     "start_time": "2023-07-22T15:12:08.106637Z"
    }
   },
   "outputs": [],
   "source": [
    "y_train_overdraft_ravel = df_os_y_train_overdraft.values.ravel()\n"
   ]
  },
  {
   "cell_type": "code",
   "execution_count": null,
   "id": "789f3749",
   "metadata": {},
   "outputs": [],
   "source": []
  },
  {
   "cell_type": "markdown",
   "id": "6e9a2b98",
   "metadata": {},
   "source": [
    "#### NOO Save training data"
   ]
  },
  {
   "cell_type": "code",
   "execution_count": null,
   "id": "758933d6",
   "metadata": {
    "ExecuteTime": {
     "end_time": "2023-07-22T15:12:12.938962Z",
     "start_time": "2023-07-22T15:12:10.195361Z"
    }
   },
   "outputs": [],
   "source": [
    "df_os_X_train_overdraft.to_csv(\"df_os_X_train_overdraft_v1.csv\")\n",
    "pd.Series(y_train_overdraft_ravel, name='overdraft').to_csv(\"y_train_overdraft_ravel_v1.csv\")"
   ]
  },
  {
   "cell_type": "markdown",
   "id": "3fb3f7fb",
   "metadata": {},
   "source": [
    "# Modeling "
   ]
  },
  {
   "cell_type": "code",
   "execution_count": null,
   "id": "908a4a9f",
   "metadata": {
    "ExecuteTime": {
     "end_time": "2023-07-22T15:51:45.949758Z",
     "start_time": "2023-07-22T15:51:45.943763Z"
    }
   },
   "outputs": [],
   "source": [
    "def model_cv_performance_measure(model, X, y, cv):\n",
    "\n",
    "\n",
    "    # Define the scoring metric you want to use (in this case, recall)\n",
    "    scorer = make_scorer(recall_score, average='binary')\n",
    "    # scorer = make_scorer(auc)\n",
    "\n",
    "\n",
    "    # Perform cross-validation and compute recall\n",
    "    recall_scores = cross_val_score(model, X, y, cv=cv, scoring=scorer)\n",
    "\n",
    "    # The recall scores for each fold will be stored in recall_scores\n",
    "    print(\"Recall scores for each fold:\", recall_scores)\n",
    "\n",
    "    # The average recall score across all folds\n",
    "    print(\"Min recall:\", recall_scores.min())\n",
    "\n",
    "    model.fit(X, y)\n",
    "    print()\n",
    "    y_pred = model.predict(X)# performance\n",
    "    print(f'Accuracy Score: {accuracy_score(y,y_pred)}')\n",
    "    print(f'Confusion Matrix: \\n{confusion_matrix(y, y_pred)}')\n",
    "    print(f'Area Under Curve: {roc_auc_score(y, y_pred)}')\n",
    "    print(f'Recall score: {recall_score(y,y_pred)}')\n"
   ]
  },
  {
   "cell_type": "code",
   "execution_count": null,
   "id": "6845ea1a",
   "metadata": {
    "ExecuteTime": {
     "end_time": "2023-07-22T15:53:57.111549Z",
     "start_time": "2023-07-22T15:53:57.101474Z"
    }
   },
   "outputs": [],
   "source": [
    "def model_test_performance_measure(model, train_X, train_y, test_X, test_y, cv):\n",
    "    \n",
    "    model.fit(train_X, train_y)\n",
    "    print()\n",
    "    y_pred = model.predict(test_X)# performance\n",
    "    print(f'Accuracy Score: {accuracy_score(test_y,y_pred)}')\n",
    "    print(f'Confusion Matrix: \\n{confusion_matrix(test_y, y_pred)}')\n",
    "    print(f'Area Under Curve: {roc_auc_score(test_y, y_pred)}')\n",
    "    print(f'Recall score: {recall_score(test_y,y_pred)}')"
   ]
  },
  {
   "cell_type": "markdown",
   "id": "419d34ed",
   "metadata": {},
   "source": [
    "## Logistic Regression"
   ]
  },
  {
   "cell_type": "code",
   "execution_count": null,
   "id": "112df902",
   "metadata": {
    "ExecuteTime": {
     "end_time": "2023-07-22T15:12:15.535510Z",
     "start_time": "2023-07-22T15:12:15.518485Z"
    }
   },
   "outputs": [],
   "source": [
    "from sklearn.linear_model import SGDClassifier, LogisticRegression\n",
    "lg1 = LogisticRegression(random_state=42, max_iter=1000, class_weight={0: 0.22, 1: 0.78})\n",
    "\n",
    "\n",
    "def model_predict(model, train_X, train_y, test_X, test_y):\n",
    "    \n",
    "    from sklearn.metrics import accuracy_score, confusion_matrix, roc_auc_score, recall_score\n",
    "    \n",
    "    # extract values\n",
    "    train_y_values = train_y.values.flatten() \n",
    "    \n",
    "    # fit it\n",
    "    model.fit(train_X, train_y_values)\n",
    "    \n",
    "    # test\n",
    "    pred_y = model.predict(test_X)# performance\n",
    "    probas_y = model.predict_proba(test_X)[:, 1]\n",
    "    print(f'Accuracy Score: {accuracy_score(test_y, pred_y)}')\n",
    "    print(f'Confusion Matrix: \\n{confusion_matrix(test_y, pred_y)}')\n",
    "    print(f'Area Under Curve: {roc_auc_score(test_y, pred_y)}')\n",
    "    print(f'Recall score: {recall_score(test_y, pred_y)}')\n",
    "    \n",
    "    return pred_y, probas_y"
   ]
  },
  {
   "cell_type": "code",
   "execution_count": null,
   "id": "2d2882fc",
   "metadata": {
    "ExecuteTime": {
     "end_time": "2023-07-22T15:12:30.332784Z",
     "start_time": "2023-07-22T15:12:17.494643Z"
    }
   },
   "outputs": [],
   "source": [
    "pred_y_overdraft, probas_y_overdraft = model_predict(model=lg1,\n",
    "                                train_X=df_os_X_train_overdraft,\n",
    "                                train_y=df_os_y_train_overdraft,\n",
    "                                test_X=X_test,\n",
    "                                test_y=y_test_overdraft)"
   ]
  },
  {
   "cell_type": "code",
   "execution_count": null,
   "id": "2ba965cb",
   "metadata": {
    "ExecuteTime": {
     "end_time": "2023-07-22T15:12:52.860494Z",
     "start_time": "2023-07-22T15:12:52.850505Z"
    }
   },
   "outputs": [],
   "source": [
    "pred_y_overdraft[:5]"
   ]
  },
  {
   "cell_type": "code",
   "execution_count": null,
   "id": "8821c245",
   "metadata": {
    "ExecuteTime": {
     "end_time": "2023-07-22T15:12:53.589876Z",
     "start_time": "2023-07-22T15:12:53.575329Z"
    }
   },
   "outputs": [],
   "source": [
    "probas_y_overdraft[:5]"
   ]
  },
  {
   "cell_type": "code",
   "execution_count": null,
   "id": "b3b3d7a4",
   "metadata": {
    "ExecuteTime": {
     "end_time": "2023-07-21T21:06:56.663490Z",
     "start_time": "2023-07-21T21:06:56.651277Z"
    }
   },
   "outputs": [],
   "source": [
    "# pred_y_no_SMOTE = model_predict(model=lg1,\n",
    "#                                 train_X=X_train,\n",
    "#                                 train_y=y_train_overdraft,\n",
    "#                                 test_X=X_test,\n",
    "#                                 test_y=y_test_overdraft)"
   ]
  },
  {
   "cell_type": "code",
   "execution_count": null,
   "id": "7a2c7327",
   "metadata": {
    "ExecuteTime": {
     "end_time": "2023-07-21T21:07:01.549827Z",
     "start_time": "2023-07-21T21:07:01.299284Z"
    }
   },
   "outputs": [],
   "source": [
    "\n",
    "# def plot_log_reg(probs, predicted_classes, X, y, cutoff=0.5):\n",
    "    \n",
    "\n",
    "\n",
    "#     import numpy as np\n",
    "#     import pandas as pd\n",
    "#     from sklearn.linear_model import LogisticRegression\n",
    "#     import plotly.graph_objects as go\n",
    "\n",
    "\n",
    "\n",
    "\n",
    "#     # # Generate sample data\n",
    "#     # np.random.seed(42)\n",
    "#     # n_samples = 100\n",
    "#     # X = np.random.rand(n_samples, 1)\n",
    "#     # y = np.random.randint(0, 2, size=n_samples)\n",
    "\n",
    "#     # # Add noise to the data\n",
    "#     # X[y == 0] += 1.5\n",
    "#     # X[y == 1] -= 1.5\n",
    "\n",
    "#     # # Create a DataFrame for easy handling\n",
    "#     # data = pd.DataFrame({\"X\": X.flatten(), \"y\": y})\n",
    "\n",
    "#     # # Train a logistic regression modely\n",
    "#     # model = LogisticRegression()\n",
    "#     # model.fit(X, y)\n",
    "\n",
    "#     # # Predict probabilities and class predictions using the trained model\n",
    "#     # probs = model.predict_proba(X)[:, 1]\n",
    "#     # predicted_classes = (probs >= cutoff).astype(int)  # Set cutoff at 0.5\n",
    "\n",
    "#     # Set the cutoff value here\n",
    "# # Set the cutoff value here\n",
    "\n",
    "#     # Highlight the correct and incorrect predictions\n",
    "#     incorrect_indices = np.where(y != predicted_classes)[0]\n",
    "#     correct_indices = np.where(y == predicted_classes)[0]\n",
    "\n",
    "#     # Create a trace for the plot\n",
    "#     scatter_correct = go.Scatter(x=X[correct_indices].flatten(), y=probs[correct_indices],\n",
    "#                                  mode='markers', marker=dict(color='green', size=10, line=dict(width=2)))\n",
    "\n",
    "#     scatter_incorrect = go.Scatter(x=X[incorrect_indices].flatten(), y=probs[incorrect_indices],\n",
    "#                                    mode='markers', marker=dict(color='red', size=10, line=dict(width=2)))\n",
    "\n",
    "#     # Create traces for the true 0s and 1s points on the Probability axis\n",
    "#     true_ones = go.Scatter(x=X[y == 1].flatten(), y=[1] * sum(y == 1),\n",
    "#                            mode='markers', marker=dict(symbol='triangle-up', color='purple', size=8, line=dict(width=2)),\n",
    "#                            name='True 1s')\n",
    "\n",
    "#     true_zeros = go.Scatter(x=X[y == 0].flatten(), y=[0] * sum(y == 0),\n",
    "#                             mode='markers', marker=dict(symbol='square', color='gold', size=8, line=dict(width=2)),\n",
    "#                             name='True 0s')\n",
    "\n",
    "#     # Create text annotations for each point indicating whether it's a true 0 or 1\n",
    "#     text_true_ones = ['True 1' for _ in range(sum(y == 1))]\n",
    "#     text_true_zeros = ['True 0' for _ in range(sum(y == 0))]\n",
    "\n",
    "#     # Create the logistic regression curve trace\n",
    "#     X_plot = np.linspace(np.min(X), np.max(X), 100).reshape(-1, 1)\n",
    "#     probs_plot = model.predict_proba(X_plot)[:, 1]\n",
    "#     line_trace = go.Scatter(x=X_plot.flatten(), y=probs_plot, mode='lines', name='Logistic Regression Curve')\n",
    "\n",
    "#     # Create layout for the plot\n",
    "#     layout = go.Layout(title='Logistic Regression with Cutoff Line',\n",
    "#                        xaxis=dict(title='X'),\n",
    "#                        yaxis=dict(title='Probability', tickvals=[0, 1], ticktext=['0', '1'], autorange='reversed'),\n",
    "#                        showlegend=True)\n",
    "\n",
    "#     # Create the figure and add traces to it\n",
    "#     fig = go.Figure(data=[line_trace, scatter_correct, scatter_incorrect, true_ones, true_zeros], layout=layout)\n",
    "\n",
    "#     # Update the markers for the incorrect and correct predictions\n",
    "#     fig.add_trace(go.Scatter(x=X[incorrect_indices].flatten(), y=probs[incorrect_indices],\n",
    "#                              mode='markers', marker=dict(color='red', size=12, line=dict(width=2)),\n",
    "#                              showlegend=False, text=text_true_zeros, textposition='bottom center'))\n",
    "\n",
    "#     fig.add_trace(go.Scatter(x=X[correct_indices].flatten(), y=probs[correct_indices],\n",
    "#                              mode='markers', marker=dict(color='green', size=12, line=dict(width=2)),\n",
    "#                              showlegend=False, text=text_true_ones, textposition='bottom center'))\n",
    "\n",
    "#     # Add the cutoff line\n",
    "#     fig.add_shape(\n",
    "#         type=\"line\",\n",
    "#         x0=np.min(X),\n",
    "#         y0=cutoff,\n",
    "#         x1=np.max(X),\n",
    "#         y1=cutoff,\n",
    "#         line=dict(color='red', dash='dash'),\n",
    "#     )\n",
    "\n",
    "#     # Show the plot\n",
    "#     fig.show()\n"
   ]
  },
  {
   "cell_type": "code",
   "execution_count": null,
   "id": "f11573a4",
   "metadata": {
    "ExecuteTime": {
     "end_time": "2023-07-21T21:07:06.128695Z",
     "start_time": "2023-07-21T21:07:06.120436Z"
    }
   },
   "outputs": [],
   "source": [
    "# plot_log_reg(probs=probas_y_overdraft[:100], \n",
    "#              predicted_classes=pred_y_overdraft[:100], \n",
    "#              X=X_test.iloc[:,12].values[:100], \n",
    "#              y=y_test_overdraft.values[:100])"
   ]
  },
  {
   "cell_type": "code",
   "execution_count": null,
   "id": "dc53d281",
   "metadata": {
    "ExecuteTime": {
     "end_time": "2023-07-21T21:07:10.639157Z",
     "start_time": "2023-07-21T21:07:10.629152Z"
    }
   },
   "outputs": [],
   "source": [
    "# X_test.iloc[:,0].values[:5]"
   ]
  },
  {
   "cell_type": "code",
   "execution_count": null,
   "id": "12f16928",
   "metadata": {
    "ExecuteTime": {
     "end_time": "2023-07-22T15:13:00.496091Z",
     "start_time": "2023-07-22T15:13:00.481583Z"
    }
   },
   "outputs": [],
   "source": [
    "y_train_overdraft.value_counts(normalize=True)"
   ]
  },
  {
   "cell_type": "code",
   "execution_count": null,
   "id": "0b516959",
   "metadata": {
    "ExecuteTime": {
     "end_time": "2023-07-22T15:13:01.227212Z",
     "start_time": "2023-07-22T15:13:01.212664Z"
    }
   },
   "outputs": [],
   "source": [
    "y_test_overdraft.value_counts(normalize=True)"
   ]
  },
  {
   "cell_type": "markdown",
   "id": "99f3b075",
   "metadata": {},
   "source": [
    "## Random Forest"
   ]
  },
  {
   "cell_type": "markdown",
   "id": "a50518cf",
   "metadata": {},
   "source": [
    "### First try (balanced class weights)"
   ]
  },
  {
   "cell_type": "code",
   "execution_count": null,
   "id": "1d1b0ce2",
   "metadata": {
    "ExecuteTime": {
     "end_time": "2023-07-22T15:13:04.279937Z",
     "start_time": "2023-07-22T15:13:04.266407Z"
    }
   },
   "outputs": [],
   "source": [
    "from sklearn.ensemble import RandomForestClassifier, GradientBoostingClassifier, RandomForestRegressor\n",
    "from sklearn.model_selection import train_test_split, cross_val_score, cross_val_predict, GridSearchCV, RepeatedStratifiedKFold\n",
    "from sklearn.metrics import make_scorer, recall_score, auc\n",
    "\n",
    "rf_clf = RandomForestClassifier(n_estimators=10, class_weight='balanced')"
   ]
  },
  {
   "cell_type": "markdown",
   "id": "817181a1",
   "metadata": {},
   "source": [
    "#### Test it with all data"
   ]
  },
  {
   "cell_type": "code",
   "execution_count": null,
   "id": "1312333d",
   "metadata": {
    "ExecuteTime": {
     "end_time": "2023-07-22T15:15:55.947538Z",
     "start_time": "2023-07-22T15:13:11.123726Z"
    }
   },
   "outputs": [],
   "source": [
    "# y_train_overdraft_ravel = df_os_y_train_overdraft.values.ravel()\n",
    "\n",
    "# define evaluation procedure\n",
    "cv = RepeatedStratifiedKFold(n_splits=10, n_repeats=3, random_state=13)\n",
    "# evaluate model\n",
    "# scorer = make_scorer(auc)\n",
    "scores = cross_val_score(rf_clf, df_os_X_train_overdraft, y_train_overdraft_ravel, scoring=\"roc_auc\", cv=cv, \n",
    "                        error_score='raise')\n",
    "# summarize performance\n",
    "from numpy import mean as np_mean\n",
    "print('Mean ROC AUC: %.3f' % np_mean(scores))"
   ]
  },
  {
   "cell_type": "code",
   "execution_count": null,
   "id": "c823f1af",
   "metadata": {
    "ExecuteTime": {
     "end_time": "2023-07-22T15:17:05.320184Z",
     "start_time": "2023-07-22T15:16:59.244052Z"
    }
   },
   "outputs": [],
   "source": [
    "rf_clf.fit(df_os_X_train_overdraft, y_train_overdraft_ravel)"
   ]
  },
  {
   "cell_type": "code",
   "execution_count": null,
   "id": "8f61f9b4",
   "metadata": {
    "ExecuteTime": {
     "end_time": "2023-07-22T15:17:06.174726Z",
     "start_time": "2023-07-22T15:17:06.007056Z"
    }
   },
   "outputs": [],
   "source": [
    "y_pred_rf = rf_clf.predict(X_test)# performance\n",
    "print(f'Accuracy Score: {accuracy_score(y_test_overdraft,y_pred_rf)}')\n",
    "print(f'Confusion Matrix: \\n{confusion_matrix(y_test_overdraft, y_pred_rf)}')\n",
    "print(f'Area Under Curve: {roc_auc_score(y_test_overdraft, y_pred_rf)}')\n",
    "print(f'Recall score: {recall_score(y_test_overdraft,y_pred_rf)}')"
   ]
  },
  {
   "cell_type": "markdown",
   "id": "c5a421df",
   "metadata": {},
   "source": [
    "### Second try (manually adjusted class weights)"
   ]
  },
  {
   "cell_type": "code",
   "execution_count": null,
   "id": "24631a91",
   "metadata": {
    "ExecuteTime": {
     "end_time": "2023-07-22T15:17:17.809403Z",
     "start_time": "2023-07-22T15:17:17.791340Z"
    }
   },
   "outputs": [],
   "source": [
    "rf_clf = RandomForestClassifier(n_estimators=10, class_weight='balanced_subsample')"
   ]
  },
  {
   "cell_type": "code",
   "execution_count": null,
   "id": "2874d0f7",
   "metadata": {
    "ExecuteTime": {
     "end_time": "2023-07-22T15:20:11.626135Z",
     "start_time": "2023-07-22T15:17:18.519459Z"
    }
   },
   "outputs": [],
   "source": [
    "y_train_overdraft_ravel = df_os_y_train_overdraft.values.ravel()\n",
    "\n",
    "# define evaluation procedure\n",
    "cv = RepeatedStratifiedKFold(n_splits=10, n_repeats=3, random_state=13)\n",
    "# evaluate model\n",
    "scores = cross_val_score(rf_clf, df_os_X_train_overdraft, y_train_overdraft_ravel, scoring='roc_auc', cv=cv, \n",
    "                        error_score='raise')\n",
    "# summarize performance\n",
    "from numpy import mean as np_mean\n",
    "print('Mean ROC AUC: %.3f' % np_mean(scores))"
   ]
  },
  {
   "cell_type": "code",
   "execution_count": null,
   "id": "cbbd042f",
   "metadata": {
    "ExecuteTime": {
     "end_time": "2023-07-22T15:20:18.843964Z",
     "start_time": "2023-07-22T15:20:12.296137Z"
    }
   },
   "outputs": [],
   "source": [
    "rf_clf.fit(df_os_X_train_overdraft, y_train_overdraft_ravel)"
   ]
  },
  {
   "cell_type": "code",
   "execution_count": null,
   "id": "e7f33dbf",
   "metadata": {
    "ExecuteTime": {
     "end_time": "2023-07-22T15:20:19.695048Z",
     "start_time": "2023-07-22T15:20:19.522965Z"
    }
   },
   "outputs": [],
   "source": [
    "y_pred_rf = rf_clf.predict(X_test)# performance\n",
    "print(f'Accuracy Score: {accuracy_score(y_test_overdraft,y_pred_rf)}')\n",
    "print(f'Confusion Matrix: \\n{confusion_matrix(y_test_overdraft, y_pred_rf)}')\n",
    "print(f'Area Under Curve: {roc_auc_score(y_test_overdraft, y_pred_rf)}')\n",
    "print(f'Recall score: {recall_score(y_test_overdraft,y_pred_rf)}')"
   ]
  },
  {
   "cell_type": "markdown",
   "id": "e96f5bbc",
   "metadata": {},
   "source": [
    "### Third try"
   ]
  },
  {
   "cell_type": "code",
   "execution_count": null,
   "id": "f07389b5",
   "metadata": {
    "ExecuteTime": {
     "end_time": "2023-07-22T15:20:20.389520Z",
     "start_time": "2023-07-22T15:20:20.375521Z"
    }
   },
   "outputs": [],
   "source": [
    "rf_clf = RandomForestClassifier(n_estimators=10, class_weight={0: 0.99, 1: 0.01})"
   ]
  },
  {
   "cell_type": "code",
   "execution_count": null,
   "id": "13e5a3b3",
   "metadata": {
    "ExecuteTime": {
     "end_time": "2023-07-22T15:23:03.946315Z",
     "start_time": "2023-07-22T15:20:21.074524Z"
    }
   },
   "outputs": [],
   "source": [
    "y_train_overdraft_ravel = df_os_y_train_overdraft.values.ravel()\n",
    "\n",
    "# define evaluation procedure\n",
    "cv = RepeatedStratifiedKFold(n_splits=10, n_repeats=3, random_state=13)\n",
    "# evaluate model\n",
    "scores = cross_val_score(rf_clf, df_os_X_train_overdraft, y_train_overdraft_ravel, scoring='roc_auc', cv=cv, \n",
    "                        error_score='raise')\n",
    "# summarize performance\n",
    "from numpy import mean as np_mean\n",
    "print('Mean ROC AUC: %.3f' % np_mean(scores))"
   ]
  },
  {
   "cell_type": "markdown",
   "id": "6f16b65c",
   "metadata": {},
   "source": [
    "### Cross val score with recall"
   ]
  },
  {
   "cell_type": "code",
   "execution_count": null,
   "id": "771a312d",
   "metadata": {
    "ExecuteTime": {
     "end_time": "2023-07-21T23:20:30.282412Z",
     "start_time": "2023-07-21T23:20:15.408212Z"
    }
   },
   "outputs": [],
   "source": [
    "rf_clf = RandomForestClassifier(n_estimators=10, class_weight={0: 0.50, 1: 0.50})\n",
    "\n",
    "# Define the scoring metric you want to use (in this case, recall)\n",
    "scorer = make_scorer(recall_score, average='binary')\n",
    "# scorer = make_scorer(auc)\n",
    "\n",
    "\n",
    "# Perform cross-validation and compute recall\n",
    "recall_scores = cross_val_score(rf_clf, X_train_deleted, y_train_deleted, cv=5, scoring=scorer)\n",
    "\n",
    "# The recall scores for each fold will be stored in recall_scores\n",
    "print(\"Recall scores for each fold:\", recall_scores)\n",
    "\n",
    "# The average recall score across all folds\n",
    "print(\"Min recall:\", recall_scores.min())"
   ]
  },
  {
   "cell_type": "code",
   "execution_count": null,
   "id": "07c11242",
   "metadata": {
    "ExecuteTime": {
     "end_time": "2023-07-21T23:16:35.051892Z",
     "start_time": "2023-07-21T23:16:35.036872Z"
    }
   },
   "outputs": [],
   "source": [
    "X_train_deleted = df_os_X_train_overdraft.loc[:100000]"
   ]
  },
  {
   "cell_type": "code",
   "execution_count": null,
   "id": "1ee7b12a",
   "metadata": {
    "ExecuteTime": {
     "end_time": "2023-07-21T23:16:44.585476Z",
     "start_time": "2023-07-21T23:16:44.575478Z"
    }
   },
   "outputs": [],
   "source": [
    "X_train_deleted.shape"
   ]
  },
  {
   "cell_type": "code",
   "execution_count": null,
   "id": "3ec129c8",
   "metadata": {
    "ExecuteTime": {
     "end_time": "2023-07-21T23:17:16.039864Z",
     "start_time": "2023-07-21T23:17:16.023359Z"
    }
   },
   "outputs": [],
   "source": [
    "y_train_deleted = y_train_overdraft_ravel[:100001]"
   ]
  },
  {
   "cell_type": "code",
   "execution_count": null,
   "id": "e10e9235",
   "metadata": {
    "ExecuteTime": {
     "end_time": "2023-07-21T23:17:18.084500Z",
     "start_time": "2023-07-21T23:17:18.069535Z"
    }
   },
   "outputs": [],
   "source": [
    "y_train_deleted.shape"
   ]
  },
  {
   "cell_type": "code",
   "execution_count": null,
   "id": "947186a8",
   "metadata": {
    "ExecuteTime": {
     "end_time": "2023-07-21T23:02:44.286777Z",
     "start_time": "2023-07-21T23:02:39.034033Z"
    }
   },
   "outputs": [],
   "source": [
    "rf_clf.fit(df_os_X_train_overdraft, y_train_overdraft_ravel)"
   ]
  },
  {
   "cell_type": "code",
   "execution_count": null,
   "id": "60d33b0e",
   "metadata": {
    "ExecuteTime": {
     "end_time": "2023-07-21T23:02:46.367880Z",
     "start_time": "2023-07-21T23:02:46.193888Z"
    }
   },
   "outputs": [],
   "source": [
    "# y_pred_rf = rf_clf.predict(X_test)# performance\n",
    "# print(f'Accuracy Score: {accuracy_score(y_test_overdraft,y_pred_rf)}')\n",
    "# print(f'Confusion Matrix: \\n{confusion_matrix(y_test_overdraft, y_pred_rf)}')\n",
    "# print(f'Area Under Curve: {roc_auc_score(y_test_overdraft, y_pred_rf)}')\n",
    "# print(f'Recall score: {recall_score(y_test_overdraft,y_pred_rf)}')"
   ]
  },
  {
   "cell_type": "code",
   "execution_count": null,
   "id": "1a95b2ac",
   "metadata": {
    "ExecuteTime": {
     "end_time": "2023-07-21T23:13:53.111035Z",
     "start_time": "2023-07-21T23:13:53.097008Z"
    }
   },
   "outputs": [],
   "source": [
    "# X_train.shape"
   ]
  },
  {
   "cell_type": "code",
   "execution_count": null,
   "id": "c158d884",
   "metadata": {
    "ExecuteTime": {
     "end_time": "2023-07-21T23:14:13.658336Z",
     "start_time": "2023-07-21T23:14:13.643819Z"
    }
   },
   "outputs": [],
   "source": [
    "# len(y_train_overdraft_ravel)"
   ]
  },
  {
   "cell_type": "code",
   "execution_count": null,
   "id": "c0423693",
   "metadata": {
    "ExecuteTime": {
     "end_time": "2023-07-21T23:17:51.584975Z",
     "start_time": "2023-07-21T23:17:51.167252Z"
    }
   },
   "outputs": [],
   "source": [
    "y_pred_rf__ = rf_clf.predict(X_train_deleted)# performance\n",
    "print(f'Accuracy Score: {accuracy_score(y_train_deleted,y_pred_rf__)}')\n",
    "print(f'Confusion Matrix: \\n{confusion_matrix(y_train_deleted, y_pred_rf__)}')\n",
    "print(f'Area Under Curve: {roc_auc_score(y_train_deleted, y_pred_rf__)}')\n",
    "print(f'Recall score: {recall_score(y_train_deleted,y_pred_rf__)}')"
   ]
  },
  {
   "cell_type": "code",
   "execution_count": null,
   "id": "757fb992",
   "metadata": {},
   "outputs": [],
   "source": [
    "# y_train_overdraft"
   ]
  },
  {
   "cell_type": "code",
   "execution_count": null,
   "id": "36880492",
   "metadata": {
    "ExecuteTime": {
     "end_time": "2023-07-21T23:38:30.735759Z",
     "start_time": "2023-07-21T23:38:30.731764Z"
    }
   },
   "outputs": [],
   "source": [
    "# cl_1 = 0.05"
   ]
  },
  {
   "cell_type": "code",
   "execution_count": null,
   "id": "ef9003da",
   "metadata": {
    "ExecuteTime": {
     "start_time": "2023-07-22T00:09:20.527Z"
    }
   },
   "outputs": [],
   "source": [
    "# cl_1 = 0.05\n",
    "# for i in range(1000):\n",
    "    \n",
    "#     print(\"cl_1: \", cl_1)\n",
    "    \n",
    "#     rf_clf = RandomForestClassifier(n_estimators=100, class_weight={0: 1-cl_1, 1: cl_1})\n",
    "\n",
    "#     # Define the scoring metric you want to use (in this case, recall)\n",
    "#     scorer = make_scorer(recall_score, average='binary')\n",
    "#     # scorer = make_scorer(auc)\n",
    "\n",
    "\n",
    "#     # Perform cross-validation and compute recall\n",
    "#     recall_scores = cross_val_score(rf_clf, X_train, y_train_overdraft, cv=5, scoring=scorer)\n",
    "\n",
    "#     # The recall scores for each fold will be stored in recall_scores\n",
    "#     print(\"Recall scores for each fold:\", recall_scores)\n",
    "\n",
    "#     # The average recall score across all folds\n",
    "#     print(\"Min recall:\", recall_scores.min())\n",
    "    \n",
    "#     rf_clf.fit(X_train, y_train_overdraft)\n",
    "    \n",
    "#     y_pred_rf = rf_clf.predict(X_train)# performance\n",
    "#     print(f'Accuracy Score: {accuracy_score(y_train_overdraft,y_pred_rf)}')\n",
    "#     print(f'Confusion Matrix: \\n{confusion_matrix(y_train_overdraft, y_pred_rf)}')\n",
    "#     print(f'Area Under Curve: {roc_auc_score(y_train_overdraft, y_pred_rf)}')\n",
    "#     print(f'Recall score: {recall_score(y_train_overdraft,y_pred_rf)}')\n",
    "    \n",
    "#     cl_1+=0.10\n",
    "    \n",
    "#     if cl_1 >= 1:\n",
    "#         break"
   ]
  },
  {
   "cell_type": "code",
   "execution_count": null,
   "id": "eb2002b1",
   "metadata": {
    "ExecuteTime": {
     "end_time": "2023-07-21T23:39:34.208110Z",
     "start_time": "2023-07-21T23:39:30.038064Z"
    }
   },
   "outputs": [],
   "source": [
    "# rf_clf.fit(X_train, y_train_overdraft)"
   ]
  },
  {
   "cell_type": "code",
   "execution_count": null,
   "id": "4de0c4d9",
   "metadata": {
    "ExecuteTime": {
     "end_time": "2023-07-21T23:39:42.453833Z",
     "start_time": "2023-07-21T23:39:42.073308Z"
    }
   },
   "outputs": [],
   "source": [
    "# y_pred_rf = rf_clf.predict(X_train)# performance\n",
    "# print(f'Accuracy Score: {accuracy_score(y_train_overdraft,y_pred_rf)}')\n",
    "# print(f'Confusion Matrix: \\n{confusion_matrix(y_train_overdraft, y_pred_rf)}')\n",
    "# print(f'Area Under Curve: {roc_auc_score(y_train_overdraft, y_pred_rf)}')\n",
    "# print(f'Recall score: {recall_score(y_train_overdraft,y_pred_rf)}')"
   ]
  },
  {
   "cell_type": "code",
   "execution_count": null,
   "id": "09be08bc",
   "metadata": {
    "ExecuteTime": {
     "end_time": "2023-07-21T23:32:41.482870Z",
     "start_time": "2023-07-21T23:32:41.308846Z"
    }
   },
   "outputs": [],
   "source": [
    "# y_pred_rf = rf_clf.predict(X_test)# performance\n",
    "# print(f'Accuracy Score: {accuracy_score(y_test_overdraft,y_pred_rf)}')\n",
    "# print(f'Confusion Matrix: \\n{confusion_matrix(y_test_overdraft, y_pred_rf)}')\n",
    "# print(f'Area Under Curve: {roc_auc_score(y_test_overdraft, y_pred_rf)}')\n",
    "# print(f'Recall score: {recall_score(y_test_overdraft,y_pred_rf)}')"
   ]
  },
  {
   "cell_type": "code",
   "execution_count": null,
   "id": "582631e4",
   "metadata": {},
   "outputs": [],
   "source": []
  },
  {
   "cell_type": "markdown",
   "id": "7a3b846a",
   "metadata": {},
   "source": [
    "- n_estimators: 100 (default)\n",
    "- max_depth: 5 (around 5) is ok\n",
    "- min_samples_leaf: min 100, could be much more (500)\n",
    "- max_leaf_nodes: around 20"
   ]
  },
  {
   "cell_type": "code",
   "execution_count": null,
   "id": "0391c720",
   "metadata": {
    "ExecuteTime": {
     "end_time": "2023-07-22T00:22:47.205986Z",
     "start_time": "2023-07-22T00:22:12.145618Z"
    }
   },
   "outputs": [],
   "source": [
    "# cl_1 = 0.5\n",
    "# rf_clf = RandomForestClassifier(n_estimators=100, \n",
    "#                                 class_weight={0: 1-cl_1, 1: cl_1},\n",
    "#                                 max_depth=5, \n",
    "#                                 min_samples_leaf=100, \n",
    "#                                 max_leaf_nodes=20)\n",
    "\n",
    "# # Define the scoring metric you want to use (in this case, recall)\n",
    "# scorer = make_scorer(recall_score, average='binary')\n",
    "# # scorer = make_scorer(auc)\n",
    "\n",
    "\n",
    "# # Perform cross-validation and compute recall\n",
    "# recall_scores = cross_val_score(rf_clf, X_train, y_train_overdraft, cv=5, scoring=scorer)\n",
    "\n",
    "# # The recall scores for each fold will be stored in recall_scores\n",
    "# print(\"Recall scores for each fold:\", recall_scores)\n",
    "\n",
    "# # The average recall score across all folds\n",
    "# print(\"Min recall:\", recall_scores.min())\n",
    "\n",
    "# rf_clf.fit(X_train, y_train_overdraft)\n",
    "\n",
    "# y_pred_rf = rf_clf.predict(X_train)# performance\n",
    "# print(f'Accuracy Score: {accuracy_score(y_train_overdraft,y_pred_rf)}')\n",
    "# print(f'Confusion Matrix: \\n{confusion_matrix(y_train_overdraft, y_pred_rf)}')\n",
    "# print(f'Area Under Curve: {roc_auc_score(y_train_overdraft, y_pred_rf)}')\n",
    "# print(f'Recall score: {recall_score(y_train_overdraft,y_pred_rf)}')\n"
   ]
  },
  {
   "cell_type": "code",
   "execution_count": null,
   "id": "8ec13c78",
   "metadata": {
    "ExecuteTime": {
     "end_time": "2023-07-22T00:31:47.413439Z",
     "start_time": "2023-07-22T00:30:50.543180Z"
    }
   },
   "outputs": [],
   "source": [
    "cl_1 = 0.5\n",
    "rf_clf = RandomForestClassifier(n_estimators=100, \n",
    "                                class_weight={0: 1-cl_1, 1: cl_1},\n",
    "                                max_depth=5, \n",
    "                                min_samples_leaf=100, \n",
    "                                max_leaf_nodes=20)\n",
    "\n",
    "# Define the scoring metric you want to use (in this case, recall)\n",
    "scorer = make_scorer(recall_score, average='binary')\n",
    "# scorer = make_scorer(auc)\n",
    "\n",
    "\n",
    "# Perform cross-validation and compute recall\n",
    "recall_scores = cross_val_score(rf_clf, df_os_X_train_overdraft, y_train_overdraft_ravel, cv=5, scoring=scorer)\n",
    "\n",
    "# The recall scores for each fold will be stored in recall_scores\n",
    "print(\"Recall scores for each fold:\", recall_scores)\n",
    "\n",
    "# The average recall score across all folds\n",
    "print(\"Min recall:\", recall_scores.min())\n",
    "\n",
    "rf_clf.fit(df_os_X_train_overdraft, y_train_overdraft_ravel)\n",
    "\n",
    "y_pred_rf = rf_clf.predict(df_os_X_train_overdraft)# performance\n",
    "print(f'Accuracy Score: {accuracy_score(y_train_overdraft_ravel,y_pred_rf)}')\n",
    "print(f'Confusion Matrix: \\n{confusion_matrix(y_train_overdraft_ravel, y_pred_rf)}')\n",
    "print(f'Area Under Curve: {roc_auc_score(y_train_overdraft_ravel, y_pred_rf)}')\n",
    "print(f'Recall score: {recall_score(y_train_overdraft_ravel,y_pred_rf)}')\n"
   ]
  },
  {
   "cell_type": "markdown",
   "id": "7ac6df29",
   "metadata": {},
   "source": [
    "TODO: cross validation vs fit; finish the pipeline - to have the models; each model to have a grid (not more than 3-4 params with 3-4 values); run the hypergrid; class weights??? download kaggle dataset, load it with this code and if the model is shit the model is the problem, otherwise the data is the problem."
   ]
  },
  {
   "cell_type": "code",
   "execution_count": null,
   "id": "d12516df",
   "metadata": {
    "ExecuteTime": {
     "end_time": "2023-07-22T15:25:32.538621Z",
     "start_time": "2023-07-22T15:24:34.420165Z"
    }
   },
   "outputs": [],
   "source": [
    "cl_1 = 0.5\n",
    "rf_clf = RandomForestClassifier(n_estimators=100, \n",
    "                                class_weight={0: 1-cl_1, 1: cl_1},\n",
    "                                max_depth=5, \n",
    "                                min_samples_leaf=100, \n",
    "                                max_leaf_nodes=20)\n",
    "\n",
    "model_cv_performance_measure(model=rf_clf,\n",
    "                         X=df_os_X_train_overdraft,\n",
    "                         y=y_train_overdraft_ravel,\n",
    "                         cv=5)"
   ]
  },
  {
   "cell_type": "markdown",
   "id": "ca538d28",
   "metadata": {},
   "source": [
    "### Cross validation (extract the best model and fit/predict the data with it)"
   ]
  },
  {
   "cell_type": "code",
   "execution_count": null,
   "id": "0525f3f2",
   "metadata": {
    "ExecuteTime": {
     "end_time": "2023-07-22T15:47:50.195839Z",
     "start_time": "2023-07-22T15:47:04.579056Z"
    }
   },
   "outputs": [],
   "source": [
    "from sklearn.model_selection import cross_validate, KFold\n",
    "\n",
    "# Define the scoring metric you want to use (in this case, recall)\n",
    "scorer = make_scorer(recall_score, average='binary')\n",
    "\n",
    "# Perform cross-validation with the custom scorer\n",
    "cv_results = cross_validate(estimator=rf_clf, \n",
    "                            X=df_os_X_train_overdraft,\n",
    "                            y=y_train_overdraft_ravel,\n",
    "                            cv=5, \n",
    "                            scoring=scorer,\n",
    "                            return_estimator=True,\n",
    "                            return_indices=True)"
   ]
  },
  {
   "cell_type": "code",
   "execution_count": null,
   "id": "f92158ac",
   "metadata": {
    "ExecuteTime": {
     "end_time": "2023-07-22T17:40:04.452818Z",
     "start_time": "2023-07-22T17:40:04.431822Z"
    }
   },
   "outputs": [],
   "source": [
    "def test_model_cv_fit(model, train_X, train_y, test_X, test_y, cv, model_idx):\n",
    "    \n",
    "    from sklearn.model_selection import cross_validate, KFold\n",
    "\n",
    "    # Define the scoring metric you want to use (in this case, recall)\n",
    "    scorer = make_scorer(recall_score, average='binary')\n",
    "\n",
    "    # Perform cross-validation with the custom scorer\n",
    "    cv_results = cross_validate(estimator=model, \n",
    "                                X=df_os_X_train_overdraft,\n",
    "                                y=y_train_overdraft_ravel,\n",
    "                                cv=5, \n",
    "                                scoring=scorer,\n",
    "                                return_estimator=True,\n",
    "                                return_indices=True,\n",
    "                                return_train_score=True,\n",
    "                                return_test_score=True)\n",
    "    \n",
    "    \n",
    "    print(f\"cv_results train folds: {cv_results['train_score']}\")\n",
    "    print(f\"cv_results test folds: {cv_results['test_score']}\")\n",
    "    train_indices = cv_results[\"indices\"][\"train\"][model_index]\n",
    "\n",
    "\n",
    "    best_clf = cv_results[\"estimator\"][model_index]\n",
    "    best_clf.fit(train_X.loc[train_indices], pd.DataFrame(train_y).loc[train_indices])\n",
    "\n",
    "    y_pred_train = best_clf.predict(train_X)# performance\n",
    "    print(f'Accuracy Score: {accuracy_score(train_y,y_pred_train)}')\n",
    "    print(f'Confusion Matrix: \\n{confusion_matrix(train_y, y_pred_train)}')\n",
    "    print(f'Area Under Curve: {roc_auc_score(train_y, y_pred_train)}')\n",
    "    print(f'Recall score: {recall_score(train_y,y_pred_train)}')\n",
    "    \n",
    "    y_pred_test = best_clf.predict(test_X)# performance\n",
    "    print(f'Accuracy Score: {accuracy_score(test_y,y_pred_test)}')\n",
    "    print(f'Confusion Matrix: \\n{confusion_matrix(test_y, y_pred_test)}')\n",
    "    print(f'Area Under Curve: {roc_auc_score(test_y, y_pred_test)}')\n",
    "    print(f'Recall score: {recall_score(test_y,y_pred_test)}')   \n"
   ]
  },
  {
   "cell_type": "code",
   "execution_count": null,
   "id": "c6cac735",
   "metadata": {
    "ExecuteTime": {
     "end_time": "2023-07-22T17:34:39.848093Z",
     "start_time": "2023-07-22T17:29:43.126949Z"
    }
   },
   "outputs": [],
   "source": [
    "rf_clf = RandomForestClassifier(n_estimators=100, \n",
    "                                class_weight={0: 1-cl_1, 1: cl_1},\n",
    "                                max_depth=5, \n",
    "                                min_samples_leaf=100, \n",
    "                                max_leaf_nodes=20)\n",
    "for i in range(5):\n",
    "    \n",
    "    print(f\"model_fold: {i}\")\n",
    "    test_model_cv_fit(model=rf_clf,\n",
    "                     train_X=df_os_X_train_overdraft,\n",
    "                     train_y=y_train_overdraft_ravel,\n",
    "                     test_X=X_test,\n",
    "                     test_y=y_test_overdraft,\n",
    "                     cv=5,\n",
    "                     model_idx=i)\n",
    "    \n",
    "    print()\n",
    "    print()\n"
   ]
  },
  {
   "cell_type": "code",
   "execution_count": null,
   "id": "faa93527",
   "metadata": {},
   "outputs": [],
   "source": []
  },
  {
   "cell_type": "markdown",
   "id": "6ac218be",
   "metadata": {},
   "source": [
    "## Decision Tree"
   ]
  },
  {
   "cell_type": "code",
   "execution_count": null,
   "id": "a058cf2f",
   "metadata": {
    "ExecuteTime": {
     "end_time": "2023-07-22T17:37:21.864804Z",
     "start_time": "2023-07-22T17:34:40.526096Z"
    },
    "scrolled": true
   },
   "outputs": [],
   "source": [
    "# define model\n",
    "tree_clf = DecisionTreeClassifier()\n",
    "\n",
    "for i in range(5):\n",
    "    \n",
    "    print(f\"model_fold: {i}\")\n",
    "    test_model_cv_fit(model=tree_clf,\n",
    "                     train_X=df_os_X_train_overdraft,\n",
    "                     train_y=y_train_overdraft_ravel,\n",
    "                     test_X=X_test,\n",
    "                     test_y=y_test_overdraft,\n",
    "                     cv=5,\n",
    "                     model_idx=i)\n",
    "    \n",
    "    print()\n",
    "    print()"
   ]
  },
  {
   "cell_type": "code",
   "execution_count": null,
   "id": "2270d222",
   "metadata": {},
   "outputs": [],
   "source": []
  },
  {
   "cell_type": "markdown",
   "id": "a2545608",
   "metadata": {},
   "source": [
    "## XgBoost"
   ]
  },
  {
   "cell_type": "code",
   "execution_count": null,
   "id": "f6545eda",
   "metadata": {
    "ExecuteTime": {
     "end_time": "2023-07-22T17:40:03.741005Z",
     "start_time": "2023-07-22T17:37:22.544804Z"
    },
    "scrolled": true
   },
   "outputs": [],
   "source": [
    "# create model instance\n",
    "xgboost_clf = XGBClassifier()\n",
    "\n",
    "\n",
    "for i in range(5):\n",
    "    \n",
    "    print(f\"model_fold: {i}\")\n",
    "    test_model_cv_fit(model=tree_clf,\n",
    "                     train_X=df_os_X_train_overdraft,\n",
    "                     train_y=y_train_overdraft_ravel,\n",
    "                     test_X=X_test,\n",
    "                     test_y=y_test_overdraft,\n",
    "                     cv=5,\n",
    "                     model_idx=i)\n",
    "    \n",
    "    print()\n",
    "    print()"
   ]
  },
  {
   "cell_type": "code",
   "execution_count": null,
   "id": "1f2c48a3",
   "metadata": {},
   "outputs": [],
   "source": []
  },
  {
   "cell_type": "markdown",
   "id": "23a86e85",
   "metadata": {},
   "source": [
    "# Hyperparameter tuning"
   ]
  },
  {
   "cell_type": "code",
   "execution_count": null,
   "id": "ba898666",
   "metadata": {
    "ExecuteTime": {
     "end_time": "2023-07-22T01:45:06.542079Z",
     "start_time": "2023-07-22T01:45:06.522586Z"
    }
   },
   "outputs": [],
   "source": [
    "logistic_regression_search_space = {\n",
    "    'C': [0.001, 0.01, 0.1, 1, 10, 100],\n",
    "    'penalty': ['l1', 'l2'],\n",
    "    'solver': ['liblinear', 'lbfgs', 'saga']\n",
    "}\n",
    "\n",
    "decision_tree_search_space = {\n",
    "    'criterion': ['gini', 'entropy'],\n",
    "    'max_depth': [None, 5, 10, 20, 30],\n",
    "    'min_samples_split': [2, 5, 10, 20],\n",
    "    'min_samples_leaf': [1, 2, 4, 8]\n",
    "}\n",
    "\n",
    "# random forest\n",
    "#     n_estimators: 100 (default)\n",
    "#     max_depth: 5 (around 5) is ok\n",
    "#     min_samples_leaf: min 100, could be much more (500)\n",
    "#     max_leaf_nodes: around 20\n",
    "\n",
    "random_forest_search_space = {\n",
    "    'n_estimators': [50, 100, 200, 300],\n",
    "    'criterion': ['gini', 'entropy'],\n",
    "    'max_depth': [None, 5, 7, 8, 10],\n",
    "    'min_samples_leaf': [100, 200, 400, 500, 787],\n",
    "    'max_leaf_nodes': [10, 20, 50, 100, 200]\n",
    "}\n",
    "\n",
    "xgboost_search_space = {\n",
    "    'n_estimators': [50, 100, 200, 300],\n",
    "    'learning_rate': [0.01, 0.1, 0.2, 0.3],\n",
    "    'max_depth': [3, 5, 7, 9],\n",
    "    'min_child_weight': [1, 2, 5, 10],\n",
    "    'subsample': [0.8, 0.9, 1.0],\n",
    "    'colsample_bytree': [0.8, 0.9, 1.0]\n",
    "}\n"
   ]
  },
  {
   "cell_type": "code",
   "execution_count": null,
   "id": "dcfc5cfb",
   "metadata": {
    "ExecuteTime": {
     "end_time": "2023-07-22T01:53:16.372542Z",
     "start_time": "2023-07-22T01:53:16.353996Z"
    }
   },
   "outputs": [],
   "source": [
    "grid_results_dict = {}\n",
    "\n",
    "def grid_search(X, y, models_list, space_list, scoring, n_jobs, cv, save_dict):\n",
    "    \n",
    "    for model, space in zip(models_list, space_list):\n",
    "        \n",
    "        model_name = str(model)\n",
    "\n",
    "        search = GridSearchCV(model, space, scoring, n_jobs=n_jobs, cv=cv)\n",
    "        # execute search\n",
    "        result = search.fit(X, y)\n",
    "        # summarize result\n",
    "        print('Best Score: %s' % result.best_score_)\n",
    "        print('Best Hyperparameters: %s' % result.best_params_)\n",
    "\n",
    "        save_dict[model_name] = {'best_score_':result.best_score_,\n",
    "                                'best_params_':result.best_params_}\n",
    "        "
   ]
  },
  {
   "cell_type": "code",
   "execution_count": null,
   "id": "2481d567",
   "metadata": {
    "ExecuteTime": {
     "start_time": "2023-07-22T01:56:47.164Z"
    },
    "scrolled": false
   },
   "outputs": [],
   "source": [
    "grid_search(X=df_os_X_train_overdraft,\n",
    "           y=y_train_overdraft_ravel,\n",
    "           models_list=[lg1, tree_clf, rf_clf, xgboost_clf],\n",
    "           space_list=[logistic_regression_search_space, decision_tree_search_space, random_forest_search_space, xgboost_search_space],\n",
    "           scoring='recall',\n",
    "           n_jobs=-1,\n",
    "           cv=5,\n",
    "           save_dict=grid_results_dict)"
   ]
  },
  {
   "cell_type": "markdown",
   "id": "440f7f17",
   "metadata": {},
   "source": [
    "xgboost: \n",
    "- n_estimators: around 500\n",
    "- max_depth: 13 (square root of num of features)\n",
    "- subsample - ok"
   ]
  },
  {
   "cell_type": "markdown",
   "id": "dc882970",
   "metadata": {},
   "source": [
    "Best Score: 0.6737725686809087\n",
    "Best Hyperparameters: {'C': 100, 'penalty': 'l2', 'solver': 'lbfgs'}\n",
    "Best Score: 0.7464558296489499\n",
    "Best Hyperparameters: {'criterion': 'gini', 'max_depth': None, 'min_samples_leaf': 2, 'min_samples_split': 2}\n",
    "Best Score: 0.7891783938266397\n",
    "Best Hyperparameters: {'criterion': 'gini', 'max_depth': None, 'max_leaf_nodes': 200, 'min_samples_leaf': 100, 'n_estimators': 300}"
   ]
  },
  {
   "cell_type": "code",
   "execution_count": null,
   "id": "cfdda90e",
   "metadata": {},
   "outputs": [],
   "source": []
  },
  {
   "cell_type": "code",
   "execution_count": null,
   "id": "55a08a18",
   "metadata": {},
   "outputs": [],
   "source": []
  },
  {
   "cell_type": "code",
   "execution_count": null,
   "id": "3543b67c",
   "metadata": {},
   "outputs": [],
   "source": []
  },
  {
   "cell_type": "code",
   "execution_count": null,
   "id": "16f13966",
   "metadata": {},
   "outputs": [],
   "source": []
  },
  {
   "cell_type": "code",
   "execution_count": null,
   "id": "1eac2857",
   "metadata": {},
   "outputs": [],
   "source": []
  },
  {
   "cell_type": "code",
   "execution_count": null,
   "id": "13623de3",
   "metadata": {},
   "outputs": [],
   "source": []
  },
  {
   "cell_type": "code",
   "execution_count": null,
   "id": "b532a3bf",
   "metadata": {},
   "outputs": [],
   "source": []
  },
  {
   "cell_type": "markdown",
   "id": "22090c0f",
   "metadata": {},
   "source": [
    "## Save training data"
   ]
  },
  {
   "cell_type": "code",
   "execution_count": null,
   "id": "050a6eee",
   "metadata": {},
   "outputs": [],
   "source": []
  },
  {
   "cell_type": "code",
   "execution_count": null,
   "id": "be300a31",
   "metadata": {},
   "outputs": [],
   "source": []
  },
  {
   "cell_type": "code",
   "execution_count": null,
   "id": "579e74f2",
   "metadata": {},
   "outputs": [],
   "source": []
  },
  {
   "cell_type": "code",
   "execution_count": null,
   "id": "afe0e269",
   "metadata": {},
   "outputs": [],
   "source": []
  },
  {
   "cell_type": "code",
   "execution_count": null,
   "id": "c0add7a3",
   "metadata": {},
   "outputs": [],
   "source": []
  },
  {
   "cell_type": "markdown",
   "id": "592255fb",
   "metadata": {},
   "source": [
    "### Analyse feature importances"
   ]
  },
  {
   "cell_type": "code",
   "execution_count": null,
   "id": "bb3b7d71",
   "metadata": {},
   "outputs": [],
   "source": []
  },
  {
   "cell_type": "markdown",
   "id": "7fe991f3",
   "metadata": {},
   "source": [
    "#### Feature importances"
   ]
  },
  {
   "cell_type": "code",
   "execution_count": null,
   "id": "d691ef0c",
   "metadata": {
    "ExecuteTime": {
     "end_time": "2022-09-03T17:10:10.197369Z",
     "start_time": "2022-09-03T17:10:10.183373Z"
    }
   },
   "outputs": [],
   "source": [
    "rf_clf.feature_importances_[:10]"
   ]
  },
  {
   "cell_type": "code",
   "execution_count": null,
   "id": "2cf58213",
   "metadata": {
    "ExecuteTime": {
     "end_time": "2022-09-03T17:10:16.212147Z",
     "start_time": "2022-09-03T17:10:16.055608Z"
    }
   },
   "outputs": [],
   "source": [
    "# rf_feat_importances = pd.Series(rf_clf.feature_importances_, index=df_os_X_train_overdraft.columns)\n",
    "# rf_feat_importances.nlargest(10).plot(kind='barh')"
   ]
  },
  {
   "cell_type": "code",
   "execution_count": null,
   "id": "133706b4",
   "metadata": {
    "ExecuteTime": {
     "end_time": "2022-09-03T17:10:22.111238Z",
     "start_time": "2022-09-03T17:10:22.096199Z"
    }
   },
   "outputs": [],
   "source": [
    "# rf_best_feat_importances = list(rf_feat_importances.nlargest(10).index)\n",
    "# rf_best_feat_importances"
   ]
  },
  {
   "cell_type": "code",
   "execution_count": null,
   "id": "d35a9f4e",
   "metadata": {},
   "outputs": [],
   "source": []
  },
  {
   "cell_type": "code",
   "execution_count": null,
   "id": "16f6e6ec",
   "metadata": {},
   "outputs": [],
   "source": []
  },
  {
   "cell_type": "code",
   "execution_count": null,
   "id": "1b542f2d",
   "metadata": {},
   "outputs": [],
   "source": []
  },
  {
   "cell_type": "code",
   "execution_count": null,
   "id": "e57ad342",
   "metadata": {},
   "outputs": [],
   "source": []
  },
  {
   "cell_type": "code",
   "execution_count": null,
   "id": "cce6861a",
   "metadata": {},
   "outputs": [],
   "source": []
  },
  {
   "cell_type": "code",
   "execution_count": null,
   "id": "ba80f8fc",
   "metadata": {},
   "outputs": [],
   "source": []
  },
  {
   "cell_type": "code",
   "execution_count": null,
   "id": "f0bf792f",
   "metadata": {},
   "outputs": [],
   "source": []
  },
  {
   "cell_type": "code",
   "execution_count": null,
   "id": "3a734088",
   "metadata": {},
   "outputs": [],
   "source": []
  },
  {
   "cell_type": "code",
   "execution_count": null,
   "id": "26c04397",
   "metadata": {},
   "outputs": [],
   "source": []
  },
  {
   "cell_type": "code",
   "execution_count": null,
   "id": "deeda43b",
   "metadata": {},
   "outputs": [],
   "source": []
  },
  {
   "cell_type": "code",
   "execution_count": null,
   "id": "29969197",
   "metadata": {},
   "outputs": [],
   "source": []
  },
  {
   "cell_type": "markdown",
   "id": "49bd398d",
   "metadata": {},
   "source": [
    "# Alternative tests"
   ]
  },
  {
   "cell_type": "markdown",
   "id": "bcd279e5",
   "metadata": {},
   "source": [
    "## Generate pers_exp"
   ]
  },
  {
   "cell_type": "code",
   "execution_count": null,
   "id": "6912cd89",
   "metadata": {
    "ExecuteTime": {
     "end_time": "2023-07-20T19:16:05.771852Z",
     "start_time": "2023-07-20T19:16:05.747049Z"
    }
   },
   "outputs": [],
   "source": [
    "import numpy as np\n",
    "from scipy.stats import truncnorm\n",
    "\n",
    "# Define the given distribution and its corresponding bins\n",
    "distribution = [0.10, 0.44, 0.33, 0.14]\n",
    "bins = [4500, 5000, 5500, 6000]\n",
    "\n",
    "# Define the desired mean and standard deviation\n",
    "mean = 5305.00\n",
    "std_dev = 500  # You can adjust this value to control the spread of the data\n",
    "\n",
    "# Generate random values following a truncated normal distribution\n",
    "size_of_data = 1000\n",
    "a, b = (bins[0] - mean) / std_dev, (bins[-1] - mean) / std_dev\n",
    "truncated_data = truncnorm.rvs(a, b, loc=mean, scale=std_dev, size=size_of_data)\n",
    "\n",
    "# Clip the data to fit within the specified bins\n",
    "pers_exp_data = np.clip(truncated_data, bins[0], bins[-1])"
   ]
  },
  {
   "cell_type": "code",
   "execution_count": null,
   "id": "7b138704",
   "metadata": {
    "ExecuteTime": {
     "end_time": "2023-07-20T19:16:06.628653Z",
     "start_time": "2023-07-20T19:16:06.251079Z"
    }
   },
   "outputs": [],
   "source": [
    "\n",
    "# Now you have the synthetic_data containing random values generated from the given distribution with the specified mean.\n",
    "# Plot the real-world data and the synthetic data\n",
    "plt.hist(pers_exp_data, bins=50, alpha=0.5, label='Synthetic data')\n",
    "plt.legend()\n",
    "plt.show()\n"
   ]
  },
  {
   "cell_type": "markdown",
   "id": "7be6977b",
   "metadata": {},
   "source": [
    "## Generate the rest of the numerical features"
   ]
  },
  {
   "cell_type": "code",
   "execution_count": null,
   "id": "035c7e9e",
   "metadata": {
    "ExecuteTime": {
     "end_time": "2023-07-20T19:54:05.257742Z",
     "start_time": "2023-07-20T19:54:05.243704Z"
    }
   },
   "outputs": [],
   "source": [
    "def to_uniform(data):\n",
    "    # Convert data to uniform distribution using CDF\n",
    "    sorted_data = np.sort(data)\n",
    "    ranks = np.argsort(data)\n",
    "    u = (ranks - 0.5) / len(data)\n",
    "    return u\n",
    "\n",
    "def from_uniform(u, original_data):\n",
    "    sorted_data = np.sort(original_data)\n",
    "    ranks = (u * (len(original_data) - 1)).astype(int)\n",
    "    return np.interp(u, np.linspace(0, 1, len(original_data)), sorted_data)\n",
    "\n",
    "# Rest of the code remains the same\n",
    "\n"
   ]
  },
  {
   "cell_type": "code",
   "execution_count": null,
   "id": "cfecf9fb",
   "metadata": {
    "ExecuteTime": {
     "end_time": "2023-07-20T19:54:05.886882Z",
     "start_time": "2023-07-20T19:54:05.828945Z"
    },
    "scrolled": true
   },
   "outputs": [],
   "source": [
    "import numpy as np\n",
    "import pandas as pd\n",
    "from scipy.stats import truncnorm\n",
    "\n",
    "# Given correlation matrix\n",
    "corr = {\n",
    "    'features': ['age', 'ind_risk', 'income', 'pers_exp', 'house_exp', 'taxes', 'transp_telecom', 'hobby'],\n",
    "    'age': [1, -0.00665947056405372, 0.00291644965339247, 0.0107779942638097, 0.00698674581731255, 0.00729153655132963, 0.0099866509330216, 0.00931630696561133],\n",
    "    'ind_risk': [-0.00665947056405372, 1, 0.0039918072709289, 0.00806259039194059, 0.00457023635440603, 0.0061985340641631, 0.00768699810849585, -0.00332322616613201],\n",
    "    'income': [0.00291644965339247, 0.0039918072709289, 1, 0.560949334881676, 0.58892666343229, 0.581907424628933, 0.562946509689962, 0.352350802339294],\n",
    "    'pers_exp': [0.0107779942638097, 0.00806259039194059, 0.560949334881676, 1, 0.928449923861951, 0.929598634668897, 0.934775947642248, 0.714298364869941],\n",
    "    'house_exp': [0.00698674581731255, 0.00457023635440603, 0.58892666343229, 0.928449923861951, 1, 0.93031279279417, 0.927846735467478, 0.679286362990223],\n",
    "    'taxes': [0.00729153655132963, 0.0061985340641631, 0.581907424628933, 0.929598634668897, 0.93031279279417, 1, 0.92920510128812, 0.689442053350162],\n",
    "    'transp_telecom': [0.0099866509330216, 0.00768699810849585, 0.562946509689962, 0.934775947642248, 0.927846735467478, 0.92920510128812, 1, 0.714114127908189],\n",
    "    'hobby': [0.00931630696561133, -0.00332322616613201, 0.352350802339294, 0.714298364869941, 0.679286362990223, 0.689442053350162, 0.714114127908189, 1]\n",
    "}\n",
    "\n",
    "# DataFrame of means\n",
    "means = pd.DataFrame([50.58, 0.6039, 13579.30, 5305.00, 2260, 1500, 1335, 1740],\n",
    "                     columns=['mean'])\n",
    "means.index = ['age', 'ind_risk', 'income', 'pers_exp', 'house_exp', 'taxes', 'transp_telecom', 'hobby']\n",
    "\n",
    "# Define the given distribution and its corresponding bins for pers_exp\n",
    "distribution = [0.10, 0.44, 0.33, 0.14]\n",
    "bins = [4500, 5000, 5500, 6000]\n",
    "mean = 5305.00\n",
    "std_dev = 500\n",
    "size_of_data = 1000\n",
    "a, b = (bins[0] - mean) / std_dev, (bins[-1] - mean) / std_dev\n",
    "\n",
    "# Generate random values following a truncated normal distribution\n",
    "truncated_data = truncnorm.rvs(a, b, loc=mean, scale=std_dev, size=size_of_data)\n",
    "\n",
    "# Clip the data to fit within the specified bins\n",
    "pers_exp_data = np.clip(truncated_data, bins[0], bins[-1])\n",
    "\n",
    "# Transform \"pers_exp_data\" to uniform distribution\n",
    "u_pers_exp = to_uniform(pers_exp_data)\n",
    "\n",
    "# Generate random uncorrelated multivariate normal data\n",
    "random_data = np.random.normal(size=(size_of_data, len(means)))\n",
    "\n",
    "# Use eigendecomposition to introduce the desired correlation matrix\n",
    "corr_matrix = pd.DataFrame.from_dict(corr).drop('features', axis=1).values\n",
    "eigenvalues, eigenvectors = np.linalg.eig(corr_matrix)\n",
    "correlated_data = random_data @ np.sqrt(np.diag(eigenvalues)) @ eigenvectors.T\n",
    "\n",
    "# Scale and shift the data to match the desired mean and standard deviation\n",
    "scaled_data = correlated_data * std_dev + mean\n",
    "\n",
    "# Apply inverse transformation to the original distribution for all features\n",
    "synthetic_data = pd.DataFrame(data=from_uniform(scaled_data, u_pers_exp),\n",
    "                              columns=means.index)\n",
    "\n",
    "print(synthetic_data.head())\n"
   ]
  },
  {
   "cell_type": "code",
   "execution_count": null,
   "id": "7027e48d",
   "metadata": {},
   "outputs": [],
   "source": [
    "import numpy as np\n",
    "import pandas as pd\n",
    "from scipy.stats import truncnorm\n",
    "\n",
    "# Function to generate age data\n",
    "def generate_age_data(size_of_data):\n",
    "    return np.random.randint(20, 86, size=size_of_data)\n",
    "\n",
    "# Function to generate individual risk preference data\n",
    "def generate_ind_risk_data(size_of_data):\n",
    "    return np.random.rand(size_of_data)\n",
    "\n",
    "# Function to generate income data\n",
    "def generate_income_data(size_of_data):\n",
    "    income_bins = [0, 6121, 12001, 27601, 43201, 58801, 74401, np.inf]\n",
    "    return np.random.choice(income_bins[:-1], size=size_of_data) + np.random.rand(size_of_data) * (income_bins[1] - income_bins[0])\n",
    "\n",
    "# Function to generate personal expenses data\n",
    "def generate_pers_exp_data(size_of_data):\n",
    "    pers_exp_bins = [0, 4500, 5000, 5500, 6000]\n",
    "    return np.random.choice(pers_exp_bins[:-1], size=size_of_data) + np.random.rand(size_of_data) * (pers_exp_bins[1] - pers_exp_bins[0])\n",
    "\n",
    "# Function to generate housing costs data\n",
    "def generate_house_exp_data(size_of_data):\n",
    "    house_exp_bins = [0, 500, 1500, 3000, 4000]\n",
    "    return np.random.choice(house_exp_bins[:-1], size=size_of_data) + np.random.rand(size_of_data) * (house_exp_bins[1] - house_exp_bins[0])\n",
    "\n",
    "# Function to generate taxes and insurance data\n",
    "def generate_taxes_data(size_of_data):\n",
    "    taxes_bins = [0, 500, 1000, 2000, 2500]\n",
    "    return np.random.choice(taxes_bins[:-1], size=size_of_data) + np.random.rand(size_of_data) * (taxes_bins[1] - taxes_bins[0])\n",
    "\n",
    "# Function to generate transport and communications data\n",
    "def generate_transp_telecom_data(size_of_data):\n",
    "    transp_telecom_bins = [0, 500, 1000, 1500, 2500]\n",
    "    return np.random.choice(transp_telecom_bins[:-1], size=size_of_data) + np.random.rand(size_of_data) * (transp_telecom_bins[1] - transp_telecom_bins[0])\n",
    "\n",
    "# Function to generate leisure and hobby data\n",
    "def generate_hobby_data(size_of_data):\n",
    "    hobby_bins = [0, 1500, 2000, 3000]\n",
    "    return np.random.choice(hobby_bins[:-1], size=size_of_data) + np.random.rand(size_of_data) * (hobby_bins[1] - hobby_bins[0])\n",
    "import numpy as np\n",
    "import pandas as pd\n",
    "from scipy.stats import truncnorm\n",
    "\n",
    "# ... (Same functions to generate data for each feature as provided in the previous response)\n",
    "import numpy as np\n",
    "import pandas as pd\n",
    "from scipy.stats import truncnorm\n",
    "\n",
    "# ... (Same functions to generate data for each feature as provided in the previous response)\n"
   ]
  },
  {
   "cell_type": "code",
   "execution_count": null,
   "id": "0c08a44c",
   "metadata": {
    "ExecuteTime": {
     "end_time": "2023-07-20T20:13:56.437992Z",
     "start_time": "2023-07-20T20:13:56.392308Z"
    }
   },
   "outputs": [],
   "source": [
    "import numpy as np\n",
    "import pandas as pd\n",
    "from scipy.stats import truncnorm\n",
    "\n",
    "# ... (Same functions to generate data for each feature as provided in the previous response)\n",
    "\n",
    "# DataFrame of means\n",
    "means = pd.DataFrame([50.58, 0.6039, 13579.30, 5305.00, 2260, 1500, 1335, 1740],\n",
    "                     columns=['mean'])\n",
    "means.index = ['age', 'ind_risk', 'income', 'pers_exp', 'house_exp', 'taxes', 'transp_telecom', 'hobby']\n",
    "\n",
    "# Define the given distribution and its corresponding bins for pers_exp\n",
    "distribution = [0.10, 0.44, 0.33, 0.14]\n",
    "bins = [4500, 5000, 5500, 6000]\n",
    "mean = 5305.00\n",
    "std_dev = 500\n",
    "size_of_data = 1000\n",
    "a, b = (bins[0] - mean) / std_dev, (bins[-1] - mean) / std_dev\n",
    "\n",
    "# Generate random values following a standard normal distribution\n",
    "random_data = np.random.normal(size=(size_of_data, len(means)))\n",
    "\n",
    "# Define the desired correlation matrix\n",
    "corr_matrix = np.array([\n",
    "    [1.0, 0.8, 0.3, 0.2, 0.1, 0.1, 0.05, 0.01],\n",
    "    [0.8, 1.0, 0.5, 0.3, 0.2, 0.1, 0.05, 0.01],\n",
    "    [0.3, 0.5, 1.0, 0.5, 0.3, 0.2, 0.1, 0.05],\n",
    "    [0.2, 0.3, 0.5, 1.0, 0.8, 0.5, 0.3, 0.2],\n",
    "    [0.1, 0.2, 0.3, 0.8, 1.0, 0.8, 0.5, 0.3],\n",
    "    [0.1, 0.1, 0.2, 0.5, 0.8, 1.0, 0.8, 0.5],\n",
    "    [0.05, 0.05, 0.1, 0.3, 0.5, 0.8, 1.0, 0.8],\n",
    "    [0.01, 0.01, 0.05, 0.2, 0.3, 0.5, 0.8, 1.0]\n",
    "])\n",
    "\n",
    "# Use Cholesky decomposition to introduce the desired correlation matrix\n",
    "chol_decomp = np.linalg.cholesky(corr_matrix)\n",
    "\n",
    "# Generate correlated data using Cholesky decomposition\n",
    "correlated_data = random_data @ chol_decomp.T\n",
    "\n",
    "# Apply inverse transformation to the original distribution for pers_exp\n",
    "pers_exp_data = generate_pers_exp_data(size_of_data)\n",
    "sorted_pers_exp = np.sort(pers_exp_data)\n",
    "ranks = np.clip(correlated_data[:, 3], 0, 1) * (len(sorted_pers_exp) - 1)\n",
    "ranks = ranks.astype(int)\n",
    "synthetic_pers_exp = sorted_pers_exp[ranks]\n",
    "\n",
    "# Apply inverse transformation to the original distribution for other features\n",
    "synthetic_data = pd.DataFrame()\n",
    "synthetic_data['age'] = from_uniform(correlated_data[:, 0], age_data)\n",
    "synthetic_data['ind_risk'] = from_uniform(correlated_data[:, 1], ind_risk_data)\n",
    "synthetic_data['income'] = from_uniform(correlated_data[:, 2], income_data)\n",
    "synthetic_data['pers_exp'] = synthetic_pers_exp\n",
    "synthetic_data['house_exp'] = from_uniform(correlated_data[:, 4], house_exp_data)\n",
    "synthetic_data['taxes'] = from_uniform(correlated_data[:, 5], taxes_data)\n",
    "synthetic_data['transp_telecom'] = from_uniform(correlated_data[:, 6], transp_telecom_data)\n",
    "synthetic_data['hobby'] = from_uniform(correlated_data[:, 7], hobby_data)\n",
    "\n",
    "print(synthetic_data.corr())\n"
   ]
  },
  {
   "cell_type": "code",
   "execution_count": null,
   "id": "345b6140",
   "metadata": {},
   "outputs": [],
   "source": []
  },
  {
   "cell_type": "code",
   "execution_count": null,
   "id": "98724dd4",
   "metadata": {
    "ExecuteTime": {
     "end_time": "2023-07-20T20:32:10.013595Z",
     "start_time": "2023-07-20T20:32:09.929321Z"
    }
   },
   "outputs": [],
   "source": [
    "import numpy as np\n",
    "import pandas as pd\n",
    "from vinecopulib import VineCopula\n",
    "\n",
    "# Define the number of samples\n",
    "size_of_data = 1000\n",
    "\n",
    "# Define the desired correlation matrix\n",
    "corr_matrix = np.array([\n",
    "    [1.0, 0.8, 0.3, 0.2, 0.1, 0.1, 0.05, 0.01],\n",
    "    [0.8, 1.0, 0.5, 0.3, 0.2, 0.1, 0.05, 0.01],\n",
    "    [0.3, 0.5, 1.0, 0.5, 0.3, 0.2, 0.1, 0.05],\n",
    "    [0.2, 0.3, 0.5, 1.0, 0.8, 0.5, 0.3, 0.2],\n",
    "    [0.1, 0.2, 0.3, 0.8, 1.0, 0.8, 0.5, 0.3],\n",
    "    [0.1, 0.1, 0.2, 0.5, 0.8, 1.0, 0.8, 0.5],\n",
    "    [0.05, 0.05, 0.1, 0.3, 0.5, 0.8, 1.0, 0.8],\n",
    "    [0.01, 0.01, 0.05, 0.2, 0.3, 0.5, 0.8, 1.0]\n",
    "])\n",
    "\n",
    "# Define the means and standard deviations for each feature\n",
    "means = pd.Series({\n",
    "    'age': 52.0,\n",
    "    'ind_risk': 0.5,\n",
    "    'income': 45000.0,\n",
    "    'pers_exp': 3500.0,\n",
    "    'house_exp': 2500.0,\n",
    "    'taxes': 1500.0,\n",
    "    'transp_telecom': 1250.0,\n",
    "    'hobby': 750.0\n",
    "})\n",
    "\n",
    "std_devs = pd.Series({\n",
    "    'age': 10.0,\n",
    "    'ind_risk': 0.2,\n",
    "    'income': 15000.0,\n",
    "    'pers_exp': 500.0,\n",
    "    'house_exp': 500.0,\n",
    "    'taxes': 200.0,\n",
    "    'transp_telecom': 200.0,\n",
    "    'hobby': 300.0\n",
    "})\n",
    "\n",
    "# Generate uniform data for VineCopula\n",
    "uniform_data = np.random.rand(size_of_data, len(means))\n",
    "\n",
    "# Apply inverse transformation to map the uniform data to the desired distributions\n",
    "for column_name in means.index:\n",
    "    bins = np.linspace(means[column_name] - 3 * std_devs[column_name],\n",
    "                       means[column_name] + 3 * std_devs[column_name], 100)\n",
    "    synthetic_data[column_name] = pd.cut(uniform_data[:, i], bins, labels=bins[:-1]).astype(float)\n",
    "\n",
    "# Calculate the correlation matrix of the synthetic data\n",
    "corr_matrix_synthetic = synthetic_data.corr()\n",
    "\n",
    "# Use VineCopula to capture the desired correlation structure\n",
    "copula = VineCopula(copula_order=2, family_set=[0, 1, 2, 3])\n",
    "copula.fit(synthetic_data)\n",
    "\n",
    "# Generate correlated data using VineCopula\n",
    "correlated_data = copula.sample(size_of_data)\n",
    "\n",
    "# Scale and shift the data to match the desired mean and standard deviation\n",
    "scaled_data = correlated_data * std_devs.values + means.values\n",
    "\n",
    "# Create the final synthetic dataset\n",
    "synthetic_data = pd.DataFrame(data=scaled_data, columns=means.index)\n",
    "\n",
    "# Print the correlation matrix of the synthetic data\n",
    "print(synthetic_data.corr())\n"
   ]
  },
  {
   "cell_type": "code",
   "execution_count": null,
   "id": "40b0606f",
   "metadata": {},
   "outputs": [],
   "source": []
  },
  {
   "cell_type": "code",
   "execution_count": null,
   "id": "08657ae8",
   "metadata": {},
   "outputs": [],
   "source": []
  },
  {
   "cell_type": "code",
   "execution_count": null,
   "id": "76c79e64",
   "metadata": {},
   "outputs": [],
   "source": []
  },
  {
   "cell_type": "code",
   "execution_count": null,
   "id": "6123a74f",
   "metadata": {},
   "outputs": [],
   "source": []
  },
  {
   "cell_type": "code",
   "execution_count": null,
   "id": "76fb8b74",
   "metadata": {},
   "outputs": [],
   "source": []
  },
  {
   "cell_type": "code",
   "execution_count": null,
   "id": "e7eec884",
   "metadata": {
    "ExecuteTime": {
     "end_time": "2023-07-20T20:29:07.914718Z",
     "start_time": "2023-07-20T20:29:07.168350Z"
    }
   },
   "outputs": [],
   "source": [
    "for col in synthetic_data.columns:\n",
    "    plot_distribution(synthetic_data, col)"
   ]
  },
  {
   "cell_type": "code",
   "execution_count": null,
   "id": "5056cd26",
   "metadata": {
    "ExecuteTime": {
     "end_time": "2023-07-20T20:29:09.526850Z",
     "start_time": "2023-07-20T20:29:09.026418Z"
    }
   },
   "outputs": [],
   "source": [
    "import numpy as np\n",
    "import pandas as pd\n",
    "import matplotlib.pyplot as plt\n",
    "\n",
    "# ... (Code from the previous answer)\n",
    "\n",
    "# Calculate the correlation matrix for the adjusted DataFrame\n",
    "correlation_matrix_adjusted = synthetic_data.corr()\n",
    "\n",
    "\n",
    "# Display the correlation matrix\n",
    "print(\"Adjusted Correlation Matrix:\")\n",
    "print(correlation_matrix_adjusted)\n",
    "\n",
    "# Convert the original correlation data (corr) to a DataFrame\n",
    "original_corr_df = pd.DataFrame(corr)\n",
    "original_corr_df.set_index('features', inplace=True)\n",
    "\n",
    "# Display the original correlation data\n",
    "print(\"\\nOriginal Correlation Matrix:\")\n",
    "print(original_corr_df)\n",
    "\n",
    "# Plot the correlation matrix heatmaps for both adjusted and original data side by side\n",
    "fig, axes = plt.subplots(1, 2, figsize=(16, 6))\n",
    "fig.suptitle(\"Comparison of Correlation Matrices\", fontsize=16)\n",
    "\n",
    "# Adjusted correlation matrix heatmap\n",
    "axes[0].imshow(correlation_matrix_adjusted, cmap='coolwarm', interpolation='nearest')\n",
    "axes[0].set_xticks(np.arange(len(correlation_matrix_adjusted)))\n",
    "axes[0].set_yticks(np.arange(len(correlation_matrix_adjusted)))\n",
    "axes[0].set_xticklabels(correlation_matrix_adjusted.columns, rotation=45)\n",
    "axes[0].set_yticklabels(correlation_matrix_adjusted.columns)\n",
    "axes[0].set_title(\"Adjusted Correlation Matrix\")\n",
    "\n",
    "# Original correlation matrix heatmap\n",
    "axes[1].imshow(original_corr_df, cmap='coolwarm', interpolation='nearest')\n",
    "axes[1].set_xticks(np.arange(len(original_corr_df)))\n",
    "axes[1].set_yticks(np.arange(len(original_corr_df)))\n",
    "axes[1].set_xticklabels(original_corr_df.columns, rotation=45)\n",
    "axes[1].set_yticklabels(original_corr_df.columns)\n",
    "axes[1].set_title(\"Original Correlation Matrix\")\n",
    "\n",
    "plt.show()\n"
   ]
  },
  {
   "cell_type": "code",
   "execution_count": null,
   "id": "f9d9736e",
   "metadata": {},
   "outputs": [],
   "source": []
  },
  {
   "cell_type": "code",
   "execution_count": null,
   "id": "908a82e1",
   "metadata": {},
   "outputs": [],
   "source": []
  },
  {
   "cell_type": "code",
   "execution_count": null,
   "id": "f73115e1",
   "metadata": {},
   "outputs": [],
   "source": []
  },
  {
   "cell_type": "code",
   "execution_count": null,
   "id": "48afd847",
   "metadata": {
    "ExecuteTime": {
     "end_time": "2023-07-20T19:16:13.092275Z",
     "start_time": "2023-07-20T19:16:13.066081Z"
    }
   },
   "outputs": [],
   "source": [
    "corr = {\n",
    "    'features': ['age', 'ind_risk', 'income', 'pers_exp', 'house_exp', 'taxes', 'transp_telecom', 'hobby'],\n",
    "    'age': [1, -0.00665947056405372, 0.00291644965339247, 0.0107779942638097, 0.00698674581731255, 0.00729153655132963, 0.0099866509330216, 0.00931630696561133],\n",
    "    'ind_risk': [-0.00665947056405372, 1, 0.0039918072709289, 0.00806259039194059, 0.00457023635440603, 0.0061985340641631, 0.00768699810849585, -0.00332322616613201],\n",
    "    'income': [0.00291644965339247, 0.0039918072709289, 1, 0.560949334881676, 0.58892666343229, 0.581907424628933, 0.562946509689962, 0.352350802339294],\n",
    "    'pers_exp': [0.0107779942638097, 0.00806259039194059, 0.560949334881676, 1, 0.928449923861951, 0.929598634668897, 0.934775947642248, 0.714298364869941],\n",
    "    'house_exp': [0.00698674581731255, 0.00457023635440603, 0.58892666343229, 0.928449923861951, 1, 0.93031279279417, 0.927846735467478, 0.679286362990223],\n",
    "    'taxes': [0.00729153655132963, 0.0061985340641631, 0.581907424628933, 0.929598634668897, 0.93031279279417, 1, 0.92920510128812, 0.689442053350162],\n",
    "    'transp_telecom': [0.0099866509330216, 0.00768699810849585, 0.562946509689962, 0.934775947642248, 0.927846735467478, 0.92920510128812, 1, 0.714114127908189],\n",
    "    'hobby': [0.00931630696561133, -0.00332322616613201, 0.352350802339294, 0.714298364869941, 0.679286362990223, 0.689442053350162, 0.714114127908189, 1]\n",
    "}\n",
    "\n",
    "l_corr_matrix = []\n",
    "\n",
    "for k, v in corr.items():\n",
    "    if k == \"features\":\n",
    "        continue\n",
    "    else:\n",
    "        l_corr_matrix.append(v)\n",
    "\n",
    "        \n",
    "arr_corr_matrix = np.array(l_corr_matrix)\n",
    "\n",
    "mean = [50.58, 0.6039, 13579.30, 5305.00, 2260, 1500, 1335, 1740]\n",
    "num_samples = 1000"
   ]
  },
  {
   "cell_type": "code",
   "execution_count": null,
   "id": "4c8de97b",
   "metadata": {
    "ExecuteTime": {
     "end_time": "2023-07-20T19:24:43.836911Z",
     "start_time": "2023-07-20T19:24:43.822907Z"
    }
   },
   "outputs": [],
   "source": [
    "def generate_correlated_random_variables(mean, covariance, num_samples):\n",
    "    L = np.linalg.cholesky(covariance)\n",
    "    normal_samples = np.random.normal(size=(num_samples, covariance.shape[0]))\n",
    "    return mean + np.dot(normal_samples, L.T)"
   ]
  },
  {
   "cell_type": "code",
   "execution_count": null,
   "id": "df05ab44",
   "metadata": {
    "ExecuteTime": {
     "end_time": "2023-07-20T19:24:44.582771Z",
     "start_time": "2023-07-20T19:24:44.533402Z"
    }
   },
   "outputs": [],
   "source": [
    "samples = generate_correlated_random_variables(mean, arr_corr_matrix, num_samples, pers_exp_data)"
   ]
  },
  {
   "cell_type": "code",
   "execution_count": null,
   "id": "9d4335ad",
   "metadata": {
    "ExecuteTime": {
     "end_time": "2023-07-20T19:27:05.569041Z",
     "start_time": "2023-07-20T19:27:05.554514Z"
    }
   },
   "outputs": [],
   "source": [
    "import numpy as np\n",
    "\n",
    "def generate_correlated_random_variables(mean, covariance, num_samples, pers_exp):\n",
    "    # Assuming arr_corr_matrix is the covariance matrix with shape (1000, 1000)\n",
    "    # Assuming mean is the mean array with shape (1000,)\n",
    "\n",
    "    # Reshape pers_exp from (1000,) to (1000, 1)\n",
    "    reshaped_array = pers_exp.reshape(-1, 1)\n",
    "\n",
    "    # Assuming L is your covariance matrix with shape (8, 8)\n",
    "    L = covariance[:8, :8]  # Extract the first 8 rows and columns\n",
    "\n",
    "    # Perform matrix multiplication\n",
    "    result = mean + np.dot(reshaped_array, L.T).flatten()\n",
    "    return result\n"
   ]
  },
  {
   "cell_type": "code",
   "execution_count": null,
   "id": "2b7a231d",
   "metadata": {
    "ExecuteTime": {
     "end_time": "2023-07-20T19:27:06.512639Z",
     "start_time": "2023-07-20T19:27:06.462419Z"
    }
   },
   "outputs": [],
   "source": [
    "samples = generate_correlated_random_variables(mean, arr_corr_matrix, num_samples, pers_exp_data)"
   ]
  },
  {
   "cell_type": "code",
   "execution_count": null,
   "id": "c04e3bb2",
   "metadata": {},
   "outputs": [],
   "source": []
  },
  {
   "cell_type": "code",
   "execution_count": null,
   "id": "57036139",
   "metadata": {
    "ExecuteTime": {
     "end_time": "2023-07-20T20:00:59.936863Z",
     "start_time": "2023-07-20T20:00:59.927863Z"
    }
   },
   "outputs": [],
   "source": [
    "import plotly.express as px\n",
    "\n",
    "def plot_distribution(data, column_name):\n",
    "    \"\"\"\n",
    "    Plots the distribution of a pandas column using Plotly.\n",
    "\n",
    "    Parameters:\n",
    "        data (pd.DataFrame): The pandas DataFrame containing the data.\n",
    "        column_name (str): The name of the column to plot.\n",
    "\n",
    "    Returns:\n",
    "        None\n",
    "    \"\"\"\n",
    "    # Ensure the column exists in the DataFrame\n",
    "    if column_name not in data.columns:\n",
    "        raise ValueError(f\"Column '{column_name}' not found in the DataFrame.\")\n",
    "\n",
    "    # Use Plotly Express to plot the distribution\n",
    "    fig = px.histogram(data, x=column_name, nbins=50, title=f'Distribution of {column_name}')\n",
    "    fig.show()\n"
   ]
  },
  {
   "cell_type": "code",
   "execution_count": null,
   "id": "805d91e8",
   "metadata": {
    "ExecuteTime": {
     "end_time": "2023-07-20T20:01:02.121792Z",
     "start_time": "2023-07-20T20:01:01.366500Z"
    }
   },
   "outputs": [],
   "source": [
    "for col in synthetic_df.columns:\n",
    "    plot_distribution(synthetic_df, col)"
   ]
  },
  {
   "cell_type": "code",
   "execution_count": null,
   "id": "3aaf42f9",
   "metadata": {
    "ExecuteTime": {
     "end_time": "2023-07-20T19:54:46.512242Z",
     "start_time": "2023-07-20T19:54:46.021300Z"
    }
   },
   "outputs": [],
   "source": [
    "import numpy as np\n",
    "import pandas as pd\n",
    "import matplotlib.pyplot as plt\n",
    "\n",
    "# ... (Code from the previous answer)\n",
    "\n",
    "# Calculate the correlation matrix for the adjusted DataFrame\n",
    "correlation_matrix_adjusted = synthetic_df.corr()\n",
    "\n",
    "\n",
    "# Display the correlation matrix\n",
    "print(\"Adjusted Correlation Matrix:\")\n",
    "print(correlation_matrix_adjusted)\n",
    "\n",
    "# Convert the original correlation data (corr) to a DataFrame\n",
    "original_corr_df = pd.DataFrame(corr)\n",
    "original_corr_df.set_index('features', inplace=True)\n",
    "\n",
    "# Display the original correlation data\n",
    "print(\"\\nOriginal Correlation Matrix:\")\n",
    "print(original_corr_df)\n",
    "\n",
    "# Plot the correlation matrix heatmaps for both adjusted and original data side by side\n",
    "fig, axes = plt.subplots(1, 2, figsize=(16, 6))\n",
    "fig.suptitle(\"Comparison of Correlation Matrices\", fontsize=16)\n",
    "\n",
    "# Adjusted correlation matrix heatmap\n",
    "axes[0].imshow(correlation_matrix_adjusted, cmap='coolwarm', interpolation='nearest')\n",
    "axes[0].set_xticks(np.arange(len(correlation_matrix_adjusted)))\n",
    "axes[0].set_yticks(np.arange(len(correlation_matrix_adjusted)))\n",
    "axes[0].set_xticklabels(correlation_matrix_adjusted.columns, rotation=45)\n",
    "axes[0].set_yticklabels(correlation_matrix_adjusted.columns)\n",
    "axes[0].set_title(\"Adjusted Correlation Matrix\")\n",
    "\n",
    "# Original correlation matrix heatmap\n",
    "axes[1].imshow(original_corr_df, cmap='coolwarm', interpolation='nearest')\n",
    "axes[1].set_xticks(np.arange(len(original_corr_df)))\n",
    "axes[1].set_yticks(np.arange(len(original_corr_df)))\n",
    "axes[1].set_xticklabels(original_corr_df.columns, rotation=45)\n",
    "axes[1].set_yticklabels(original_corr_df.columns)\n",
    "axes[1].set_title(\"Original Correlation Matrix\")\n",
    "\n",
    "plt.show()\n"
   ]
  },
  {
   "cell_type": "code",
   "execution_count": null,
   "id": "5303eeeb",
   "metadata": {
    "ExecuteTime": {
     "end_time": "2023-07-20T19:54:47.250680Z",
     "start_time": "2023-07-20T19:54:47.229895Z"
    }
   },
   "outputs": [],
   "source": [
    "# Function to measure the distance between two correlation matrices using Frobenius norm\n",
    "def correlation_distance(matrix1, matrix2):\n",
    "    return np.linalg.norm(matrix1 - matrix2, ord='fro')\n",
    "\n",
    "\n",
    "current_distance = correlation_distance(matrix1=correlation_matrix_adjusted, matrix2=original_corr_df)\n",
    "current_distance"
   ]
  },
  {
   "cell_type": "code",
   "execution_count": null,
   "id": "f33ca972",
   "metadata": {},
   "outputs": [],
   "source": []
  },
  {
   "cell_type": "code",
   "execution_count": null,
   "id": "3ea0e633",
   "metadata": {},
   "outputs": [],
   "source": []
  },
  {
   "cell_type": "code",
   "execution_count": null,
   "id": "d3ed4bdc",
   "metadata": {},
   "outputs": [],
   "source": []
  },
  {
   "cell_type": "code",
   "execution_count": null,
   "id": "17a890c5",
   "metadata": {},
   "outputs": [],
   "source": []
  },
  {
   "cell_type": "code",
   "execution_count": null,
   "id": "1abde820",
   "metadata": {},
   "outputs": [],
   "source": []
  },
  {
   "cell_type": "code",
   "execution_count": null,
   "id": "385a0115",
   "metadata": {},
   "outputs": [],
   "source": []
  },
  {
   "cell_type": "code",
   "execution_count": null,
   "id": "34c377f0",
   "metadata": {},
   "outputs": [],
   "source": []
  },
  {
   "cell_type": "code",
   "execution_count": null,
   "id": "390198af",
   "metadata": {},
   "outputs": [],
   "source": []
  },
  {
   "cell_type": "code",
   "execution_count": null,
   "id": "96d50840",
   "metadata": {},
   "outputs": [],
   "source": []
  },
  {
   "cell_type": "code",
   "execution_count": null,
   "id": "245567d1",
   "metadata": {},
   "outputs": [],
   "source": []
  },
  {
   "cell_type": "code",
   "execution_count": null,
   "id": "32f761f9",
   "metadata": {},
   "outputs": [],
   "source": []
  },
  {
   "cell_type": "code",
   "execution_count": null,
   "id": "9b27852d",
   "metadata": {},
   "outputs": [],
   "source": []
  },
  {
   "cell_type": "code",
   "execution_count": null,
   "id": "8044e19c",
   "metadata": {},
   "outputs": [],
   "source": []
  },
  {
   "cell_type": "code",
   "execution_count": null,
   "id": "22354963",
   "metadata": {},
   "outputs": [],
   "source": []
  },
  {
   "cell_type": "code",
   "execution_count": null,
   "id": "e035d594",
   "metadata": {},
   "outputs": [],
   "source": []
  },
  {
   "cell_type": "code",
   "execution_count": null,
   "id": "c616bff7",
   "metadata": {},
   "outputs": [],
   "source": []
  },
  {
   "cell_type": "code",
   "execution_count": null,
   "id": "4c2e0a1f",
   "metadata": {},
   "outputs": [],
   "source": []
  },
  {
   "cell_type": "code",
   "execution_count": null,
   "id": "4202a9ef",
   "metadata": {},
   "outputs": [],
   "source": []
  },
  {
   "cell_type": "code",
   "execution_count": null,
   "id": "f20bc97e",
   "metadata": {},
   "outputs": [],
   "source": []
  },
  {
   "cell_type": "code",
   "execution_count": null,
   "id": "7c7aabd5",
   "metadata": {},
   "outputs": [],
   "source": []
  },
  {
   "cell_type": "code",
   "execution_count": null,
   "id": "87b17edc",
   "metadata": {
    "ExecuteTime": {
     "end_time": "2023-07-20T18:46:04.955006Z",
     "start_time": "2023-07-20T18:46:04.887401Z"
    }
   },
   "outputs": [],
   "source": [
    "import numpy as np\n",
    "import matplotlib.pyplot as plt\n",
    "\n",
    "# Load the real-world data\n",
    "mu = 5305.00\n",
    "sigma = 700\n",
    "# sigma = [0.10,0.44,0.33,0.14]\n",
    "# Fit a probability distribution to the real-world data\n",
    "\n",
    "\n",
    "distribution = np.random.normal(mu, sigma, 1000)\n",
    "\n",
    "# Generate synthetic data using Monte Carlo simulation\n",
    "synthetic_data_MC = np.random.choice(distribution, size=100)\n",
    "\n",
    "# Plot the real-world data and the synthetic data\n",
    "plt.hist(synthetic_data_MC, bins=50, alpha=0.5, label='Synthetic data')\n",
    "plt.legend()\n",
    "plt.show()\n",
    "\n",
    "\n",
    "# TODO: I have to bin it afterwards"
   ]
  },
  {
   "cell_type": "code",
   "execution_count": null,
   "id": "5e2787e6",
   "metadata": {},
   "outputs": [],
   "source": []
  },
  {
   "cell_type": "code",
   "execution_count": null,
   "id": "50b57488",
   "metadata": {
    "ExecuteTime": {
     "end_time": "2023-07-20T18:37:12.494077Z",
     "start_time": "2023-07-20T18:37:12.128834Z"
    }
   },
   "outputs": [],
   "source": [
    "import numpy as np\n",
    "import matplotlib.pyplot as plt\n",
    "\n",
    "def generate_pers_exp_data(size):\n",
    "    # Define the mean and standard deviation for the normal distribution\n",
    "    mean = 5305.00\n",
    "    std_dev = 600  # You can adjust this value to control the spread of the data\n",
    "\n",
    "    # Generate random data following the normal distribution\n",
    "    data = np.random.normal(loc=mean, scale=std_dev, size=size)\n",
    "\n",
    "    # Map the data to the specified bins\n",
    "    bins = [0.10, 0.44, 0.33, 0.14]\n",
    "    bin_edges = [4500, 5000, 5500, 6000]\n",
    "    data = np.digitize(data, bin_edges, right=True) - 1\n",
    "\n",
    "    # Adjust values to fit within each bin\n",
    "    for i in range(len(bins)):\n",
    "        idx = (data == i)\n",
    "        data[idx] = np.clip(data[idx], 0, bin_edges[i] - 1) / 100.0\n",
    "\n",
    "    return data\n",
    "\n",
    "# Set the desired size of the synthetic data\n",
    "size_of_data = 1000\n",
    "\n",
    "# Generate the synthetic data\n",
    "synthetic_data = generate_pers_exp_data(size_of_data)\n",
    "\n",
    "# Plot the histogram to visualize the distribution\n",
    "plt.hist(synthetic_data, bins=50, edgecolor='black')\n",
    "plt.xlabel('pers_exp')\n",
    "plt.ylabel('Frequency')\n",
    "plt.title('Distribution of Synthetic pers_exp Data')\n",
    "plt.grid(True)\n",
    "plt.show()\n"
   ]
  },
  {
   "cell_type": "code",
   "execution_count": null,
   "id": "df6fdf29",
   "metadata": {},
   "outputs": [],
   "source": []
  },
  {
   "cell_type": "code",
   "execution_count": null,
   "id": "841e9086",
   "metadata": {},
   "outputs": [],
   "source": []
  },
  {
   "cell_type": "code",
   "execution_count": null,
   "id": "544d67a9",
   "metadata": {
    "ExecuteTime": {
     "end_time": "2023-07-20T14:06:34.773588Z",
     "start_time": "2023-07-20T14:06:34.754063Z"
    }
   },
   "outputs": [],
   "source": [
    "import numpy as np\n",
    "import pandas as pd\n",
    "corr = {\n",
    "    'features': ['age', 'ind_risk', 'income', 'pers_exp', 'house_exp', 'taxes', 'transp_telecom', 'hobby'],\n",
    "    'age': [1, -0.00665947056405372, 0.00291644965339247, 0.0107779942638097, 0.00698674581731255, 0.00729153655132963, 0.0099866509330216, 0.00931630696561133],\n",
    "    'ind_risk': [-0.00665947056405372, 1, 0.0039918072709289, 0.00806259039194059, 0.00457023635440603, 0.0061985340641631, 0.00768699810849585, -0.00332322616613201],\n",
    "    'income': [0.00291644965339247, 0.0039918072709289, 1, 0.560949334881676, 0.58892666343229, 0.581907424628933, 0.562946509689962, 0.352350802339294],\n",
    "    'pers_exp': [0.0107779942638097, 0.00806259039194059, 0.560949334881676, 1, 0.928449923861951, 0.929598634668897, 0.934775947642248, 0.714298364869941],\n",
    "    'house_exp': [0.00698674581731255, 0.00457023635440603, 0.58892666343229, 0.928449923861951, 1, 0.93031279279417, 0.927846735467478, 0.679286362990223],\n",
    "    'taxes': [0.00729153655132963, 0.0061985340641631, 0.581907424628933, 0.929598634668897, 0.93031279279417, 1, 0.92920510128812, 0.689442053350162],\n",
    "    'transp_telecom': [0.0099866509330216, 0.00768699810849585, 0.562946509689962, 0.934775947642248, 0.927846735467478, 0.92920510128812, 1, 0.714114127908189],\n",
    "    'hobby': [0.00931630696561133, -0.00332322616613201, 0.352350802339294, 0.714298364869941, 0.679286362990223, 0.689442053350162, 0.714114127908189, 1]\n",
    "}"
   ]
  },
  {
   "cell_type": "code",
   "execution_count": null,
   "id": "0928b1f9",
   "metadata": {
    "ExecuteTime": {
     "end_time": "2023-07-20T14:06:34.931434Z",
     "start_time": "2023-07-20T14:06:34.919850Z"
    }
   },
   "outputs": [],
   "source": [
    "l_corr_matrix = []\n",
    "\n",
    "for k, v in corr.items():\n",
    "    if k == \"features\":\n",
    "        continue\n",
    "    else:\n",
    "        l_corr_matrix.append(v)\n",
    "\n",
    "        \n",
    "arr_corr_matrix = np.array(l_corr_matrix)"
   ]
  },
  {
   "cell_type": "code",
   "execution_count": null,
   "id": "5d20dd75",
   "metadata": {
    "ExecuteTime": {
     "end_time": "2023-07-20T14:07:57.986000Z",
     "start_time": "2023-07-20T14:07:57.978692Z"
    }
   },
   "outputs": [],
   "source": [
    "def generate_correlated_random_variables(mean, covariance, num_samples):\n",
    "    L = np.linalg.cholesky(covariance)\n",
    "    \n",
    "    # TO BE REPLACED BY DATA GENERATED FROM THE OLD FUNCTION THAT RESPECTS THE BOUNDARIES (generate_synthetic_data_with_bounds)\n",
    "    normal_samples = np.random.normal(size=(num_samples, covariance.shape[0]))\n",
    "    print(\"normal_samples shape\", normal_samples.shape)\n",
    "    return mean + np.dot(normal_samples, L.T)"
   ]
  },
  {
   "cell_type": "code",
   "execution_count": null,
   "id": "02cbb7b7",
   "metadata": {
    "ExecuteTime": {
     "end_time": "2023-07-20T14:08:01.570209Z",
     "start_time": "2023-07-20T14:07:58.761542Z"
    }
   },
   "outputs": [],
   "source": [
    "n_samples = 10000\n",
    "\n",
    "samples = generate_correlated_random_variables(mean=means,\n",
    "                                               covariance=arr_corr_matrix,\n",
    "                                               num_samples=n_samples)\n",
    "df_test = pd.DataFrame(samples, columns=possible_values.keys())"
   ]
  },
  {
   "cell_type": "code",
   "execution_count": null,
   "id": "d1b3df93",
   "metadata": {
    "ExecuteTime": {
     "end_time": "2023-07-20T14:06:49.100004Z",
     "start_time": "2023-07-20T14:06:49.004542Z"
    }
   },
   "outputs": [],
   "source": [
    "df_test.describe()"
   ]
  },
  {
   "cell_type": "code",
   "execution_count": null,
   "id": "1900594f",
   "metadata": {},
   "outputs": [],
   "source": []
  },
  {
   "cell_type": "code",
   "execution_count": null,
   "id": "3f9cdaa0",
   "metadata": {
    "ExecuteTime": {
     "end_time": "2023-07-19T22:01:53.800801Z",
     "start_time": "2023-07-19T22:01:53.782778Z"
    }
   },
   "outputs": [],
   "source": [
    "# import numpy as np\n",
    "# from scipy.stats import norm\n",
    "# from sklearn.preprocessing import MinMaxScaler\n",
    "\n",
    "\n",
    "# def generate_synthetic_data_with_bounds(correlation_matrix, num_samples, feature_bounds):\n",
    "#     num_features = correlation_matrix.shape[0]\n",
    "#     lower_bounds, upper_bounds = zip(*feature_bounds)\n",
    "#     scaler = MinMaxScaler(feature_range=(0, 1))\n",
    "    \n",
    "#     # Check if the correlation matrix is valid (symmetric and positive definite)\n",
    "#     if not np.allclose(correlation_matrix, correlation_matrix.T):\n",
    "#         raise ValueError(\"Correlation matrix must be symmetric.\")\n",
    "#     if not np.all(np.linalg.eigvals(correlation_matrix) > 0):\n",
    "#         raise ValueError(\"Correlation matrix must be positive definite.\")\n",
    "    \n",
    "#     # Generate synthetic data using multivariate normal distribution\n",
    "#     mean = np.zeros(num_features)\n",
    "#     synthetic_data = np.random.multivariate_normal(mean, correlation_matrix, num_samples)\n",
    "    \n",
    "#     # Apply Gaussian copula to maintain correlation structure\n",
    "#     synthetic_data = norm.cdf(synthetic_data)\n",
    "    \n",
    "#     # Scale the data to the specified bounds for each feature\n",
    "#     for i in range(num_features):\n",
    "#         synthetic_data[:, i] = lower_bounds[i] + synthetic_data[:, i] * (upper_bounds[i] - lower_bounds[i])\n",
    "    \n",
    "#     return synthetic_data"
   ]
  },
  {
   "cell_type": "code",
   "execution_count": null,
   "id": "f1eae1ef",
   "metadata": {
    "ExecuteTime": {
     "end_time": "2023-07-19T22:02:45.865530Z",
     "start_time": "2023-07-19T22:02:45.848140Z"
    }
   },
   "outputs": [],
   "source": [
    "# feature_bounds = []\n",
    "\n",
    "# possible_values = {\n",
    "#     'age': [20, 86],\n",
    "#     'ind_risk': [0, 1],\n",
    "#     'income': [0, 150000],\n",
    "#     'pers_exp': [0, 6000],\n",
    "#     'house_exp': [0, 4000],\n",
    "#     'taxes': [0, 2500],\n",
    "#     'transp_telecom': [0, 2500],\n",
    "#     'hobby': [0, 3000],\n",
    "# }\n",
    "\n",
    "\n",
    "# for v in possible_values.values():\n",
    "    \n",
    "#     feature_bounds.append(tuple(v))\n",
    "\n",
    "# # Outcome of (generate_synthetic_data_with_bounds) goes as synthetic_samples in the following function\n",
    "\n",
    "# # Example usage:\n",
    "# correlation_matrix = np.array(l_corr_matrix)\n",
    "\n",
    "# num_samples = 10000\n",
    "\n",
    "# synthetic_samp = generate_synthetic_data_with_bounds(correlation_matrix=correlation_matrix, \n",
    "#                                                      num_samples=num_samples, \n",
    "#                                                      feature_bounds=feature_bounds)\n",
    "\n",
    "# mean = []\n",
    "\n",
    "# for k, v in possible_values.items():\n",
    "#     avg = sum(v)/len(v)\n",
    "#     mean.append(avg)  \n",
    "\n",
    "    \n",
    "# print(\"mean\", mean)\n",
    "\n",
    "# def generate_correlated_random_variables_V2(mean, \n",
    "#                                             covariance, \n",
    "#                                             synthetic_samples):\n",
    "    \n",
    "    \n",
    "#     L = np.linalg.cholesky(covariance)\n",
    "#     print(\"normal_samples shape\", synthetic_samples.shape)\n",
    "#     return mean + np.dot(synthetic_samples, L.T)"
   ]
  },
  {
   "cell_type": "code",
   "execution_count": null,
   "id": "93cec2c8",
   "metadata": {
    "ExecuteTime": {
     "end_time": "2023-07-19T22:01:54.149485Z",
     "start_time": "2023-07-19T22:01:54.135485Z"
    }
   },
   "outputs": [],
   "source": [
    "# samples = generate_correlated_random_variables_V2(mean=mean, \n",
    "#                                             covariance=correlation_matrix, \n",
    "#                                             synthetic_samples=synthetic_samp)\n",
    "# df_test = pd.DataFrame(samples, columns=possible_values.keys())"
   ]
  },
  {
   "cell_type": "code",
   "execution_count": null,
   "id": "e6ad4412",
   "metadata": {
    "ExecuteTime": {
     "end_time": "2023-07-19T21:16:38.511459Z",
     "start_time": "2023-07-19T21:16:38.038428Z"
    }
   },
   "outputs": [],
   "source": []
  },
  {
   "cell_type": "code",
   "execution_count": null,
   "id": "06c2b094",
   "metadata": {
    "ExecuteTime": {
     "end_time": "2023-07-19T22:01:55.286646Z",
     "start_time": "2023-07-19T22:01:55.267118Z"
    }
   },
   "outputs": [],
   "source": [
    "# Check the correlation of the generated variables\n",
    "correlation = df_test.corr()\n",
    "print(\"Correlation matrix:\")\n",
    "print(correlation)"
   ]
  },
  {
   "cell_type": "code",
   "execution_count": null,
   "id": "0e4e1ddf",
   "metadata": {
    "ExecuteTime": {
     "end_time": "2023-07-19T22:01:56.390467Z",
     "start_time": "2023-07-19T22:01:56.019467Z"
    }
   },
   "outputs": [],
   "source": [
    "# Visualize the distribution of the generated variables\n",
    "sns.jointplot(x='age', y='income', data=df_test)\n",
    "plt.show()"
   ]
  },
  {
   "cell_type": "markdown",
   "id": "bcc5cad9",
   "metadata": {},
   "source": [
    "## Plot distributions"
   ]
  },
  {
   "cell_type": "code",
   "execution_count": null,
   "id": "71b50ad3",
   "metadata": {
    "ExecuteTime": {
     "end_time": "2023-07-19T22:02:00.595049Z",
     "start_time": "2023-07-19T22:02:00.580522Z"
    }
   },
   "outputs": [],
   "source": [
    "import plotly.express as px\n",
    "\n",
    "def plot_distribution(data, column_name):\n",
    "    \"\"\"\n",
    "    Plots the distribution of a pandas column using Plotly.\n",
    "\n",
    "    Parameters:\n",
    "        data (pd.DataFrame): The pandas DataFrame containing the data.\n",
    "        column_name (str): The name of the column to plot.\n",
    "\n",
    "    Returns:\n",
    "        None\n",
    "    \"\"\"\n",
    "    # Ensure the column exists in the DataFrame\n",
    "    if column_name not in data.columns:\n",
    "        raise ValueError(f\"Column '{column_name}' not found in the DataFrame.\")\n",
    "\n",
    "    # Use Plotly Express to plot the distribution\n",
    "    fig = px.histogram(data, x=column_name, nbins=50, title=f'Distribution of {column_name}')\n",
    "    fig.show()\n"
   ]
  },
  {
   "cell_type": "code",
   "execution_count": null,
   "id": "0c6c2153",
   "metadata": {
    "ExecuteTime": {
     "end_time": "2023-07-19T22:02:01.241313Z",
     "start_time": "2023-07-19T22:02:00.770314Z"
    }
   },
   "outputs": [],
   "source": [
    "for col in df_test.columns:\n",
    "    plot_distribution(df_test, col)"
   ]
  },
  {
   "cell_type": "markdown",
   "id": "4bb6db10",
   "metadata": {},
   "source": [
    "## Plot the two correlation matrices"
   ]
  },
  {
   "cell_type": "code",
   "execution_count": null,
   "id": "e340a6c9",
   "metadata": {
    "ExecuteTime": {
     "end_time": "2023-07-19T21:41:42.809584Z",
     "start_time": "2023-07-19T21:41:42.607008Z"
    }
   },
   "outputs": [],
   "source": [
    "import numpy as np\n",
    "import pandas as pd\n",
    "import matplotlib.pyplot as plt\n",
    "\n",
    "# ... (Code from the previous answer)\n",
    "\n",
    "# Calculate the correlation matrix for the adjusted DataFrame\n",
    "correlation_matrix_adjusted = df_test.corr()\n",
    "\n",
    "\n",
    "# Display the correlation matrix\n",
    "print(\"Adjusted Correlation Matrix:\")\n",
    "print(correlation_matrix_adjusted)\n",
    "\n",
    "# Convert the original correlation data (corr) to a DataFrame\n",
    "original_corr_df = pd.DataFrame(corr)\n",
    "original_corr_df.set_index('features', inplace=True)\n",
    "\n",
    "# Display the original correlation data\n",
    "print(\"\\nOriginal Correlation Matrix:\")\n",
    "print(original_corr_df)\n",
    "\n",
    "# Plot the correlation matrix heatmaps for both adjusted and original data side by side\n",
    "fig, axes = plt.subplots(1, 2, figsize=(16, 6))\n",
    "fig.suptitle(\"Comparison of Correlation Matrices\", fontsize=16)\n",
    "\n",
    "# Adjusted correlation matrix heatmap\n",
    "axes[0].imshow(correlation_matrix_adjusted, cmap='coolwarm', interpolation='nearest')\n",
    "axes[0].set_xticks(np.arange(len(correlation_matrix_adjusted)))\n",
    "axes[0].set_yticks(np.arange(len(correlation_matrix_adjusted)))\n",
    "axes[0].set_xticklabels(correlation_matrix_adjusted.columns, rotation=45)\n",
    "axes[0].set_yticklabels(correlation_matrix_adjusted.columns)\n",
    "axes[0].set_title(\"Adjusted Correlation Matrix\")\n",
    "\n",
    "# Original correlation matrix heatmap\n",
    "axes[1].imshow(original_corr_df, cmap='coolwarm', interpolation='nearest')\n",
    "axes[1].set_xticks(np.arange(len(original_corr_df)))\n",
    "axes[1].set_yticks(np.arange(len(original_corr_df)))\n",
    "axes[1].set_xticklabels(original_corr_df.columns, rotation=45)\n",
    "axes[1].set_yticklabels(original_corr_df.columns)\n",
    "axes[1].set_title(\"Original Correlation Matrix\")\n",
    "\n",
    "plt.show()\n"
   ]
  },
  {
   "cell_type": "code",
   "execution_count": null,
   "id": "f6515889",
   "metadata": {
    "ExecuteTime": {
     "end_time": "2023-07-19T21:41:54.931971Z",
     "start_time": "2023-07-19T21:41:54.923681Z"
    }
   },
   "outputs": [],
   "source": [
    "# Function to measure the distance between two correlation matrices using Frobenius norm\n",
    "def correlation_distance(matrix1, matrix2):\n",
    "    return np.linalg.norm(matrix1 - matrix2, ord='fro')\n",
    "\n",
    "\n",
    "current_distance = correlation_distance(matrix1=correlation_matrix_adjusted, matrix2=original_corr_df)\n",
    "current_distance"
   ]
  },
  {
   "cell_type": "code",
   "execution_count": null,
   "id": "349f417e",
   "metadata": {},
   "outputs": [],
   "source": []
  },
  {
   "cell_type": "code",
   "execution_count": null,
   "id": "2f4548a4",
   "metadata": {},
   "outputs": [],
   "source": []
  },
  {
   "cell_type": "markdown",
   "id": "915f6ed2",
   "metadata": {},
   "source": [
    "## Run the distribution fitter to check the distributions of each feature"
   ]
  },
  {
   "cell_type": "code",
   "execution_count": null,
   "id": "abde1f2a",
   "metadata": {
    "ExecuteTime": {
     "end_time": "2023-07-19T21:01:45.766919Z",
     "start_time": "2023-07-19T21:01:45.727893Z"
    }
   },
   "outputs": [],
   "source": [
    "# # Define the inputs and their probability distributions\n",
    "inputs = {\"input_1\": {\"mean\": 10, \"std_dev\": 2},\n",
    "          \"input_2\": {\"mean\": 20, \"std_dev\": 3}}\n",
    "\n",
    "# Number of iterations\n",
    "num_iterations = 10000\n",
    "\n",
    "# Storage for simulation results\n",
    "results = []\n",
    "\n",
    "# Run the simulation\n",
    "for i in range(num_iterations):\n",
    "    # Generate random values for each input based on its distribution\n",
    "    input_1 = np.random.normal(inputs[\"input_1\"][\"mean\"], inputs[\"input_1\"][\"std_dev\"])\n",
    "    input_2 = np.random.normal(inputs[\"input_2\"][\"mean\"], inputs[\"input_2\"][\"std_dev\"])\n",
    "\n",
    "    # Calculate the output of the model\n",
    "    output = input_1**2 +input_1*input_2+ input_2**2\n",
    "\n",
    "    # Store the result\n",
    "    results.append(output)"
   ]
  },
  {
   "cell_type": "code",
   "execution_count": null,
   "id": "b96b1d48",
   "metadata": {
    "ExecuteTime": {
     "end_time": "2023-07-19T21:02:47.253618Z",
     "start_time": "2023-07-19T21:02:46.931632Z"
    }
   },
   "outputs": [],
   "source": [
    "\n",
    "# Analyze the results\n",
    "mean_result = np.mean(results)\n",
    "std_dev_result = np.std(results)\n",
    "\n",
    "# Visualize the results\n",
    "sns.set_style('white')\n",
    "sns.set_context(\"paper\", font_scale = 2)\n",
    "\n",
    "sns.displot(data=results, x=results, kind=\"hist\", bins = 100, aspect = 1.5)\n",
    "\n",
    "\n",
    "# Print the results\n",
    "print(\"Mean result: \", mean_result)\n",
    "print(\"Standard deviation of result: \", std_dev_result)\n"
   ]
  },
  {
   "cell_type": "code",
   "execution_count": null,
   "id": "bc8e9129",
   "metadata": {
    "ExecuteTime": {
     "end_time": "2023-07-19T21:11:45.816703Z",
     "start_time": "2023-07-19T21:05:15.357021Z"
    }
   },
   "outputs": [],
   "source": [
    "for col in df_test.columns:\n",
    "    \n",
    "    print(\"col: \", col)\n",
    "    vals = list(df_test[col])\n",
    "    \n",
    "    f = Fitter(vals, distributions=get_distributions(),timeout=120, bins=50)#,xmin=0.1, xmax=1 ) \n",
    "    #get_common_distributions() ##['gamma','lognorm',\"beta\",\"burr\",\"norm\"]\n",
    "    f.fit()\n",
    "\n",
    "    f.summary()\n",
    "\n",
    "    break"
   ]
  },
  {
   "cell_type": "code",
   "execution_count": null,
   "id": "3ca53011",
   "metadata": {
    "ExecuteTime": {
     "end_time": "2023-07-19T21:12:23.715024Z",
     "start_time": "2023-07-19T21:12:23.159415Z"
    }
   },
   "outputs": [],
   "source": [
    "df_test[\"age\"].describe()"
   ]
  },
  {
   "cell_type": "code",
   "execution_count": null,
   "id": "ecccd6bb",
   "metadata": {
    "ExecuteTime": {
     "end_time": "2023-07-19T21:14:40.515439Z",
     "start_time": "2023-07-19T21:14:39.643477Z"
    }
   },
   "outputs": [],
   "source": [
    "df_test[\"ind_risk\"].describe()"
   ]
  },
  {
   "cell_type": "code",
   "execution_count": null,
   "id": "b3a352b3",
   "metadata": {},
   "outputs": [],
   "source": []
  },
  {
   "cell_type": "code",
   "execution_count": null,
   "id": "ef5f9378",
   "metadata": {},
   "outputs": [],
   "source": []
  },
  {
   "cell_type": "code",
   "execution_count": null,
   "id": "4b150e38",
   "metadata": {},
   "outputs": [],
   "source": []
  },
  {
   "cell_type": "code",
   "execution_count": null,
   "id": "9e7fa2bb",
   "metadata": {},
   "outputs": [],
   "source": [
    "# feature_bounds = []\n",
    "\n",
    "# possible_values = {\n",
    "#     'age': [20, 86],\n",
    "#     'ind_risk': [0, 1],\n",
    "#     'income': [0, 150000],\n",
    "#     'pers_exp': [0, 6000],\n",
    "#     'house_exp': [0, 4000],\n",
    "#     'taxes': [0, 2500],\n",
    "#     'transp_telecom': [0, 2500],\n",
    "#     'hobby': [0, 3000],\n",
    "# }\n",
    "\n",
    "\n",
    "\n",
    "# for v in possible_values.values():\n",
    "    \n",
    "#     feature_bounds.append(tuple(v))\n",
    "\n",
    "\n",
    "# import numpy as np\n",
    "# from scipy.stats import norm\n",
    "# from sklearn.preprocessing import MinMaxScaler\n",
    "\n",
    "# def generate_synthetic_data_with_bounds(correlation_matrix, num_samples, feature_bounds):\n",
    "#     num_features = correlation_matrix.shape[0]\n",
    "#     lower_bounds, upper_bounds = zip(*feature_bounds)\n",
    "#     scaler = MinMaxScaler(feature_range=(0, 1))\n",
    "    \n",
    "#     # Check if the correlation matrix is valid (symmetric and positive definite)\n",
    "#     if not np.allclose(correlation_matrix, correlation_matrix.T):\n",
    "#         raise ValueError(\"Correlation matrix must be symmetric.\")\n",
    "#     if not np.all(np.linalg.eigvals(correlation_matrix) > 0):\n",
    "#         raise ValueError(\"Correlation matrix must be positive definite.\")\n",
    "    \n",
    "#     # Generate synthetic data using multivariate normal distribution\n",
    "#     mean = np.zeros(num_features)\n",
    "#     synthetic_data = np.random.multivariate_normal(mean, correlation_matrix, num_samples)\n",
    "    \n",
    "#     # Apply Gaussian copula to maintain correlation structure\n",
    "#     synthetic_data = norm.cdf(synthetic_data)\n",
    "    \n",
    "#     # Scale the data to the specified bounds for each feature\n",
    "#     for i in range(num_features):\n",
    "#         synthetic_data[:, i] = lower_bounds[i] + synthetic_data[:, i] * (upper_bounds[i] - lower_bounds[i])\n",
    "    \n",
    "#     return synthetic_data\n",
    "\n",
    "# # Example usage:\n",
    "# correlation_matrix = np.array(l_corr_matrix)\n",
    "\n",
    "# num_samples = 250000\n",
    "\n",
    "# synthetic_data = generate_synthetic_data_with_bounds(correlation_matrix, num_samples, feature_bounds)\n",
    "# print(synthetic_data)\n"
   ]
  },
  {
   "cell_type": "code",
   "execution_count": null,
   "id": "abb0645c",
   "metadata": {},
   "outputs": [],
   "source": [
    "# feature_bounds = []\n",
    "\n",
    "# possible_values = {\n",
    "#     'age': [20, 86],\n",
    "#     'ind_risk': [0, 1],\n",
    "#     'income': [0, 150000],\n",
    "#     'pers_exp': [0, 6000],\n",
    "#     'house_exp': [0, 4000],\n",
    "#     'taxes': [0, 2500],\n",
    "#     'transp_telecom': [0, 2500],\n",
    "#     'hobby': [0, 3000],\n",
    "# }\n",
    "\n",
    "\n",
    "\n",
    "# for v in possible_values.values():\n",
    "    \n",
    "#     feature_bounds.append(tuple(v))\n",
    "\n",
    "\n",
    "# import numpy as np\n",
    "# from scipy.stats import norm\n",
    "# from sklearn.preprocessing import MinMaxScaler\n",
    "\n",
    "# def generate_synthetic_data_with_bounds(correlation_matrix, num_samples, feature_bounds):\n",
    "#     num_features = correlation_matrix.shape[0]\n",
    "#     lower_bounds, upper_bounds = zip(*feature_bounds)\n",
    "#     scaler = MinMaxScaler(feature_range=(0, 1))\n",
    "    \n",
    "#     # Check if the correlation matrix is valid (symmetric and positive definite)\n",
    "#     if not np.allclose(correlation_matrix, correlation_matrix.T):\n",
    "#         raise ValueError(\"Correlation matrix must be symmetric.\")\n",
    "#     if not np.all(np.linalg.eigvals(correlation_matrix) > 0):\n",
    "#         raise ValueError(\"Correlation matrix must be positive definite.\")\n",
    "    \n",
    "#     # Generate synthetic data using multivariate normal distribution\n",
    "#     mean = np.zeros(num_features)\n",
    "#     synthetic_data = np.random.multivariate_normal(mean, correlation_matrix, num_samples)\n",
    "    \n",
    "#     # Apply Gaussian copula to maintain correlation structure\n",
    "#     synthetic_data = norm.cdf(synthetic_data)\n",
    "    \n",
    "#     # Scale the data to the specified bounds for each feature\n",
    "#     for i in range(num_features):\n",
    "#         synthetic_data[:, i] = lower_bounds[i] + synthetic_data[:, i] * (upper_bounds[i] - lower_bounds[i])\n",
    "    \n",
    "#     return synthetic_data\n",
    "\n",
    "# # Example usage:\n",
    "# correlation_matrix = np.array(l_corr_matrix)\n",
    "\n",
    "# num_samples = 250000\n",
    "\n",
    "# synthetic_data = generate_synthetic_data_with_bounds(correlation_matrix, num_samples, feature_bounds)\n",
    "# print(synthetic_data)\n"
   ]
  },
  {
   "cell_type": "code",
   "execution_count": null,
   "id": "ec94a906",
   "metadata": {},
   "outputs": [],
   "source": []
  },
  {
   "cell_type": "code",
   "execution_count": null,
   "id": "5cf7b78e",
   "metadata": {},
   "outputs": [],
   "source": []
  },
  {
   "cell_type": "code",
   "execution_count": null,
   "id": "cf079aa0",
   "metadata": {},
   "outputs": [],
   "source": []
  },
  {
   "cell_type": "code",
   "execution_count": null,
   "id": "1a689d71",
   "metadata": {},
   "outputs": [],
   "source": []
  },
  {
   "cell_type": "code",
   "execution_count": null,
   "id": "6a3ea185",
   "metadata": {
    "ExecuteTime": {
     "end_time": "2023-07-19T20:15:13.948425Z",
     "start_time": "2023-07-19T20:15:13.934869Z"
    }
   },
   "outputs": [],
   "source": []
  },
  {
   "cell_type": "code",
   "execution_count": null,
   "id": "23d5cb51",
   "metadata": {},
   "outputs": [],
   "source": []
  },
  {
   "cell_type": "code",
   "execution_count": null,
   "id": "8eba476d",
   "metadata": {},
   "outputs": [],
   "source": []
  },
  {
   "cell_type": "code",
   "execution_count": null,
   "id": "c46ccaf5",
   "metadata": {},
   "outputs": [],
   "source": []
  },
  {
   "cell_type": "markdown",
   "id": "d42ec764",
   "metadata": {},
   "source": [
    "# Old tests"
   ]
  },
  {
   "cell_type": "code",
   "execution_count": null,
   "id": "f0c12a60",
   "metadata": {},
   "outputs": [],
   "source": []
  },
  {
   "cell_type": "markdown",
   "id": "84fe5077",
   "metadata": {},
   "source": [
    "## TODO: Personal expenses"
   ]
  },
  {
   "cell_type": "markdown",
   "id": "bbad1b7b",
   "metadata": {},
   "source": [
    "## Apply business rules"
   ]
  },
  {
   "cell_type": "code",
   "execution_count": null,
   "id": "96ff83e2",
   "metadata": {},
   "outputs": [],
   "source": []
  },
  {
   "cell_type": "code",
   "execution_count": null,
   "id": "77c49ec8",
   "metadata": {
    "ExecuteTime": {
     "end_time": "2023-07-19T08:19:10.973368Z",
     "start_time": "2023-07-19T08:19:10.920827Z"
    }
   },
   "outputs": [],
   "source": [
    "# test = f\"[(df_merged['marit_stat'] =='Married') & (df_merged['house_memb'] >'2')]\"\n",
    "test = f\"[(df_merged['age'] <25) & (df_merged['lv_educ'] !='Higher')]\"\n",
    "\n",
    "list_mask = eval(test)\n",
    "df_merged[list_mask[0]]"
   ]
  },
  {
   "cell_type": "code",
   "execution_count": null,
   "id": "83fa4990",
   "metadata": {
    "ExecuteTime": {
     "end_time": "2023-07-19T07:58:14.381436Z",
     "start_time": "2023-07-19T07:58:14.366410Z"
    }
   },
   "outputs": [],
   "source": [
    "df_merged.columns"
   ]
  },
  {
   "cell_type": "code",
   "execution_count": null,
   "id": "4de6038b",
   "metadata": {
    "ExecuteTime": {
     "end_time": "2023-07-19T08:00:05.427843Z",
     "start_time": "2023-07-19T08:00:05.353816Z"
    }
   },
   "outputs": [],
   "source": [
    "df_merged.loc[(df_merged['marit_stat'] =='Married') & (df_merged['house_memb'] >'2')]"
   ]
  },
  {
   "cell_type": "markdown",
   "id": "c8018bbe",
   "metadata": {},
   "source": [
    "## Kolmogorov-Smirnov categorical tests"
   ]
  },
  {
   "cell_type": "code",
   "execution_count": null,
   "id": "b4528591",
   "metadata": {
    "ExecuteTime": {
     "end_time": "2023-07-19T19:15:26.616919Z",
     "start_time": "2023-07-19T19:15:26.601908Z"
    }
   },
   "outputs": [],
   "source": [
    "from scipy.stats import ks_2samp\n",
    "\n",
    "old = {'sex': {'labels': ['M', 'F'], 'values': [0.4854368932, 0.5145631068]}}\n",
    "new = {'sex': {'labels': ['M', 'F'], 'values': [0.476, 0.524]}}\n",
    "\n",
    "# Extract the values for each category in the old and new distributions\n",
    "old_values = old['sex']['values']\n",
    "new_values = new['sex']['values']\n",
    "\n",
    "# Perform the KS test\n",
    "ks_statistic, p_value = ks_2samp(old_values, new_values)\n",
    "\n",
    "# Define the significance level (alpha) to test against the p-value\n",
    "alpha = 0.05\n",
    "\n",
    "# Check if the p-value is less than the significance level\n",
    "if p_value < alpha:\n",
    "    print(\"The new distribution is significantly different from the old distribution.\")\n",
    "else:\n",
    "    print(\"The new distribution is not significantly different from the old distribution.\")\n"
   ]
  },
  {
   "cell_type": "code",
   "execution_count": null,
   "id": "cadeff48",
   "metadata": {
    "ExecuteTime": {
     "end_time": "2023-07-19T18:51:42.862646Z",
     "start_time": "2023-07-19T18:51:42.835796Z"
    }
   },
   "outputs": [],
   "source": [
    "from scipy.stats import ks_2samp\n",
    "import numpy as np\n",
    "\n",
    "np.random.seed(12345678)\n",
    "x = np.random.normal(0, 1, 1000)\n",
    "y = np.random.normal(0, 1, 1000)\n",
    "z = np.random.normal(1.1, 0.9, 1000)\n",
    "\n",
    "b = np.array([1,2,3,4,5])\n",
    "c = np.array([1,2,3,4,5])\n",
    "d = np.array([50, 100, 200, 400, 800])\n",
    "\n",
    "a = 0.05\n",
    "\n",
    "res = ks_2samp(x, y)\n",
    "res2 = ks_2samp(b,c)\n",
    "res3 = ks_2samp(b,d)\n",
    "print(\"x,y ks: \", ks_2samp(x, y))\n",
    "# Ks_2sampResult(statistic=0.022999999999999909, pvalue=0.95189016804849647)\n",
    "print(\"x,z ks: \", ks_2samp(x, z))\n",
    "print(\"b,c ks: \", ks_2samp(b, c))\n",
    "print(\"b,d ks: \", ks_2samp(b, d))\n",
    "\n",
    "\n",
    "# Ks_2sampResult(statistic=0.41800000000000004, pvalue=3.7081494119242173e-77)"
   ]
  },
  {
   "cell_type": "code",
   "execution_count": null,
   "id": "e43884f0",
   "metadata": {
    "ExecuteTime": {
     "end_time": "2023-07-19T18:51:44.022290Z",
     "start_time": "2023-07-19T18:51:44.008159Z"
    }
   },
   "outputs": [],
   "source": [
    "res3.pvalue <= a\n",
    "# False means Statistically insignificant - or the two distributions are considered the same!!!"
   ]
  },
  {
   "cell_type": "code",
   "execution_count": null,
   "id": "1fd27a4d",
   "metadata": {},
   "outputs": [],
   "source": []
  },
  {
   "cell_type": "code",
   "execution_count": null,
   "id": "b14e2e86",
   "metadata": {},
   "outputs": [],
   "source": []
  }
 ],
 "metadata": {
  "kernelspec": {
   "display_name": "Python [conda env:.conda-ss2023_v2]",
   "language": "python",
   "name": "conda-env-.conda-ss2023_v2-py"
  },
  "language_info": {
   "codemirror_mode": {
    "name": "ipython",
    "version": 3
   },
   "file_extension": ".py",
   "mimetype": "text/x-python",
   "name": "python",
   "nbconvert_exporter": "python",
   "pygments_lexer": "ipython3",
   "version": "3.9.6"
  },
  "latex_envs": {
   "LaTeX_envs_menu_present": true,
   "autoclose": false,
   "autocomplete": true,
   "bibliofile": "biblio.bib",
   "cite_by": "apalike",
   "current_citInitial": 1,
   "eqLabelWithNumbers": true,
   "eqNumInitial": 1,
   "hotkeys": {
    "equation": "Ctrl-E",
    "itemize": "Ctrl-I"
   },
   "labels_anchors": false,
   "latex_user_defs": false,
   "report_style_numbering": false,
   "user_envs_cfg": false
  },
  "toc": {
   "base_numbering": 1,
   "nav_menu": {},
   "number_sections": true,
   "sideBar": true,
   "skip_h1_title": false,
   "title_cell": "Table of Contents",
   "title_sidebar": "Contents",
   "toc_cell": false,
   "toc_position": {
    "height": "calc(100% - 180px)",
    "left": "10px",
    "top": "150px",
    "width": "326.9px"
   },
   "toc_section_display": true,
   "toc_window_display": true
  },
  "varInspector": {
   "cols": {
    "lenName": 16,
    "lenType": 16,
    "lenVar": 40
   },
   "kernels_config": {
    "python": {
     "delete_cmd_postfix": "",
     "delete_cmd_prefix": "del ",
     "library": "var_list.py",
     "varRefreshCmd": "print(var_dic_list())"
    },
    "r": {
     "delete_cmd_postfix": ") ",
     "delete_cmd_prefix": "rm(",
     "library": "var_list.r",
     "varRefreshCmd": "cat(var_dic_list()) "
    }
   },
   "position": {
    "height": "412.85px",
    "left": "1124.77px",
    "right": "20px",
    "top": "113px",
    "width": "530.467px"
   },
   "types_to_exclude": [
    "module",
    "function",
    "builtin_function_or_method",
    "instance",
    "_Feature"
   ],
   "window_display": false
  }
 },
 "nbformat": 4,
 "nbformat_minor": 5
}
